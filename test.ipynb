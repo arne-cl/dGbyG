{
 "cells": [
  {
   "cell_type": "code",
   "execution_count": 1,
   "metadata": {},
   "outputs": [],
   "source": [
    "import json, requests, os, time, scipy\n",
    "import pandas as pd\n",
    "import matplotlib.pyplot as plt\n",
    "from rdkit import Chem\n",
    "from rdkit.Chem.MolStandardize import rdMolStandardize\n",
    "from rdkit import RDLogger\n",
    "RDLogger.DisableLog('rdApp.*')\n",
    "\n",
    "import torch\n",
    "import torch.nn as nn\n",
    "from torch_geometric.loader import DataLoader\n",
    "\n",
    "#from dGbyG.Chemistry.Compound import Compound\n",
    "#from dGbyG.Chemistry.Reaction import Reaction\n",
    "from dGbyG.utils.constants import *\n",
    "from dGbyG.utils.ChemFunc import *\n",
    "from dGbyG.config import *\n",
    "from dGbyG.network.Dataset import Train_Dataset\n",
    "from dGbyG.network.GNNetwork import MP_network\n",
    "from dGbyG.train.trainer import Model\n",
    "from dGbyG.api.inference import Compound, Reaction"
   ]
  },
  {
   "cell_type": "code",
   "execution_count": 2,
   "metadata": {},
   "outputs": [],
   "source": [
    "s = '*C(=O)N([H])[C@]([H])(C(=O)N(*)[H])C([H])([H])O[H]'\n",
    "mol = to_mol('C00002', cid_type='kegg')"
   ]
  },
  {
   "cell_type": "code",
   "execution_count": 3,
   "metadata": {},
   "outputs": [],
   "source": [
    "m = Compound(mol)"
   ]
  },
  {
   "cell_type": "code",
   "execution_count": 4,
   "metadata": {},
   "outputs": [
    {
     "data": {
      "text/plain": [
       "array([-2295.881], dtype=float32)"
      ]
     },
     "execution_count": 4,
     "metadata": {},
     "output_type": "execute_result"
    }
   ],
   "source": [
    "m.standard_dGf_prime"
   ]
  },
  {
   "cell_type": "code",
   "execution_count": 5,
   "metadata": {},
   "outputs": [],
   "source": [
    "m.condition['pH'] = 8.0"
   ]
  },
  {
   "cell_type": "code",
   "execution_count": 6,
   "metadata": {},
   "outputs": [
    {
     "data": {
      "text/plain": [
       "array([-2224.8052], dtype=float32)"
      ]
     },
     "execution_count": 6,
     "metadata": {},
     "output_type": "execute_result"
    }
   ],
   "source": [
    "m.transformed_standard_dGf_prime"
   ]
  },
  {
   "cell_type": "code",
   "execution_count": 7,
   "metadata": {},
   "outputs": [
    {
     "data": {
      "text/plain": [
       "{'T': 298.15, 'pH': 8.0, 'I': 0.25, 'pMg': 14.0, 'e_potential': 0.0}"
      ]
     },
     "execution_count": 7,
     "metadata": {},
     "output_type": "execute_result"
    }
   ],
   "source": [
    "m.condition"
   ]
  },
  {
   "cell_type": "code",
   "execution_count": 8,
   "metadata": {},
   "outputs": [
    {
     "data": {
      "text/plain": [
       "{'T': 298.15, 'pH': 7.0, 'I': 0.25, 'pMg': 14.0, 'e_potential': 0.0}"
      ]
     },
     "execution_count": 8,
     "metadata": {},
     "output_type": "execute_result"
    }
   ],
   "source": [
    "default_condition"
   ]
  },
  {
   "cell_type": "code",
   "execution_count": null,
   "metadata": {},
   "outputs": [],
   "source": [
    "mm = m.mol\n",
    "atom = mm.GetAtomWithIdx(4)\n",
    "print(atom.GetSymbol())\n",
    "atom.SetFormalCharge(0)\n",
    "atom.GetNumExplicitHs()\n",
    "atom.GetNumImplicitHs()\n",
    "atom.SetNumExplicitHs(0)\n",
    "Chem.SanitizeMol(mm)"
   ]
  },
  {
   "cell_type": "code",
   "execution_count": 2,
   "metadata": {},
   "outputs": [],
   "source": [
    "r = {'[H+]': -1.0, '[Fe+2]': -1.0}\n",
    "#r = 'C01644 = C00001'"
   ]
  },
  {
   "cell_type": "code",
   "execution_count": 3,
   "metadata": {},
   "outputs": [],
   "source": [
    "R = Reaction(r, rxn_type='dict')"
   ]
  },
  {
   "cell_type": "code",
   "execution_count": 4,
   "metadata": {},
   "outputs": [
    {
     "data": {
      "text/plain": [
       "{'[H+]': -1.0, '[Fe+2]': -1.0}"
      ]
     },
     "execution_count": 4,
     "metadata": {},
     "output_type": "execute_result"
    }
   ],
   "source": [
    "R.rxnSmiles"
   ]
  },
  {
   "cell_type": "code",
   "execution_count": 5,
   "metadata": {},
   "outputs": [
    {
     "data": {
      "text/plain": [
       "False"
      ]
     },
     "execution_count": 5,
     "metadata": {},
     "output_type": "execute_result"
    }
   ],
   "source": [
    "R.is_balanced()"
   ]
  },
  {
   "cell_type": "code",
   "execution_count": 18,
   "metadata": {},
   "outputs": [],
   "source": [
    "R.balance()"
   ]
  },
  {
   "cell_type": "code",
   "execution_count": 19,
   "metadata": {},
   "outputs": [
    {
     "data": {
      "text/plain": [
       "'[H]OC([H])([H])[C@@]([H])(O[H])C(=O)[C@]([H])(O[H])[C@]([H])(O[H])C([H])([H])OP(=O)(O[H])O[H] = [H]OC([H])([H])C1(O[H])O[C@]([H])(C([H])([H])OP(=O)(O[H])O[H])[C@@]([H])(O[H])[C@]1([H])O[H]'"
      ]
     },
     "execution_count": 19,
     "metadata": {},
     "output_type": "execute_result"
    }
   ],
   "source": [
    "R.equationSmiles"
   ]
  },
  {
   "cell_type": "code",
   "execution_count": 13,
   "metadata": {},
   "outputs": [
    {
     "data": {
      "text/plain": [
       "True"
      ]
     },
     "execution_count": 13,
     "metadata": {},
     "output_type": "execute_result"
    }
   ],
   "source": [
    "R.is_balanced(ignore_H2O=False)"
   ]
  },
  {
   "cell_type": "code",
   "execution_count": null,
   "metadata": {},
   "outputs": [],
   "source": []
  },
  {
   "cell_type": "code",
   "execution_count": 12,
   "metadata": {},
   "outputs": [
    {
     "data": {
      "text/plain": [
       "False"
      ]
     },
     "execution_count": 12,
     "metadata": {},
     "output_type": "execute_result"
    }
   ],
   "source": [
    "R.can_be_transformed"
   ]
  },
  {
   "cell_type": "code",
   "execution_count": 13,
   "metadata": {},
   "outputs": [],
   "source": [
    "R.transform(condition1=default_condition, condition2=default_condition)"
   ]
  },
  {
   "cell_type": "code",
   "execution_count": 14,
   "metadata": {},
   "outputs": [],
   "source": [
    "a = parse_equation(r)"
   ]
  },
  {
   "cell_type": "code",
   "execution_count": 15,
   "metadata": {},
   "outputs": [
    {
     "name": "stdout",
     "output_type": "stream",
     "text": [
      "(('[H]OC([H])([H])[C@@]([H])(O[H])C(=O)[C@]([H])(O[H])[C@]([H])(O[H])C([H])([H])OP(=O)(O[H])O[H]', -1), 0)\n",
      "(('[H]OC([H])([H])C1(O[H])O[C@]([H])(C([H])([H])OP(=O)(O[H])O[H])[C@@]([H])(O[H])[C@]1([H])O[H]', 1), 9)\n"
     ]
    }
   ],
   "source": [
    "for x in zip(a.items(),[0,9,8]):\n",
    "    print(x)"
   ]
  },
  {
   "cell_type": "code",
   "execution_count": 16,
   "metadata": {},
   "outputs": [],
   "source": [
    "d = pd.read_csv(kegg_additions_csv_path, index_col=0)"
   ]
  },
  {
   "cell_type": "code",
   "execution_count": 17,
   "metadata": {},
   "outputs": [],
   "source": [
    "m0 = Compound(to_mol('[H]OC1([H])C([H])(n2c([H])nc3c(N([H])[H])nc([H])nc32)OC([H])(C([H])([H])OP(=O)(O[H])OP(=O)([O-])OC([H])([H])C2([H])OC([H])([n+]3c([H])c([H])c([H])c(C(=O)C([H])([H])[H])c3[H])C([H])(O[H])C2([H])O[H])C1([H])O[H]', cid_type='smiles'))"
   ]
  },
  {
   "cell_type": "code",
   "execution_count": 18,
   "metadata": {},
   "outputs": [],
   "source": [
    "m0 = m0.mol"
   ]
  },
  {
   "cell_type": "code",
   "execution_count": 19,
   "metadata": {},
   "outputs": [
    {
     "data": {
      "image/png": "[encoded data removed]",
      "text/plain": [
       "<rdkit.Chem.rdchem.Mol at 0x7f0945d6b040>"
      ]
     },
     "execution_count": 19,
     "metadata": {},
     "output_type": "execute_result"
    }
   ],
   "source": [
    "m0"
   ]
  },
  {
   "cell_type": "code",
   "execution_count": 20,
   "metadata": {},
   "outputs": [
    {
     "data": {
      "text/plain": [
       "'[H]OC1([H])C([H])(n2c([H])nc3c(N([H])[H])nc([H])nc32)OC([H])(C([H])([H])OP(=O)(O[H])OP(=O)([O-])OC([H])([H])C2([H])OC([H])([n+]3c([H])c([H])c([H])c(C(=O)C([H])([H])[H])c3[H])C([H])(O[H])C2([H])O[H])C1([H])O[H]'"
      ]
     },
     "execution_count": 20,
     "metadata": {},
     "output_type": "execute_result"
    }
   ],
   "source": [
    "Compound(m0).Smiles"
   ]
  },
  {
   "cell_type": "code",
   "execution_count": 21,
   "metadata": {},
   "outputs": [
    {
     "data": {
      "image/png": "[encoded data removed]",
      "text/plain": [
       "<rdkit.Chem.rdchem.Mol at 0x7f0945d6b190>"
      ]
     },
     "execution_count": 21,
     "metadata": {},
     "output_type": "execute_result"
    }
   ],
   "source": [
    "normalize_mol(m0)"
   ]
  },
  {
   "cell_type": "code",
   "execution_count": 22,
   "metadata": {},
   "outputs": [
    {
     "data": {
      "text/plain": [
       "'CC(=O)c1ccc[n+](C2OC(COP(=O)([O-])OP(=O)(O)OCC3OC(n4cnc5c(N)ncnc54)C(O)C3O)C(O)C2O)c1'"
      ]
     },
     "execution_count": 22,
     "metadata": {},
     "output_type": "execute_result"
    }
   ],
   "source": [
    "rdMolStandardize.StandardizeSmiles('[H]OC1([H])C([H])(n2c([H])nc3c(N([H])[H])nc([H])nc32)OC([H])(C([H])([H])OP(=O)(O[H])OP(=O)([O-])OC([H])([H])C2([H])OC([H])([n+]3c([H])c([H])c([H])c(C(=O)C([H])([H])[H])c3[H])C([H])(O[H])C2([H])O[H])C1([H])O[H]')"
   ]
  },
  {
   "cell_type": "code",
   "execution_count": 23,
   "metadata": {},
   "outputs": [
    {
     "data": {
      "image/png": "[encoded data removed]",
      "text/plain": [
       "<rdkit.Chem.rdchem.Mol at 0x7f0945d6b040>"
      ]
     },
     "execution_count": 23,
     "metadata": {},
     "output_type": "execute_result"
    }
   ],
   "source": [
    "m0"
   ]
  },
  {
   "cell_type": "code",
   "execution_count": 24,
   "metadata": {},
   "outputs": [
    {
     "data": {
      "text/plain": [
       "'[H]OC1([H])C([H])(n2c([H])nc3c(N([H])[H])nc([H])nc32)OC([H])(C([H])([H])OP(=O)(O[H])OP(=O)([O-])OC([H])([H])C2([H])OC([H])([n+]3c([H])c([H])c([H])c(C(=O)C([H])([H])[H])c3[H])C([H])(O[H])C2([H])O[H])C1([H])O[H]'"
      ]
     },
     "execution_count": 24,
     "metadata": {},
     "output_type": "execute_result"
    }
   ],
   "source": [
    "Compound(m0).Smiles"
   ]
  },
  {
   "cell_type": "code",
   "execution_count": 25,
   "metadata": {},
   "outputs": [],
   "source": [
    "u = rdMolStandardize.Uncharger()\n",
    "m00 = u.uncharge(m0)"
   ]
  },
  {
   "cell_type": "code",
   "execution_count": 26,
   "metadata": {},
   "outputs": [
    {
     "data": {
      "image/png": "[encoded data removed]",
      "text/plain": [
       "<rdkit.Chem.rdchem.Mol at 0x7f0945d6b5f0>"
      ]
     },
     "execution_count": 26,
     "metadata": {},
     "output_type": "execute_result"
    }
   ],
   "source": [
    "Chem.AddHs(m00)"
   ]
  },
  {
   "cell_type": "code",
   "execution_count": 27,
   "metadata": {},
   "outputs": [
    {
     "data": {
      "text/plain": [
       "'[H]OC1([H])C([H])(n2c([H])nc3c(N([H])[H])nc([H])nc32)OC([H])(C([H])([H])OP(=O)(O[H])OP(=O)([O-])OC([H])([H])C2([H])OC([H])([n+]3c([H])c([H])c([H])c(C(=O)C([H])([H])[H])c3[H])C([H])(O[H])C2([H])O[H])C1([H])O[H]'"
      ]
     },
     "execution_count": 27,
     "metadata": {},
     "output_type": "execute_result"
    }
   ],
   "source": [
    "Compound(Chem.AddHs(m00)).Smiles"
   ]
  },
  {
   "cell_type": "code",
   "execution_count": 28,
   "metadata": {},
   "outputs": [
    {
     "data": {
      "text/plain": [
       "'[H][O][C]1([H])[C]([H])([n]2[c]([H])[n][c]3[c]([N]([H])[H])[n][c]([H])[n][c]32)[O][C]([H])([C]([H])([H])[O][P](=[O])([O][H])[O][P](=[O])([O-])[O][C]([H])([H])[C]2([H])[O][C]([H])([n+]3[c]([H])[c]([H])[c]([H])[c]([C](=[O])[C]([H])([H])[H])[c]3[H])[C]([H])([O][H])[C]2([H])[O][H])[C]1([H])[O][H]'"
      ]
     },
     "execution_count": 28,
     "metadata": {},
     "output_type": "execute_result"
    }
   ],
   "source": [
    "Chem.MolToSmiles(m0, allHsExplicit=True)"
   ]
  },
  {
   "cell_type": "code",
   "execution_count": 29,
   "metadata": {},
   "outputs": [
    {
     "data": {
      "text/plain": [
       "'[H]OC1([H])C([H])(n2c([H])nc3c(N([H])[H])nc([H])nc32)OC([H])(C([H])([H])OP(=O)(O[H])OP(=O)([O-])OC([H])([H])C2([H])OC([H])([n+]3c([H])c([H])c([H])c(C(=O)C([H])([H])[H])c3[H])C([H])(O[H])C2([H])O[H])C1([H])O[H]'"
      ]
     },
     "execution_count": 29,
     "metadata": {},
     "output_type": "execute_result"
    }
   ],
   "source": [
    "Chem.MolToSmiles(m0)"
   ]
  },
  {
   "cell_type": "code",
   "execution_count": 30,
   "metadata": {},
   "outputs": [
    {
     "data": {
      "image/png": "[encoded data removed]",
      "text/plain": [
       "<rdkit.Chem.rdchem.Mol at 0x7f0945d6b3c0>"
      ]
     },
     "execution_count": 30,
     "metadata": {},
     "output_type": "execute_result"
    }
   ],
   "source": [
    "rdMolStandardize.Normalize(m0, )"
   ]
  },
  {
   "cell_type": "code",
   "execution_count": 31,
   "metadata": {},
   "outputs": [],
   "source": [
    "a = rdMolStandardize.ChargeParent(m0)"
   ]
  },
  {
   "cell_type": "code",
   "execution_count": 32,
   "metadata": {},
   "outputs": [
    {
     "data": {
      "text/plain": [
       "'CC(=O)c1ccc[n+](C2OC(COP(=O)([O-])OP(=O)(O)OCC3OC(n4cnc5c(N)ncnc54)C(O)C3O)C(O)C2O)c1'"
      ]
     },
     "execution_count": 32,
     "metadata": {},
     "output_type": "execute_result"
    }
   ],
   "source": [
    "Chem.MolToSmiles(a)"
   ]
  },
  {
   "cell_type": "code",
   "execution_count": 33,
   "metadata": {},
   "outputs": [
    {
     "data": {
      "text/plain": [
       "'[H]OC1([H])C([H])(n2c([H])nc3c(N([H])[H])nc([H])nc32)OC([H])(C([H])([H])OP(=O)(O[H])OP(=O)([O-])OC([H])([H])C2([H])OC([H])([n+]3c([H])c([H])c([H])c(C(=O)C([H])([H])[H])c3[H])C([H])(O[H])C2([H])O[H])C1([H])O[H]'"
      ]
     },
     "execution_count": 33,
     "metadata": {},
     "output_type": "execute_result"
    }
   ],
   "source": [
    "Chem.MolToSmiles(m0)"
   ]
  },
  {
   "cell_type": "code",
   "execution_count": 13,
   "metadata": {},
   "outputs": [
    {
     "name": "stderr",
     "output_type": "stream",
     "text": [
      "[H+]\t8\t\t\t\"pka: Inconsistent molecular structure.\"\n",
      "[H][#8]P(=O)([#8][H])[#8]C([H])([H])[C@]([H])([#7]([H])-[#6](-*)=O)[#6](=O)-[#7]([H])-*\t67\t\t\t\"pka: Calculation result is not defined for query molecules: [#8]P([#8])(=O)[#8]-[#6]-[#6@H](-[#7]-[#6](-*)=O)-[#6](=O)-[#7]-*\"\n",
      "[H][#8][C@]([H])(C([H])([H])[H])C([H])([H])[#6](=O)-[#16]-*\t87\t\t\t\"pka: Calculation result is not defined for query molecules: [#6]-[#6@@H](-[#8])-[#6]-[#6](=O)-[#16]-*\"\n",
      "[H][#8][C@@]1([H])[C@@]([H])([#8][H])[C@@]([H])([#8]P(=O)([#8][H])[#8]C([H])([H])[C@]([H])([#8]-[#6](-*)=O)C([H])([H])[#8]-[#6](-*)=O)[C@]([H])([#8][H])[C@@]([H])([#8][H])[C@]1([H])[#8]P(=O)([#8][H])[#8][H]\t109\t\t\t\"pka: Calculation result is not defined for query molecules: [#8]-[#6@H]-1-[#6@@H](-[#8])-[#6@@H](-[#8]P([#8])(=O)[#8]-[#6]-[#6@@H](-[#6]-[#8]-[#6](-*)=O)-[#8]-[#6](-*)=O)-[#6@H](-[#8])-[#6@@H](-[#8])-[#6@@H]-1-[#8]P([#8])([#8])=O\"\n",
      "[H][#8]C([H])([H])[C@]([H])([#7]([H])-[#6](-*)=O)[#6](=O)-[#7]([H])-*\t226\t\t\t\"pka: Calculation result is not defined for query molecules: [#8]-[#6]-[#6@H](-[#7]-[#6](-*)=O)-[#6](=O)-[#7]-*\"\n",
      "[H][#7](-*)[C@]1([H])[#6](=O)-[#7]([H])[C@@]([H])(*)[#6](=O)-[#7]([H])[C@@]([H])(*)[#6](=O)-[#7]([H])[C@]([H])([#6](-*)=O)C([H])([H])[#16]-[#16]C1([H])[H]\t245\t\t\t\"pka: Calculation result is not defined for query molecules: *-[#7]-[#6@H]-1-[#6]-[#16]-[#16]-[#6]-[#6@H](-[#7]-[#6](=O)-[#6@H](-*)-[#7]-[#6](=O)-[#6@H](-*)-[#7]-[#6]-1=O)-[#6](-*)=O\"\n",
      "[H]\\[#6](=[#6](\\[H])C([H])([H])[H])-[#6](=O)-[#16]-*\t261\t\t\t\"pka: Calculation result is not defined for query molecules: [#6]\\\\[#6]=[#6]\\\\[#6](=O)-[#16]-*\"\n",
      "[H][#16]-*\t292\t\t\t\"pka: Calculation result is not defined for query molecules: [#16]-*\"\n",
      "[H][#8][C@@]1([H])[C@@]([H])([#8][C@]([H])(C([H])([H])[#8]P(=O)([#8][H])[#8]-c2c([H])c([H])c(c([H])c2[H])C([H])([H])[C@]([H])([#7]([H])-[#6](-*)=O)[#6](=O)-[#7]([H])-*)[C@@]1([H])[#8][H])n1c([H])nc2c(nc([H])nc12)-[#7]([H])[H]\t326\t\t\t\"pka: Calculation result is not defined for query molecules: [#7]-c1ncnc2n(cnc12)-[#6@@H]-1-[#8]-[#6@H](-[#6]-[#8]P([#8])(=O)[#8]-c2ccc(-[#6]-[#6@H](-[#7]-[#6](-*)=O)-[#6](=O)-[#7]-*)cc2)-[#6@@H](-[#8])-[#6@H]-1-[#8]\"\n",
      "[H][#8][C@@]1([H])[C@]([H])([#8][H])[C@@]([H])([#8][H])[C@]([H])([#8]P(=O)([#8][H])[#8]C([H])([H])C([H])([#8]-[#6](-*)=O)C([H])([H])[#8]-[#6](-*)=O)[C@]([H])([#8][H])[C@]1([H])[#8][H]\t430\t\t\t\"pka: Calculation result is not defined for query molecules: [#8]-[#6@H]-1-[#6@H](-[#8])-[#6@@H](-[#8])-[#6@H](-[#8]P([#8])(=O)[#8]-[#6]-[#6](-[#6]-[#8]-[#6](-*)=O)-[#8]-[#6](-*)=O)-[#6@H](-[#8])-[#6@@H]-1-[#8]\"\n",
      "[H][#8]-c1c([H])c([H])c(c([H])c1[H])C([H])([H])[C@]([H])([#7]([H])-[#6](-*)=O)[#6](=O)-[#7]([H])-*\t484\t\t\t\"pka: Calculation result is not defined for query molecules: [#8]-c1ccc(-[#6]-[#6@H](-[#7]-[#6](-*)=O)-[#6](=O)-[#7]-*)cc1\"\n",
      "[H][#16]C([H])([H])[C@]([H])([#7]([H])-*)[#6](=O)-[#7]([H])[C@@]([H])(*)[#6](=O)-[#7]([H])[C@@]([H])(*)[#6](=O)-[#7]([H])[C@]([H])([#6](-*)=O)C([H])([H])[#16][H]\t496\t\t\t\"pka: Calculation result is not defined for query molecules: [#16]-[#6]-[#6@H](-[#7]-*)-[#6](=O)-[#7]-[#6@@H](-*)-[#6](=O)-[#7]-[#6@@H](-*)-[#6](=O)-[#7]-[#6@@H](-[#6]-[#16])-[#6](-*)=O\"\n",
      "[H][#8]-[#6](=O)C([H])([H])[#6](=O)-[#16]-*\t513\t\t\t\"pka: Calculation result is not defined for query molecules: [#8]-[#6](=O)-[#6]-[#6](=O)-[#16]-*\"\n",
      "[H]C([H])([H])[#6](=O)-[#16]-*\t518\t\t\t\"pka: Calculation result is not defined for query molecules: [#6]-[#6](=O)-[#16]-*\"\n"
     ]
    }
   ],
   "source": [
    "a = os.popen(f\"cxcalc pKa -t acidic,basic -a 8 -b 8 test.smi\")\n",
    "with open('test.tsv', 'w') as f:\n",
    "    f.write(a.read())\n"
   ]
  },
  {
   "cell_type": "code",
   "execution_count": 14,
   "metadata": {},
   "outputs": [],
   "source": [
    "s = [x.strip() for x in open('test.smi', 'r').readlines()]"
   ]
  },
  {
   "cell_type": "code",
   "execution_count": 15,
   "metadata": {},
   "outputs": [],
   "source": [
    "p = pd.read_csv('test.tsv', sep='\\t').drop(columns='id')\n",
    "p.index = s\n",
    "p = p.reset_index()\n",
    "p = p.rename(columns={'index':'smiles'})"
   ]
  },
  {
   "cell_type": "code",
   "execution_count": 16,
   "metadata": {},
   "outputs": [],
   "source": [
    "op = pd.read_csv(chemaxon_pka_csv_path)\n",
    "p = pd.concat([op,p])"
   ]
  },
  {
   "cell_type": "code",
   "execution_count": 17,
   "metadata": {},
   "outputs": [],
   "source": [
    "p = p.drop_duplicates()"
   ]
  },
  {
   "cell_type": "code",
   "execution_count": 18,
   "metadata": {},
   "outputs": [],
   "source": [
    "p.to_csv(chemaxon_pka_csv_path, index=False)"
   ]
  },
  {
   "cell_type": "code",
   "execution_count": 23,
   "metadata": {},
   "outputs": [],
   "source": [
    "m = to_mol('C00033', cid_type='kegg')\n",
    "#m = to_mol('[Fe]', cid_type='smiles')"
   ]
  },
  {
   "cell_type": "code",
   "execution_count": 24,
   "metadata": {},
   "outputs": [],
   "source": [
    "m = Compound(m)"
   ]
  },
  {
   "cell_type": "code",
   "execution_count": 30,
   "metadata": {},
   "outputs": [
    {
     "data": {
      "text/plain": [
       "{'[H]OC(=O)C([H])([H])[H]': 1}"
      ]
     },
     "execution_count": 30,
     "metadata": {},
     "output_type": "execute_result"
    }
   ],
   "source": [
    "Reaction(m.Smiles).rxnSmiles"
   ]
  },
  {
   "cell_type": "code",
   "execution_count": 26,
   "metadata": {},
   "outputs": [
    {
     "data": {
      "text/plain": [
       "14.042742763091155"
      ]
     },
     "execution_count": 26,
     "metadata": {},
     "output_type": "execute_result"
    }
   ],
   "source": [
    "m.ddGf()"
   ]
  },
  {
   "cell_type": "code",
   "execution_count": 27,
   "metadata": {},
   "outputs": [
    {
     "data": {
      "text/plain": [
       "{'acidicValuesByAtom': [{'atomIndex': 2, 'value': 4.54}],\n",
       " 'basicValuesByAtom': []}"
      ]
     },
     "execution_count": 27,
     "metadata": {},
     "output_type": "execute_result"
    }
   ],
   "source": [
    "get_pKa(m, source='file')"
   ]
  },
  {
   "cell_type": "code",
   "execution_count": null,
   "metadata": {},
   "outputs": [],
   "source": []
  }
 ],
 "metadata": {
  "kernelspec": {
   "display_name": "dGbyG",
   "language": "python",
   "name": "python3"
  },
  "language_info": {
   "codemirror_mode": {
    "name": "ipython",
    "version": 3
   },
   "file_extension": ".py",
   "mimetype": "text/x-python",
   "name": "python",
   "nbconvert_exporter": "python",
   "pygments_lexer": "ipython3",
   "version": "3.9.16"
  },
  "orig_nbformat": 4
 },
 "nbformat": 4,
 "nbformat_minor": 2
}
