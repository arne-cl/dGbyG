{
 "cells": [
  {
   "cell_type": "code",
   "execution_count": 1,
   "metadata": {},
   "outputs": [],
   "source": [
    "import json, requests, os, time, scipy\n",
    "import pandas as pd\n",
    "from scipy import sparse\n",
    "from typing import Dict, List\n",
    "from copy import deepcopy\n",
    "from tqdm import tqdm\n",
    "import matplotlib.pyplot as plt\n",
    "from rdkit import Chem\n",
    "from rdkit.Chem.MolStandardize import rdMolStandardize\n",
    "from rdkit import RDLogger\n",
    "from rdkit.Chem import rdFMCS\n",
    "#import seaborn as sns\n",
    "RDLogger.DisableLog('rdApp.*')\n",
    "\n",
    "import torch\n",
    "import torch.nn as nn\n",
    "from torch_geometric.loader import DataLoader\n",
    "\n",
    "from dGbyG.utils.constants import *\n",
    "from dGbyG.utils.ChemFunc import *\n",
    "from dGbyG.utils.NNFunc import mol_to_graph_data, one_hot, atom_funs, old_mol_to_graph_data\n",
    "from dGbyG.config import *\n",
    "from dGbyG.network.Dataset import Train_Dataset\n",
    "from dGbyG.network.GNNetwork import MP_network\n",
    "from dGbyG.network.trainer import Model\n",
    "from dGbyG.api import Compound, Reaction, predict_standard_dGf_prime, predict_standard_dGr_prime_from_rxn\n",
    "from dGbyG.config import train_data_path"
   ]
  },
  {
   "cell_type": "code",
   "execution_count": 2,
   "metadata": {},
   "outputs": [],
   "source": [
    "TrainingData_df = pd.read_csv(train_data_path)\n",
    "mean_std = TrainingData_df.loc[:,'std'].mean()\n",
    "\n",
    "Scale = []\n",
    "for n, sem in zip(TrainingData_df.loc[:,'n'], TrainingData_df.loc[:,'SEM']):\n",
    "    if np.isnan(sem):\n",
    "        scale = mean_std\n",
    "    else:\n",
    "        scale = (sem**2 + mean_std**2/n)**0.5\n",
    "    Scale.append(scale)\n",
    "Scale = np.array(Scale)\n",
    "\n",
    "equation = TrainingData_df.loc[:, 'reaction']\n",
    "standard_dG_prime = TrainingData_df.loc[:, 'standard_dg_prime']\n",
    "weight = 1/np.array(Scale)/np.median(Scale)"
   ]
  },
  {
   "cell_type": "code",
   "execution_count": 11,
   "metadata": {},
   "outputs": [],
   "source": [
    "Y = []\n",
    "for i in set(TrainingData_df.type.to_list()):\n",
    "    y = TrainingData_df.loc[TrainingData_df.type==i, 'standard_dg_prime'].to_numpy()\n",
    "    Y.append(y)"
   ]
  },
  {
   "cell_type": "code",
   "execution_count": 26,
   "metadata": {},
   "outputs": [
    {
     "name": "stderr",
     "output_type": "stream",
     "text": [
      "<>:2: SyntaxWarning: invalid escape sequence '\\D'\n",
      "<>:2: SyntaxWarning: invalid escape sequence '\\D'\n",
      "<>:2: SyntaxWarning: invalid escape sequence '\\D'\n",
      "<>:2: SyntaxWarning: invalid escape sequence '\\D'\n",
      "/tmp/ipykernel_95881/771633364.py:2: SyntaxWarning: invalid escape sequence '\\D'\n",
      "  plt.xticks([0,1], ['$\\Delta$$_{0}$G$^{1}$'.format('r', chr(959)), '$\\Delta$$_{0}$G$^{1}$'.format('f', chr(959))])\n",
      "/tmp/ipykernel_95881/771633364.py:2: SyntaxWarning: invalid escape sequence '\\D'\n",
      "  plt.xticks([0,1], ['$\\Delta$$_{0}$G$^{1}$'.format('r', chr(959)), '$\\Delta$$_{0}$G$^{1}$'.format('f', chr(959))])\n"
     ]
    },
    {
     "data": {
      "image/png": "[encoded data removed]",
      "text/plain": [
       "<Figure size 640x480 with 1 Axes>"
      ]
     },
     "metadata": {},
     "output_type": "display_data"
    }
   ],
   "source": [
    "plt.violinplot(Y, [0,1], showmeans=True, showmedians=True)\n",
    "plt.xticks([0,1], ['$\\Delta$$_{0}$G$^{1}$'.format('r', chr(959)), '$\\Delta$$_{0}$G$^{1}$'.format('f', chr(959))])\n",
    "\n",
    "plt.ylabel(r'Observed $\\Delta$G$^{0}$(kJ/mol)', labelpad=10)\n",
    "plt.show()"
   ]
  },
  {
   "cell_type": "code",
   "execution_count": 3,
   "metadata": {},
   "outputs": [],
   "source": [
    "r = Reaction('C00002 + C00101 + C00025 <=> C00008 + C00009 + C09332', cid_type='kegg')"
   ]
  },
  {
   "cell_type": "code",
   "execution_count": 4,
   "metadata": {},
   "outputs": [
    {
     "data": {
      "text/plain": [
       "(-9.774547576904297, 20.651587)"
      ]
     },
     "execution_count": 4,
     "metadata": {},
     "output_type": "execute_result"
    }
   ],
   "source": [
    "r.transformed_standard_dGr_prime"
   ]
  },
  {
   "cell_type": "code",
   "execution_count": 2,
   "metadata": {},
   "outputs": [],
   "source": [
    "from collections import namedtuple\n",
    "AtomInfo = namedtuple('AtomInfo',('mapnum','reactant','reactantAtom','product','productAtom'))\n",
    "def map_reacting_atoms_to_products(rxn,reactingAtoms):\n",
    "    ''' figures out which atoms in the products each mapped atom in the reactants maps to '''\n",
    "    res = []\n",
    "    for ridx,reacting in enumerate(reactingAtoms):\n",
    "        reactant = rxn.GetReactantTemplate(ridx)\n",
    "        for raidx in reacting:\n",
    "            mapnum = reactant.GetAtomWithIdx(raidx).GetAtomMapNum()\n",
    "            foundit=False\n",
    "            for pidx,product in enumerate(rxn.GetProducts()):\n",
    "                for paidx,patom in enumerate(product.GetAtoms()):\n",
    "                    if patom.GetAtomMapNum()==mapnum:\n",
    "                        res.append(AtomInfo(mapnum,ridx,raidx,pidx,paidx))\n",
    "                        foundit = True\n",
    "                        break\n",
    "                    if foundit:\n",
    "                        break\n",
    "    return res\n",
    "def get_mapped_neighbors(atom):\n",
    "    ''' test all mapped neighbors of a mapped atom'''\n",
    "    res = {}\n",
    "    amap = atom.GetAtomMapNum()\n",
    "    if not amap:\n",
    "        return res\n",
    "    for nbr in atom.GetNeighbors():\n",
    "        nmap = nbr.GetAtomMapNum()\n",
    "        if nmap:\n",
    "            if amap>nmap:\n",
    "                res[(nmap,amap)] = (atom.GetIdx(),nbr.GetIdx())\n",
    "            else:\n",
    "                res[(amap,nmap)] = (nbr.GetIdx(),atom.GetIdx())\n",
    "    return res\n",
    "\n",
    "BondInfo = namedtuple('BondInfo',('product','productAtoms','productBond','status'))\n",
    "def find_modifications_in_products(rxn):\n",
    "    ''' returns a 2-tuple with the modified atoms and bonds from the reaction '''\n",
    "    reactingAtoms = rxn.GetReactingAtoms()\n",
    "    amap = map_reacting_atoms_to_products(rxn,reactingAtoms)\n",
    "    res = []\n",
    "    seen = set()\n",
    "    # this is all driven from the list of reacting atoms:\n",
    "    for _,ridx,raidx,pidx,paidx in amap:\n",
    "        reactant = rxn.GetReactantTemplate(ridx)\n",
    "        ratom = reactant.GetAtomWithIdx(raidx)\n",
    "        product = rxn.GetProductTemplate(pidx)\n",
    "        patom = product.GetAtomWithIdx(paidx)\n",
    "\n",
    "        rnbrs = get_mapped_neighbors(ratom)\n",
    "        pnbrs = get_mapped_neighbors(patom)\n",
    "        for tpl in pnbrs:\n",
    "            pbond = product.GetBondBetweenAtoms(*pnbrs[tpl])\n",
    "            if (pidx,pbond.GetIdx()) in seen:\n",
    "                continue\n",
    "            seen.add((pidx,pbond.GetIdx()))\n",
    "            if not tpl in rnbrs:\n",
    "                # new bond in product\n",
    "                res.append(BondInfo(pidx,pnbrs[tpl],pbond.GetIdx(),'New'))\n",
    "            else:\n",
    "                # present in both reactants and products, check to see if it changed\n",
    "                rbond = reactant.GetBondBetweenAtoms(*rnbrs[tpl])\n",
    "                if rbond.GetBondType()!=pbond.GetBondType():\n",
    "                    res.append(BondInfo(pidx,pnbrs[tpl],pbond.GetIdx(),'Changed'))\n",
    "    return amap,res"
   ]
  },
  {
   "cell_type": "code",
   "execution_count": 3,
   "metadata": {},
   "outputs": [
    {
     "name": "stderr",
     "output_type": "stream",
     "text": [
      "  0%|          | 0/2247 [00:00<?, ?it/s]"
     ]
    }
   ],
   "source": [
    "n = 0\n",
    "files = os.listdir('/mnt/NFS/fanwc/Recon3D/atomMappingData/atomMappedRxns/')[5201:]\n",
    "for r_path in tqdm(files):\n",
    "    r_path = os.path.join('/mnt/NFS/fanwc/Recon3D/atomMappingData/atomMappedRxns', r_path)\n",
    "    rxn = Chem.AllChem.ReactionFromRxnFile(r_path)\n",
    "    mols = []\n",
    "    for mol in list(rxn.GetReactants()) + list(rxn.GetProducts()):\n",
    "        mol = remove_map_num(mol)\n",
    "        try:\n",
    "            comp = Compound(mol)\n",
    "            mols.append(comp)\n",
    "        except:\n",
    "            pass\n",
    "    #break"
   ]
  },
  {
   "cell_type": "code",
   "execution_count": 37,
   "metadata": {},
   "outputs": [
    {
     "ename": "IndexError",
     "evalue": "list index out of range",
     "output_type": "error",
     "traceback": [
      "\u001b[0;31m---------------------------------------------------------------------------\u001b[0m",
      "\u001b[0;31mIndexError\u001b[0m                                Traceback (most recent call last)",
      "\u001b[1;32m/home/fanwc/dGbyG/test.ipynb Cell 4\u001b[0m line \u001b[0;36m1\n\u001b[0;32m----> <a href='vscode-notebook-cell://ssh-remote%2B7b22686f73744e616d65223a224461695f6e6577227d/home/fanwc/dGbyG/test.ipynb#Y254sdnNjb2RlLXJlbW90ZQ%3D%3D?line=0'>1</a>\u001b[0m mols[\u001b[39m8\u001b[39;49m]\u001b[39m.\u001b[39mpKa()\n",
      "\u001b[0;31mIndexError\u001b[0m: list index out of range"
     ]
    }
   ],
   "source": [
    "mols[8].pKa()"
   ]
  },
  {
   "cell_type": "code",
   "execution_count": 22,
   "metadata": {},
   "outputs": [
    {
     "data": {
      "text/plain": [
       "{'acidicValuesByAtom': [{'atomIndex': 39, 'value': 1.75},\n",
       "  {'atomIndex': 34, 'value': 3.16},\n",
       "  {'atomIndex': 41, 'value': 7.42},\n",
       "  {'atomIndex': 17, 'value': 10.16},\n",
       "  {'atomIndex': 2, 'value': 13.98}],\n",
       " 'basicValuesByAtom': [{'atomIndex': 13, 'value': 0.47},\n",
       "  {'atomIndex': 16, 'value': -1.58},\n",
       "  {'atomIndex': 2, 'value': -3.24},\n",
       "  {'atomIndex': 23, 'value': -6.74}]}"
      ]
     },
     "execution_count": 22,
     "metadata": {},
     "output_type": "execute_result"
    }
   ],
   "source": [
    "comp.pKa()"
   ]
  },
  {
   "cell_type": "code",
   "execution_count": 21,
   "metadata": {},
   "outputs": [],
   "source": [
    "con2 = default_condition.copy()\n",
    "con2['pH'] = 7.2"
   ]
  },
  {
   "cell_type": "code",
   "execution_count": 13,
   "metadata": {},
   "outputs": [],
   "source": [
    "r_path = os.path.join('/mnt/NFS/fanwc/Recon3D/atomMappingData/atomMappedRxns/', 'RE3201C.rxn')\n",
    "rxn = Chem.AllChem.ReactionFromRxnFile(r_path)"
   ]
  },
  {
   "cell_type": "code",
   "execution_count": 15,
   "metadata": {},
   "outputs": [],
   "source": [
    "for mol in rxn.GetReactants():\n",
    "    comp = Compound(mol)"
   ]
  },
  {
   "cell_type": "code",
   "execution_count": 22,
   "metadata": {},
   "outputs": [
    {
     "data": {
      "text/plain": [
       "6.8193355564596345"
      ]
     },
     "execution_count": 22,
     "metadata": {},
     "output_type": "execute_result"
    }
   ],
   "source": [
    "comp.transform(condition1=default_condition, condition2=con2)"
   ]
  },
  {
   "cell_type": "code",
   "execution_count": 23,
   "metadata": {},
   "outputs": [
    {
     "data": {
      "text/plain": [
       "array(189.10577, dtype=float32)"
      ]
     },
     "execution_count": 23,
     "metadata": {},
     "output_type": "execute_result"
    }
   ],
   "source": [
    "comp.standard_dGf_prime"
   ]
  },
  {
   "cell_type": "code",
   "execution_count": 25,
   "metadata": {},
   "outputs": [
    {
     "data": {
      "text/plain": [
       "195.925"
      ]
     },
     "execution_count": 25,
     "metadata": {},
     "output_type": "execute_result"
    }
   ],
   "source": [
    "comp.condition = con2\n",
    "comp.transformed_standard_dGf_prime"
   ]
  },
  {
   "cell_type": "code",
   "execution_count": null,
   "metadata": {},
   "outputs": [],
   "source": [
    "rxn.Initialize()"
   ]
  },
  {
   "cell_type": "code",
   "execution_count": null,
   "metadata": {},
   "outputs": [],
   "source": [
    "mol"
   ]
  },
  {
   "cell_type": "code",
   "execution_count": null,
   "metadata": {},
   "outputs": [],
   "source": [
    "def map_num_to_idx_with_radius(mol:rdkit.Chem.rdchem.Mol, map_num:tuple, radius:int) -> tuple:\n",
    "    atoms_idx_radius = [set([atom.GetIdx() for atom in mol.GetAtoms() if atom.GetAtomMapNum() in map_num]), ]\n",
    "    print(atoms_idx_radius)\n",
    "    for r in range(radius):\n",
    "        atoms_idx_r = set()\n",
    "        for atom_idx_i in atoms_idx_radius[r]:\n",
    "            for atom_j in mol.GetAtomWithIdx(atom_idx_i).GetNeighbors():\n",
    "                atoms_idx_r.add(atom_j.GetIdx())\n",
    "        for exist_atoms in atoms_idx_radius:\n",
    "            atoms_idx_r = atoms_idx_r - exist_atoms\n",
    "        atoms_idx_radius.append(atoms_idx_r)\n",
    "    print(atoms_idx_radius)\n",
    "    idxs = set()\n",
    "    for idxs_set in atoms_idx_radius:\n",
    "        idxs |= idxs_set\n",
    "\n",
    "    return tuple(idxs)"
   ]
  },
  {
   "cell_type": "code",
   "execution_count": null,
   "metadata": {},
   "outputs": [],
   "source": [
    "for mol in rxn.GetProducts():\n",
    "    map_num_to_idx_with_radius(mol, map_num=idx_to_map_num(rxn), radius=2)\n",
    "    break"
   ]
  },
  {
   "cell_type": "code",
   "execution_count": null,
   "metadata": {},
   "outputs": [],
   "source": [
    "mol"
   ]
  },
  {
   "cell_type": "code",
   "execution_count": null,
   "metadata": {},
   "outputs": [],
   "source": [
    "np.array(range(10))[np.array([1,3,2,8])]"
   ]
  },
  {
   "cell_type": "code",
   "execution_count": 3,
   "metadata": {},
   "outputs": [
    {
     "data": {
      "text/plain": [
       "'2023.03.1'"
      ]
     },
     "execution_count": 3,
     "metadata": {},
     "output_type": "execute_result"
    }
   ],
   "source": [
    "rdkit.__version__"
   ]
  },
  {
   "cell_type": "code",
   "execution_count": null,
   "metadata": {},
   "outputs": [],
   "source": [
    "for atom in mol.GetAtoms():\n",
    "    print(atom.GetIdx(), atom.GetAtomMapNum())"
   ]
  },
  {
   "cell_type": "code",
   "execution_count": null,
   "metadata": {},
   "outputs": [],
   "source": [
    "mol"
   ]
  },
  {
   "cell_type": "code",
   "execution_count": null,
   "metadata": {},
   "outputs": [],
   "source": [
    "for at in hmol.GetAtoms():\n",
    "    print(at.GetIdx(), at.GetAtomMapNum())"
   ]
  },
  {
   "cell_type": "code",
   "execution_count": null,
   "metadata": {},
   "outputs": [],
   "source": [
    "at = hmol.GetAtomWithIdx(2)"
   ]
  },
  {
   "cell_type": "code",
   "execution_count": null,
   "metadata": {},
   "outputs": [],
   "source": [
    "at.GetNeighbors()"
   ]
  },
  {
   "cell_type": "code",
   "execution_count": null,
   "metadata": {},
   "outputs": [],
   "source": [
    "Chem.MolToSmiles(hmol)"
   ]
  },
  {
   "cell_type": "code",
   "execution_count": null,
   "metadata": {},
   "outputs": [],
   "source": [
    "ar.GetReactantTemplate(0)"
   ]
  },
  {
   "cell_type": "code",
   "execution_count": null,
   "metadata": {},
   "outputs": [],
   "source": [
    "ar.GetProducts"
   ]
  },
  {
   "cell_type": "code",
   "execution_count": null,
   "metadata": {},
   "outputs": [],
   "source": [
    "ar.GetNumReactantTemplates()"
   ]
  },
  {
   "cell_type": "code",
   "execution_count": null,
   "metadata": {},
   "outputs": [],
   "source": [
    "for r in ar.GetReactants():\n",
    "    r"
   ]
  },
  {
   "cell_type": "code",
   "execution_count": null,
   "metadata": {},
   "outputs": [],
   "source": [
    "r"
   ]
  },
  {
   "cell_type": "code",
   "execution_count": null,
   "metadata": {},
   "outputs": [],
   "source": [
    "find_modifications_in_products(ar)"
   ]
  },
  {
   "cell_type": "code",
   "execution_count": null,
   "metadata": {},
   "outputs": [],
   "source": [
    "ar.GetNumReactantTemplates()"
   ]
  },
  {
   "cell_type": "code",
   "execution_count": null,
   "metadata": {},
   "outputs": [],
   "source": [
    "ar.GetNumProductTemplates()"
   ]
  },
  {
   "cell_type": "code",
   "execution_count": null,
   "metadata": {},
   "outputs": [],
   "source": [
    "p = ar.GetReactantTemplate(0)\n",
    "p"
   ]
  },
  {
   "cell_type": "code",
   "execution_count": null,
   "metadata": {},
   "outputs": [],
   "source": [
    "for an in ar.GetReactingAtoms()[0]:\n",
    "    at = p.GetAtomWithIdx(an)\n",
    "    print(at.GetIdx(),at.GetSymbol(), at.GetAtomMapNum(), at.GetNumExplicitHs())"
   ]
  },
  {
   "cell_type": "code",
   "execution_count": null,
   "metadata": {},
   "outputs": [],
   "source": [
    "p = ar.GetProductTemplate(0)\n",
    "p"
   ]
  },
  {
   "cell_type": "code",
   "execution_count": null,
   "metadata": {},
   "outputs": [],
   "source": [
    "pp = deepcopy(p)\n",
    "[a.ClearProp('molAtomMapNumber') for a in pp.GetAtoms()]\n",
    "pass"
   ]
  },
  {
   "cell_type": "code",
   "execution_count": null,
   "metadata": {},
   "outputs": [],
   "source": [
    "pp.GetNumAtoms()==p.GetNumAtoms(), pp.GetNumAtoms(), p.GetNumAtoms()"
   ]
  },
  {
   "cell_type": "code",
   "execution_count": null,
   "metadata": {},
   "outputs": [],
   "source": [
    "pp = Chem.AddHs(Chem.MolFromSmiles(Chem.MolToSmiles(pp)))"
   ]
  },
  {
   "cell_type": "code",
   "execution_count": null,
   "metadata": {},
   "outputs": [],
   "source": [
    "pp = pp)"
   ]
  },
  {
   "cell_type": "code",
   "execution_count": null,
   "metadata": {},
   "outputs": [],
   "source": [
    "pp.GetNumAtoms()"
   ]
  },
  {
   "cell_type": "code",
   "execution_count": null,
   "metadata": {},
   "outputs": [],
   "source": [
    "for at in p.GetAtoms():\n",
    "    pass"
   ]
  },
  {
   "cell_type": "code",
   "execution_count": null,
   "metadata": {},
   "outputs": [],
   "source": [
    "at.GetAtomMapNum()"
   ]
  },
  {
   "cell_type": "code",
   "execution_count": null,
   "metadata": {},
   "outputs": [],
   "source": []
  },
  {
   "cell_type": "code",
   "execution_count": null,
   "metadata": {},
   "outputs": [],
   "source": []
  },
  {
   "cell_type": "code",
   "execution_count": null,
   "metadata": {},
   "outputs": [],
   "source": [
    "s = '*C(=O)N([H])[C@]([H])(C(=O)N(*)[H])C([H])([H])O[H]'\n",
    "s6 = '[H]N=c1nc(O[H])c2c(n1[H])N([H])C([H])([H])C([H])(C([H])([H])N(C([H])=O)c1c([H])c([H])c(C(=O)N([H])[C@@]([H])(C(=O)O[H])C([H])([H])C([H])([H])C(=NC([H])(C(=O)O[H])C([H])([H])C([H])([H])C(=NC([H])(C(=O)O[H])C([H])([H])C([H])([H])C(=NC([H])(C(=O)O[H])C([H])([H])C([H])([H])C(=NC([H])(C(=O)O[H])C([H])([H])C([H])([H])C(=NC([H])(C(=O)O[H])C([H])([H])C([H])([H])C(=O)O[H])O[H])O[H])O[H])O[H])O[H])c([H])c1[H])N2[H]'\n",
    "s7 = '[H]N=c1nc(O[H])c2c(n1[H])N([H])C([H])([H])C([H])(C([H])([H])N(C([H])=O)c1c([H])c([H])c(C(=O)N([H])C([H])(C(=O)O[H])C([H])([H])C([H])([H])C(=O)N([H])C([H])(C(=O)N([H])C([H])(C(=O)N([H])C([H])(C(=O)N([H])C([H])(C(=O)N([H])C([H])(C(=O)N([H])C([H])(C(=O)O[H])C([H])([H])C([H])([H])C(=O)O[H])C([H])([H])C([H])([H])C(=O)O[H])C([H])([H])C([H])([H])C(=O)O[H])C([H])([H])C([H])([H])C(=O)O[H])C([H])([H])C([H])([H])C(=O)O[H])C([H])([H])C([H])([H])C(=O)O[H])c([H])c1[H])N2[H]'\n",
    "#s = '[H]OC1=NC(=N[H])N([H])C2=C1N([H])C([H])(C([H])([H])N(C([H])=O)C1=C([H])C([H])=C(C([H])=C1[H])C(=O)N([H])C([H])(C([O-])=O)C([H])([H])C([H])([H])C(=O)N([H])C([H])(C(=O)N([H])C([H])(C(=O)N([H])C([H])(C(=O)N([H])C([H])(C(=O)N([H])C([H])(C(=O)N([H])C([H])(C([O-])=O)C([H])([H])C([H])([H])C([O-])=O)C([H])([H])C([H])([H])C([O-])=O)C([H])([H])C([H])([H])C([O-])=O)C([H])([H])C([H])([H])C([O-])=O)C([H])([H])C([H])([H])C([O-])=O)C([H])([H])C([H])([H])C([O-])=O)C([H])([H])N2[H]'\n",
    "#s = '[H]OC(=O)C([H])([H])C([H])([H])[C@@]([H])(C(=O)O[H])N([H])[H]'\n",
    "#s = '[H]O[H]'\n",
    "mol6 = to_mol(s6, 'smiles')\n",
    "mol7 = to_mol(s7, 'smiles')\n",
    "#mol = to_mol('C00080', cid_type='kegg')"
   ]
  },
  {
   "cell_type": "code",
   "execution_count": null,
   "metadata": {},
   "outputs": [],
   "source": [
    "res=rdFMCS.FindMCS([mol6, mol7])"
   ]
  },
  {
   "cell_type": "code",
   "execution_count": null,
   "metadata": {},
   "outputs": [],
   "source": [
    "molFe = to_mol('[Fe+3]', 'smiles')"
   ]
  },
  {
   "cell_type": "code",
   "execution_count": null,
   "metadata": {},
   "outputs": [],
   "source": [
    "molFe"
   ]
  },
  {
   "cell_type": "code",
   "execution_count": null,
   "metadata": {},
   "outputs": [],
   "source": [
    "rdMolStandardize.Uncharger().uncharge(molFe)"
   ]
  },
  {
   "cell_type": "code",
   "execution_count": null,
   "metadata": {},
   "outputs": [],
   "source": [
    "te = rdMolStandardize.TautomerEnumerator() # idem\n",
    "clean_mol = te.Canonicalize(mol)"
   ]
  },
  {
   "cell_type": "code",
   "execution_count": null,
   "metadata": {},
   "outputs": [],
   "source": [
    "clean_mol"
   ]
  },
  {
   "cell_type": "code",
   "execution_count": null,
   "metadata": {},
   "outputs": [],
   "source": [
    "m = Compound(mol)"
   ]
  },
  {
   "cell_type": "code",
   "execution_count": null,
   "metadata": {},
   "outputs": [],
   "source": [
    "m.standard_dGf_prime"
   ]
  },
  {
   "cell_type": "code",
   "execution_count": null,
   "metadata": {},
   "outputs": [],
   "source": [
    "predict_standard_dGf_prime(clean_mol)"
   ]
  },
  {
   "cell_type": "code",
   "execution_count": null,
   "metadata": {},
   "outputs": [],
   "source": [
    "3137-2307-577+158"
   ]
  },
  {
   "cell_type": "code",
   "execution_count": null,
   "metadata": {},
   "outputs": [],
   "source": [
    "r = 'C00080 = C00001'"
   ]
  },
  {
   "cell_type": "code",
   "execution_count": null,
   "metadata": {},
   "outputs": [],
   "source": [
    "r = Reaction(r, cid_type='kegg')"
   ]
  },
  {
   "cell_type": "code",
   "execution_count": null,
   "metadata": {},
   "outputs": [],
   "source": [
    "a = predict_standard_dGf_prime(mol)"
   ]
  },
  {
   "cell_type": "code",
   "execution_count": null,
   "metadata": {},
   "outputs": [],
   "source": [
    "trainingData_df = pd.read_csv(train_data_path).iloc[1:,:]\n",
    "\n",
    "mean_std = trainingData_df.loc[:,'stderr'].mean()\n",
    "SEM = np.nan_to_num(trainingData_df.loc[:,'SEM'], nan=mean_std)\n",
    "weight = (1/(SEM+1))/np.median((1/(SEM+1)))\n",
    "trainingData_df.loc[:,'weight'] = weight\n",
    "\n",
    "TrainSet = Train_Dataset(trainingData_df, equation_column='reaction', dG_column='standard_dg_prime', weight_column='weight')"
   ]
  },
  {
   "cell_type": "code",
   "execution_count": null,
   "metadata": {},
   "outputs": [],
   "source": [
    "for n, atom in enumerate(m.mol.GetAtoms()):\n",
    "    print(n, atom)\n",
    "    break"
   ]
  },
  {
   "cell_type": "code",
   "execution_count": null,
   "metadata": {},
   "outputs": [],
   "source": [
    "x = mol_to_graph_data(m.mol, atom_features=['atomic number', 'hybridization', 'aromaticity', 'charge'], bond_features=['bond type'])"
   ]
  },
  {
   "cell_type": "code",
   "execution_count": null,
   "metadata": {},
   "outputs": [],
   "source": [
    "x.edge_index"
   ]
  },
  {
   "cell_type": "code",
   "execution_count": null,
   "metadata": {},
   "outputs": [],
   "source": [
    "from torch_geometric.utils import add_self_loops"
   ]
  },
  {
   "cell_type": "code",
   "execution_count": null,
   "metadata": {},
   "outputs": [],
   "source": [
    "ax,aa = add_self_loops(x.edge_index, num_nodes=x.x.size(0), edge_attr=x.edge_attr)"
   ]
  },
  {
   "cell_type": "code",
   "execution_count": null,
   "metadata": {},
   "outputs": [],
   "source": [
    "ax"
   ]
  },
  {
   "cell_type": "code",
   "execution_count": null,
   "metadata": {},
   "outputs": [],
   "source": [
    "e = torch.nn.Embedding(3,2)"
   ]
  },
  {
   "cell_type": "code",
   "execution_count": null,
   "metadata": {},
   "outputs": [],
   "source": [
    "a = torch.tensor([0,1,2])\n",
    "e(a)"
   ]
  },
  {
   "cell_type": "code",
   "execution_count": null,
   "metadata": {},
   "outputs": [],
   "source": [
    "a.shape, e(a).shape"
   ]
  },
  {
   "cell_type": "code",
   "execution_count": null,
   "metadata": {},
   "outputs": [],
   "source": [
    "e.weight"
   ]
  },
  {
   "cell_type": "code",
   "execution_count": null,
   "metadata": {},
   "outputs": [],
   "source": [
    "def one_hot(num, index):\n",
    "    vector = [0] * num\n",
    "    vector[index] = 1\n",
    "    return vector"
   ]
  },
  {
   "cell_type": "code",
   "execution_count": null,
   "metadata": {},
   "outputs": [],
   "source": [
    "t  = one_hot(3,2)"
   ]
  },
  {
   "cell_type": "code",
   "execution_count": null,
   "metadata": {},
   "outputs": [],
   "source": [
    "t"
   ]
  },
  {
   "cell_type": "code",
   "execution_count": null,
   "metadata": {},
   "outputs": [],
   "source": [
    "t.shape"
   ]
  },
  {
   "cell_type": "code",
   "execution_count": null,
   "metadata": {},
   "outputs": [],
   "source": [
    "torch.cat([t,t,t],dim=0)"
   ]
  },
  {
   "cell_type": "code",
   "execution_count": null,
   "metadata": {},
   "outputs": [],
   "source": [
    "a = torch.tensor([0,1,2], dtype=torch.float32)"
   ]
  },
  {
   "cell_type": "code",
   "execution_count": null,
   "metadata": {},
   "outputs": [],
   "source": [
    "l = nn.Linear(3,2, bias=False)"
   ]
  },
  {
   "cell_type": "code",
   "execution_count": null,
   "metadata": {},
   "outputs": [],
   "source": [
    "l.weight"
   ]
  },
  {
   "cell_type": "code",
   "execution_count": null,
   "metadata": {},
   "outputs": [],
   "source": [
    "l(a)"
   ]
  },
  {
   "cell_type": "code",
   "execution_count": null,
   "metadata": {},
   "outputs": [],
   "source": [
    "mol_to_graph_data(m.mol).x."
   ]
  },
  {
   "cell_type": "code",
   "execution_count": null,
   "metadata": {},
   "outputs": [],
   "source": [
    "adj = Chem.GetAdjacencyMatrix(m.mol)"
   ]
  },
  {
   "cell_type": "code",
   "execution_count": null,
   "metadata": {},
   "outputs": [],
   "source": [
    "coo = sparse.coo_matrix(adj)"
   ]
  },
  {
   "cell_type": "code",
   "execution_count": null,
   "metadata": {},
   "outputs": [],
   "source": [
    "coo.row"
   ]
  },
  {
   "cell_type": "code",
   "execution_count": null,
   "metadata": {},
   "outputs": [],
   "source": [
    "coo.col"
   ]
  },
  {
   "cell_type": "code",
   "execution_count": null,
   "metadata": {},
   "outputs": [],
   "source": [
    "m.standard_dGf_prime"
   ]
  },
  {
   "cell_type": "code",
   "execution_count": null,
   "metadata": {},
   "outputs": [],
   "source": [
    "m.transformed_standard_dGf_prime"
   ]
  },
  {
   "cell_type": "code",
   "execution_count": null,
   "metadata": {},
   "outputs": [],
   "source": [
    "m.condition"
   ]
  },
  {
   "cell_type": "code",
   "execution_count": null,
   "metadata": {},
   "outputs": [],
   "source": [
    "default_condition"
   ]
  },
  {
   "cell_type": "code",
   "execution_count": null,
   "metadata": {},
   "outputs": [],
   "source": [
    "mm = m.mol\n",
    "atom = mm.GetAtomWithIdx(4)\n",
    "print(atom.GetSymbol())\n",
    "atom.SetFormalCharge(0)\n",
    "atom.GetNumExplicitHs()\n",
    "atom.GetNumImplicitHs()\n",
    "atom.SetNumExplicitHs(0)\n",
    "Chem.SanitizeMol(mm)"
   ]
  },
  {
   "cell_type": "code",
   "execution_count": null,
   "metadata": {},
   "outputs": [],
   "source": [
    "r = {'[H+]': -1.0, '[Fe+2]': -1.0}\n",
    "#r = 'C01644 = C00001'"
   ]
  },
  {
   "cell_type": "code",
   "execution_count": null,
   "metadata": {},
   "outputs": [],
   "source": [
    "R = Reaction(r, rxn_type='dict', cid_type='smiles')"
   ]
  },
  {
   "cell_type": "code",
   "execution_count": null,
   "metadata": {},
   "outputs": [],
   "source": [
    "R.products"
   ]
  },
  {
   "cell_type": "code",
   "execution_count": null,
   "metadata": {},
   "outputs": [],
   "source": [
    "sum(R.substrates.values())"
   ]
  },
  {
   "cell_type": "code",
   "execution_count": null,
   "metadata": {},
   "outputs": [],
   "source": [
    "a = R.rxn"
   ]
  },
  {
   "cell_type": "code",
   "execution_count": null,
   "metadata": {},
   "outputs": [],
   "source": [
    "R.is_balanced()"
   ]
  },
  {
   "cell_type": "code",
   "execution_count": null,
   "metadata": {},
   "outputs": [],
   "source": [
    "R.transformed_standard_dGr_prime"
   ]
  },
  {
   "cell_type": "code",
   "execution_count": null,
   "metadata": {},
   "outputs": [],
   "source": [
    "R.transformed_standard_dGr_prime"
   ]
  },
  {
   "cell_type": "code",
   "execution_count": null,
   "metadata": {},
   "outputs": [],
   "source": [
    "R.equationSmiles"
   ]
  },
  {
   "cell_type": "code",
   "execution_count": null,
   "metadata": {},
   "outputs": [],
   "source": [
    "R.is_balanced(ignore_H2O=False)"
   ]
  },
  {
   "cell_type": "code",
   "execution_count": null,
   "metadata": {},
   "outputs": [],
   "source": [
    "m0 = Compound(to_mol('[H]OC1([H])C([H])(n2c([H])nc3c(N([H])[H])nc([H])nc32)OC([H])(C([H])([H])OP(=O)(O[H])OP(=O)([O-])OC([H])([H])C2([H])OC([H])([n+]3c([H])c([H])c([H])c(C(=O)C([H])([H])[H])c3[H])C([H])(O[H])C2([H])O[H])C1([H])O[H]', cid_type='smiles'))"
   ]
  },
  {
   "cell_type": "code",
   "execution_count": null,
   "metadata": {},
   "outputs": [],
   "source": [
    "m0"
   ]
  },
  {
   "cell_type": "code",
   "execution_count": null,
   "metadata": {},
   "outputs": [],
   "source": [
    "Compound(m0).Smiles"
   ]
  },
  {
   "cell_type": "code",
   "execution_count": null,
   "metadata": {},
   "outputs": [],
   "source": [
    "normalize_mol(m0)"
   ]
  },
  {
   "cell_type": "code",
   "execution_count": null,
   "metadata": {},
   "outputs": [],
   "source": [
    "rdMolStandardize.StandardizeSmiles('[H]OC1([H])C([H])(n2c([H])nc3c(N([H])[H])nc([H])nc32)OC([H])(C([H])([H])OP(=O)(O[H])OP(=O)([O-])OC([H])([H])C2([H])OC([H])([n+]3c([H])c([H])c([H])c(C(=O)C([H])([H])[H])c3[H])C([H])(O[H])C2([H])O[H])C1([H])O[H]')"
   ]
  },
  {
   "cell_type": "code",
   "execution_count": null,
   "metadata": {},
   "outputs": [],
   "source": [
    "m0"
   ]
  },
  {
   "cell_type": "code",
   "execution_count": null,
   "metadata": {},
   "outputs": [],
   "source": [
    "Compound(m0).Smiles"
   ]
  },
  {
   "cell_type": "code",
   "execution_count": null,
   "metadata": {},
   "outputs": [],
   "source": [
    "u = rdMolStandardize.Uncharger()\n",
    "m00 = u.uncharge(m0)"
   ]
  },
  {
   "cell_type": "code",
   "execution_count": null,
   "metadata": {},
   "outputs": [],
   "source": [
    "Chem.AddHs(m00)"
   ]
  },
  {
   "cell_type": "code",
   "execution_count": null,
   "metadata": {},
   "outputs": [],
   "source": [
    "Compound(Chem.AddHs(m00)).Smiles"
   ]
  },
  {
   "cell_type": "code",
   "execution_count": null,
   "metadata": {},
   "outputs": [],
   "source": [
    "Chem.MolToSmiles(m0, allHsExplicit=True)"
   ]
  },
  {
   "cell_type": "code",
   "execution_count": null,
   "metadata": {},
   "outputs": [],
   "source": [
    "Chem.MolToSmiles(m0)"
   ]
  },
  {
   "cell_type": "code",
   "execution_count": null,
   "metadata": {},
   "outputs": [],
   "source": [
    "rdMolStandardize.Normalize(m0, )"
   ]
  },
  {
   "cell_type": "code",
   "execution_count": null,
   "metadata": {},
   "outputs": [],
   "source": [
    "a = rdMolStandardize.ChargeParent(m0)"
   ]
  },
  {
   "cell_type": "code",
   "execution_count": null,
   "metadata": {},
   "outputs": [],
   "source": [
    "Chem.MolToSmiles(a)"
   ]
  },
  {
   "cell_type": "code",
   "execution_count": null,
   "metadata": {},
   "outputs": [],
   "source": [
    "Chem.MolToSmiles(m0)"
   ]
  },
  {
   "cell_type": "code",
   "execution_count": null,
   "metadata": {},
   "outputs": [],
   "source": [
    "a = os.popen(f\"cxcalc pKa -t acidic,basic -a 8 -b 8 test.smi\")\n",
    "with open('test.tsv', 'w') as f:\n",
    "    f.write(a.read())\n"
   ]
  },
  {
   "cell_type": "code",
   "execution_count": null,
   "metadata": {},
   "outputs": [],
   "source": [
    "s = [x.strip() for x in open('test.smi', 'r').readlines()]"
   ]
  },
  {
   "cell_type": "code",
   "execution_count": null,
   "metadata": {},
   "outputs": [],
   "source": [
    "p = pd.read_csv('test.tsv', sep='\\t').drop(columns='id')\n",
    "p.index = s\n",
    "p = p.reset_index()\n",
    "p = p.rename(columns={'index':'smiles'})"
   ]
  },
  {
   "cell_type": "code",
   "execution_count": null,
   "metadata": {},
   "outputs": [],
   "source": [
    "op = pd.read_csv(chemaxon_pka_csv_path)\n",
    "p = pd.concat([op,p])"
   ]
  },
  {
   "cell_type": "code",
   "execution_count": null,
   "metadata": {},
   "outputs": [],
   "source": [
    "p = p.drop_duplicates()"
   ]
  },
  {
   "cell_type": "code",
   "execution_count": null,
   "metadata": {},
   "outputs": [],
   "source": [
    "p.to_csv(chemaxon_pka_csv_path, index=False)"
   ]
  },
  {
   "cell_type": "code",
   "execution_count": null,
   "metadata": {},
   "outputs": [],
   "source": [
    "m = to_mol('C00033', cid_type='kegg')\n",
    "#m = to_mol('[Fe]', cid_type='smiles')"
   ]
  },
  {
   "cell_type": "code",
   "execution_count": null,
   "metadata": {},
   "outputs": [],
   "source": [
    "m = Compound(m)"
   ]
  },
  {
   "cell_type": "code",
   "execution_count": null,
   "metadata": {},
   "outputs": [],
   "source": [
    "Reaction(m.Smiles).rxnSmiles"
   ]
  },
  {
   "cell_type": "code",
   "execution_count": null,
   "metadata": {},
   "outputs": [],
   "source": [
    "m.ddGf()"
   ]
  },
  {
   "cell_type": "code",
   "execution_count": null,
   "metadata": {},
   "outputs": [],
   "source": [
    "get_pKa(m, source='file')"
   ]
  },
  {
   "cell_type": "code",
   "execution_count": null,
   "metadata": {},
   "outputs": [],
   "source": []
  }
 ],
 "metadata": {
  "kernelspec": {
   "display_name": "dGbyG",
   "language": "python",
   "name": "python3"
  },
  "language_info": {
   "codemirror_mode": {
    "name": "ipython",
    "version": 3
   },
   "file_extension": ".py",
   "mimetype": "text/x-python",
   "name": "python",
   "nbconvert_exporter": "python",
   "pygments_lexer": "ipython3",
   "version": "3.12.2"
  },
  "orig_nbformat": 4
 },
 "nbformat": 4,
 "nbformat_minor": 2
}
