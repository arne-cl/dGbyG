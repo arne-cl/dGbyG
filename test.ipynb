{
 "cells": [
  {
   "cell_type": "code",
   "execution_count": 2,
   "metadata": {},
   "outputs": [],
   "source": [
    "import json, requests, os, time\n",
    "import pandas as pd\n",
    "import matplotlib.pyplot as plt\n",
    "from rdkit import Chem\n",
    "from rdkit.Chem.MolStandardize import rdMolStandardize\n",
    "from rdkit import RDLogger\n",
    "RDLogger.DisableLog('rdApp.*')\n",
    "\n",
    "import torch\n",
    "import torch.nn as nn\n",
    "from torch_geometric.loader import DataLoader\n",
    "\n",
    "from dGbyG.Chemistry.Compound import Compound\n",
    "from dGbyG.Chemistry.Reaction import Reaction\n",
    "from dGbyG.utils.constants import *\n",
    "from dGbyG.utils.ChemFunc import *\n",
    "from dGbyG.utils.Dataset import Train_Dataset\n",
    "from dGbyG.config import *\n",
    "from dGbyG.network.GNNetwork import MP_network\n",
    "from dGbyG.train.trainer import Model\n",
    "#from dGbyG.api.inference import predict_dGf"
   ]
  },
  {
   "cell_type": "code",
   "execution_count": 2,
   "metadata": {},
   "outputs": [],
   "source": [
    "tecrdb = pd.read_csv('./tecrdb_copy.csv')"
   ]
  },
  {
   "cell_type": "code",
   "execution_count": 3,
   "metadata": {},
   "outputs": [],
   "source": [
    "train_dataset = Train_Dataset(tecrdb, equation_column='reaction', dG_column='nontrans_standard_dg_primes')"
   ]
  },
  {
   "cell_type": "code",
   "execution_count": 4,
   "metadata": {},
   "outputs": [],
   "source": [
    "network = MP_network(emb_dim=200, num_layer=2)"
   ]
  },
  {
   "cell_type": "code",
   "execution_count": 5,
   "metadata": {},
   "outputs": [],
   "source": [
    "model = Model()\n",
    "model.network = network"
   ]
  },
  {
   "cell_type": "code",
   "execution_count": null,
   "metadata": {},
   "outputs": [],
   "source": [
    "Loss, Result_df = model.cross_validation(train_dataset, mode=10, epochs=100, lr=1e-4)"
   ]
  },
  {
   "cell_type": "code",
   "execution_count": 10,
   "metadata": {},
   "outputs": [
    {
     "name": "stdout",
     "output_type": "stream",
     "text": [
      "train on: cpu\n",
      "2023-07-06 16:30:10 start preparing data\n",
      "2023-07-06 16:35:38 start training\n"
     ]
    },
    {
     "name": "stderr",
     "output_type": "stream",
     "text": [
      "training: 100%|██████████| 8000/8000 [23:32<00:00,  5.67it/s]"
     ]
    },
    {
     "name": "stdout",
     "output_type": "stream",
     "text": [
      "2023-07-06 16:59:10 training have done\n"
     ]
    },
    {
     "name": "stderr",
     "output_type": "stream",
     "text": [
      "\n"
     ]
    }
   ],
   "source": [
    "loss_history, Result_df, n = model.train(train_dataset, 8000, 1e-4)"
   ]
  },
  {
   "cell_type": "code",
   "execution_count": null,
   "metadata": {},
   "outputs": [],
   "source": [
    "torch.save(model, inference_model_path)"
   ]
  },
  {
   "cell_type": "code",
   "execution_count": 12,
   "metadata": {},
   "outputs": [
    {
     "data": {
      "image/png": "[encoded data removed]",
      "text/plain": [
       "<Figure size 640x480 with 1 Axes>"
      ]
     },
     "metadata": {},
     "output_type": "display_data"
    }
   ],
   "source": [
    "plt.plot(Loss.mean(axis=0))\n",
    "\n",
    "plt.show()"
   ]
  },
  {
   "cell_type": "code",
   "execution_count": null,
   "metadata": {},
   "outputs": [],
   "source": [
    "plt.scatter(Result_df.loc[:,'r'], Result_df.loc[:,'p'])"
   ]
  },
  {
   "cell_type": "code",
   "execution_count": 21,
   "metadata": {},
   "outputs": [],
   "source": [
    "s = '*C(=O)N([H])[C@]([H])(C(=O)N(*)[H])C([H])([H])O[H]'\n",
    "mol = to_mol(s, cid_type='smiles')"
   ]
  },
  {
   "cell_type": "code",
   "execution_count": 22,
   "metadata": {},
   "outputs": [],
   "source": [
    "m = Compound(mol)"
   ]
  },
  {
   "cell_type": "code",
   "execution_count": 23,
   "metadata": {},
   "outputs": [
    {
     "name": "stdout",
     "output_type": "stream",
     "text": [
      "Unexpected exception formatting exception. Falling back to standard exception\n"
     ]
    },
    {
     "name": "stderr",
     "output_type": "stream",
     "text": [
      "Traceback (most recent call last):\n",
      "  File \"/home/fanwc/anaconda3/envs/dGbyG/lib/python3.9/site-packages/IPython/core/interactiveshell.py\", line 3508, in run_code\n",
      "    exec(code_obj, self.user_global_ns, self.user_ns)\n",
      "  File \"/tmp/ipykernel_1915013/3171594350.py\", line 1, in <module>\n",
      "    m.pKa()\n",
      "  File \"/home/fanwc/anaconda3/envs/dGbyG/lib/python3.9/site-packages/dGbyG/Chemistry/Compound.py\", line 17, in pKa\n",
      "    return get_pKa(self, temperature)\n",
      "  File \"/home/fanwc/anaconda3/envs/dGbyG/lib/python3.9/site-packages/dGbyG/utils/ChemFunc.py\", line 265, in get_pKa\n",
      "  File \"/home/fanwc/anaconda3/envs/dGbyG/lib/python3.9/site-packages/dGbyG/utils/ChemFunc.py\", line 240, in get_pka_from_file\n",
      "    atoms_idx += 1\n",
      "UnboundLocalError: local variable 'pka' referenced before assignment\n",
      "\n",
      "During handling of the above exception, another exception occurred:\n",
      "\n",
      "Traceback (most recent call last):\n",
      "  File \"/home/fanwc/anaconda3/envs/dGbyG/lib/python3.9/site-packages/IPython/core/interactiveshell.py\", line 2105, in showtraceback\n",
      "    stb = self.InteractiveTB.structured_traceback(\n",
      "  File \"/home/fanwc/anaconda3/envs/dGbyG/lib/python3.9/site-packages/IPython/core/ultratb.py\", line 1428, in structured_traceback\n",
      "    return FormattedTB.structured_traceback(\n",
      "  File \"/home/fanwc/anaconda3/envs/dGbyG/lib/python3.9/site-packages/IPython/core/ultratb.py\", line 1319, in structured_traceback\n",
      "    return VerboseTB.structured_traceback(\n",
      "  File \"/home/fanwc/anaconda3/envs/dGbyG/lib/python3.9/site-packages/IPython/core/ultratb.py\", line 1172, in structured_traceback\n",
      "    formatted_exception = self.format_exception_as_a_whole(etype, evalue, etb, number_of_lines_of_context,\n",
      "  File \"/home/fanwc/anaconda3/envs/dGbyG/lib/python3.9/site-packages/IPython/core/ultratb.py\", line 1087, in format_exception_as_a_whole\n",
      "    frames.append(self.format_record(record))\n",
      "  File \"/home/fanwc/anaconda3/envs/dGbyG/lib/python3.9/site-packages/IPython/core/ultratb.py\", line 969, in format_record\n",
      "    frame_info.lines, Colors, self.has_colors, lvals\n",
      "  File \"/home/fanwc/anaconda3/envs/dGbyG/lib/python3.9/site-packages/IPython/core/ultratb.py\", line 792, in lines\n",
      "    return self._sd.lines\n",
      "  File \"/home/fanwc/anaconda3/envs/dGbyG/lib/python3.9/site-packages/stack_data/utils.py\", line 144, in cached_property_wrapper\n",
      "    value = obj.__dict__[self.func.__name__] = self.func(obj)\n",
      "  File \"/home/fanwc/anaconda3/envs/dGbyG/lib/python3.9/site-packages/stack_data/core.py\", line 734, in lines\n",
      "    pieces = self.included_pieces\n",
      "  File \"/home/fanwc/anaconda3/envs/dGbyG/lib/python3.9/site-packages/stack_data/utils.py\", line 144, in cached_property_wrapper\n",
      "    value = obj.__dict__[self.func.__name__] = self.func(obj)\n",
      "  File \"/home/fanwc/anaconda3/envs/dGbyG/lib/python3.9/site-packages/stack_data/core.py\", line 681, in included_pieces\n",
      "    pos = scope_pieces.index(self.executing_piece)\n",
      "  File \"/home/fanwc/anaconda3/envs/dGbyG/lib/python3.9/site-packages/stack_data/utils.py\", line 144, in cached_property_wrapper\n",
      "    value = obj.__dict__[self.func.__name__] = self.func(obj)\n",
      "  File \"/home/fanwc/anaconda3/envs/dGbyG/lib/python3.9/site-packages/stack_data/core.py\", line 660, in executing_piece\n",
      "    return only(\n",
      "  File \"/home/fanwc/anaconda3/envs/dGbyG/lib/python3.9/site-packages/executing/executing.py\", line 190, in only\n",
      "    raise NotOneValueFound('Expected one value, found 0')\n",
      "executing.executing.NotOneValueFound: Expected one value, found 0\n"
     ]
    }
   ],
   "source": [
    "m.pKa()"
   ]
  },
  {
   "cell_type": "code",
   "execution_count": 10,
   "metadata": {},
   "outputs": [],
   "source": [
    "condition1 = default_condition.copy()\n",
    "condition1['pH'] = 9.0"
   ]
  },
  {
   "cell_type": "code",
   "execution_count": 11,
   "metadata": {},
   "outputs": [
    {
     "data": {
      "text/plain": [
       "{'T': 298.15, 'pH': 9.0, 'I': 0.25, 'pMg': 14.0}"
      ]
     },
     "execution_count": 11,
     "metadata": {},
     "output_type": "execute_result"
    }
   ],
   "source": [
    "condition1"
   ]
  },
  {
   "cell_type": "code",
   "execution_count": 13,
   "metadata": {},
   "outputs": [
    {
     "data": {
      "text/plain": [
       "11.40989168989713"
      ]
     },
     "execution_count": 13,
     "metadata": {},
     "output_type": "execute_result"
    }
   ],
   "source": [
    "m.transform(m.condition, condition1)"
   ]
  },
  {
   "cell_type": "code",
   "execution_count": 20,
   "metadata": {},
   "outputs": [
    {
     "data": {
      "text/plain": [
       "{'[H+]': 1}"
      ]
     },
     "execution_count": 20,
     "metadata": {},
     "output_type": "execute_result"
    }
   ],
   "source": [
    "parse_equation(m.Smiles)"
   ]
  },
  {
   "cell_type": "code",
   "execution_count": 21,
   "metadata": {},
   "outputs": [
    {
     "data": {
      "text/plain": [
       "'[H+]'"
      ]
     },
     "execution_count": 21,
     "metadata": {},
     "output_type": "execute_result"
    }
   ],
   "source": [
    "m.Smiles"
   ]
  },
  {
   "cell_type": "code",
   "execution_count": 8,
   "metadata": {},
   "outputs": [
    {
     "ename": "RuntimeError",
     "evalue": "Range Error\n\tidx\n\tViolation occurred on line 213 in file Code/GraphMol/ROMol.cpp\n\tFailed Expression: 4 < 1\n\tRDKIT: 2023.03.1\n\tBOOST: 1_78\n",
     "output_type": "error",
     "traceback": [
      "\u001b[0;31m---------------------------------------------------------------------------\u001b[0m",
      "\u001b[0;31mRuntimeError\u001b[0m                              Traceback (most recent call last)",
      "Cell \u001b[0;32mIn[8], line 2\u001b[0m\n\u001b[1;32m      1\u001b[0m mm \u001b[39m=\u001b[39m m\u001b[39m.\u001b[39mmol\n\u001b[0;32m----> 2\u001b[0m atom \u001b[39m=\u001b[39m mm\u001b[39m.\u001b[39;49mGetAtomWithIdx(\u001b[39m4\u001b[39;49m)\n\u001b[1;32m      3\u001b[0m \u001b[39mprint\u001b[39m(atom\u001b[39m.\u001b[39mGetSymbol())\n\u001b[1;32m      4\u001b[0m atom\u001b[39m.\u001b[39mSetFormalCharge(\u001b[39m0\u001b[39m)\n",
      "\u001b[0;31mRuntimeError\u001b[0m: Range Error\n\tidx\n\tViolation occurred on line 213 in file Code/GraphMol/ROMol.cpp\n\tFailed Expression: 4 < 1\n\tRDKIT: 2023.03.1\n\tBOOST: 1_78\n"
     ]
    }
   ],
   "source": [
    "mm = m.mol\n",
    "atom = mm.GetAtomWithIdx(4)\n",
    "print(atom.GetSymbol())\n",
    "atom.SetFormalCharge(0)\n",
    "atom.GetNumExplicitHs()\n",
    "atom.GetNumImplicitHs()\n",
    "atom.SetNumExplicitHs(0)\n",
    "Chem.SanitizeMol(mm)"
   ]
  },
  {
   "cell_type": "code",
   "execution_count": 4,
   "metadata": {},
   "outputs": [],
   "source": [
    "r = '[H]OC([H])([H])[C@@]([H])(O[H])C(=O)[C@]([H])(O[H])[C@]([H])(O[H])C([H])([H])OP(=O)(O[H])O[H] = [H]OC([H])([H])C1(O[H])O[C@]([H])(C([H])([H])OP(=O)(O[H])O[H])[C@@]([H])(O[H])[C@]1([H])O[H]'\n",
    "#r = 'C01644 = C00001'"
   ]
  },
  {
   "cell_type": "code",
   "execution_count": 15,
   "metadata": {},
   "outputs": [],
   "source": [
    "R = Reaction(r)"
   ]
  },
  {
   "cell_type": "code",
   "execution_count": 16,
   "metadata": {},
   "outputs": [
    {
     "data": {
      "text/plain": [
       "{'[H]OC([H])([H])[C@@]([H])(O[H])C(=O)[C@]([H])(O[H])[C@]([H])(O[H])C([H])([H])OP(=O)(O[H])O[H]': -1,\n",
       " '[H]OC([H])([H])C1(O[H])O[C@]([H])(C([H])([H])OP(=O)(O[H])O[H])[C@@]([H])(O[H])[C@]1([H])O[H]': 1}"
      ]
     },
     "execution_count": 16,
     "metadata": {},
     "output_type": "execute_result"
    }
   ],
   "source": [
    "R.rxnSmiles"
   ]
  },
  {
   "cell_type": "code",
   "execution_count": 17,
   "metadata": {},
   "outputs": [
    {
     "data": {
      "text/plain": [
       "True"
      ]
     },
     "execution_count": 17,
     "metadata": {},
     "output_type": "execute_result"
    }
   ],
   "source": [
    "R.is_balanced(ignore_H2O=False)"
   ]
  },
  {
   "cell_type": "code",
   "execution_count": 18,
   "metadata": {},
   "outputs": [],
   "source": [
    "R.balance()"
   ]
  },
  {
   "cell_type": "code",
   "execution_count": 19,
   "metadata": {},
   "outputs": [
    {
     "data": {
      "text/plain": [
       "'[H]OC([H])([H])[C@@]([H])(O[H])C(=O)[C@]([H])(O[H])[C@]([H])(O[H])C([H])([H])OP(=O)(O[H])O[H] = [H]OC([H])([H])C1(O[H])O[C@]([H])(C([H])([H])OP(=O)(O[H])O[H])[C@@]([H])(O[H])[C@]1([H])O[H]'"
      ]
     },
     "execution_count": 19,
     "metadata": {},
     "output_type": "execute_result"
    }
   ],
   "source": [
    "R.equationSmiles"
   ]
  },
  {
   "cell_type": "code",
   "execution_count": 13,
   "metadata": {},
   "outputs": [
    {
     "data": {
      "text/plain": [
       "True"
      ]
     },
     "execution_count": 13,
     "metadata": {},
     "output_type": "execute_result"
    }
   ],
   "source": [
    "R.is_balanced(ignore_H2O=False)"
   ]
  },
  {
   "cell_type": "code",
   "execution_count": null,
   "metadata": {},
   "outputs": [],
   "source": []
  },
  {
   "cell_type": "code",
   "execution_count": 12,
   "metadata": {},
   "outputs": [
    {
     "data": {
      "text/plain": [
       "False"
      ]
     },
     "execution_count": 12,
     "metadata": {},
     "output_type": "execute_result"
    }
   ],
   "source": [
    "R.can_be_transformed"
   ]
  },
  {
   "cell_type": "code",
   "execution_count": 13,
   "metadata": {},
   "outputs": [],
   "source": [
    "R.transform(condition1=default_condition, condition2=default_condition)"
   ]
  },
  {
   "cell_type": "code",
   "execution_count": 14,
   "metadata": {},
   "outputs": [],
   "source": [
    "a = parse_equation(r)"
   ]
  },
  {
   "cell_type": "code",
   "execution_count": 15,
   "metadata": {},
   "outputs": [
    {
     "name": "stdout",
     "output_type": "stream",
     "text": [
      "(('[H]OC([H])([H])[C@@]([H])(O[H])C(=O)[C@]([H])(O[H])[C@]([H])(O[H])C([H])([H])OP(=O)(O[H])O[H]', -1), 0)\n",
      "(('[H]OC([H])([H])C1(O[H])O[C@]([H])(C([H])([H])OP(=O)(O[H])O[H])[C@@]([H])(O[H])[C@]1([H])O[H]', 1), 9)\n"
     ]
    }
   ],
   "source": [
    "for x in zip(a.items(),[0,9,8]):\n",
    "    print(x)"
   ]
  },
  {
   "cell_type": "code",
   "execution_count": 16,
   "metadata": {},
   "outputs": [],
   "source": [
    "d = pd.read_csv(kegg_additions_csv_path, index_col=0)"
   ]
  },
  {
   "cell_type": "code",
   "execution_count": 17,
   "metadata": {},
   "outputs": [],
   "source": [
    "m0 = Compound(to_mol('[H]OC1([H])C([H])(n2c([H])nc3c(N([H])[H])nc([H])nc32)OC([H])(C([H])([H])OP(=O)(O[H])OP(=O)([O-])OC([H])([H])C2([H])OC([H])([n+]3c([H])c([H])c([H])c(C(=O)C([H])([H])[H])c3[H])C([H])(O[H])C2([H])O[H])C1([H])O[H]', cid_type='smiles'))"
   ]
  },
  {
   "cell_type": "code",
   "execution_count": 18,
   "metadata": {},
   "outputs": [],
   "source": [
    "m0 = m0.mol"
   ]
  },
  {
   "cell_type": "code",
   "execution_count": 19,
   "metadata": {},
   "outputs": [
    {
     "data": {
      "image/png": "[encoded data removed]",
      "text/plain": [
       "<rdkit.Chem.rdchem.Mol at 0x7f0945d6b040>"
      ]
     },
     "execution_count": 19,
     "metadata": {},
     "output_type": "execute_result"
    }
   ],
   "source": [
    "m0"
   ]
  },
  {
   "cell_type": "code",
   "execution_count": 20,
   "metadata": {},
   "outputs": [
    {
     "data": {
      "text/plain": [
       "'[H]OC1([H])C([H])(n2c([H])nc3c(N([H])[H])nc([H])nc32)OC([H])(C([H])([H])OP(=O)(O[H])OP(=O)([O-])OC([H])([H])C2([H])OC([H])([n+]3c([H])c([H])c([H])c(C(=O)C([H])([H])[H])c3[H])C([H])(O[H])C2([H])O[H])C1([H])O[H]'"
      ]
     },
     "execution_count": 20,
     "metadata": {},
     "output_type": "execute_result"
    }
   ],
   "source": [
    "Compound(m0).Smiles"
   ]
  },
  {
   "cell_type": "code",
   "execution_count": 21,
   "metadata": {},
   "outputs": [
    {
     "data": {
      "image/png": "[encoded data removed]",
      "text/plain": [
       "<rdkit.Chem.rdchem.Mol at 0x7f0945d6b190>"
      ]
     },
     "execution_count": 21,
     "metadata": {},
     "output_type": "execute_result"
    }
   ],
   "source": [
    "normalize_mol(m0)"
   ]
  },
  {
   "cell_type": "code",
   "execution_count": 22,
   "metadata": {},
   "outputs": [
    {
     "data": {
      "text/plain": [
       "'CC(=O)c1ccc[n+](C2OC(COP(=O)([O-])OP(=O)(O)OCC3OC(n4cnc5c(N)ncnc54)C(O)C3O)C(O)C2O)c1'"
      ]
     },
     "execution_count": 22,
     "metadata": {},
     "output_type": "execute_result"
    }
   ],
   "source": [
    "rdMolStandardize.StandardizeSmiles('[H]OC1([H])C([H])(n2c([H])nc3c(N([H])[H])nc([H])nc32)OC([H])(C([H])([H])OP(=O)(O[H])OP(=O)([O-])OC([H])([H])C2([H])OC([H])([n+]3c([H])c([H])c([H])c(C(=O)C([H])([H])[H])c3[H])C([H])(O[H])C2([H])O[H])C1([H])O[H]')"
   ]
  },
  {
   "cell_type": "code",
   "execution_count": 23,
   "metadata": {},
   "outputs": [
    {
     "data": {
      "image/png": "[encoded data removed]",
      "text/plain": [
       "<rdkit.Chem.rdchem.Mol at 0x7f0945d6b040>"
      ]
     },
     "execution_count": 23,
     "metadata": {},
     "output_type": "execute_result"
    }
   ],
   "source": [
    "m0"
   ]
  },
  {
   "cell_type": "code",
   "execution_count": 24,
   "metadata": {},
   "outputs": [
    {
     "data": {
      "text/plain": [
       "'[H]OC1([H])C([H])(n2c([H])nc3c(N([H])[H])nc([H])nc32)OC([H])(C([H])([H])OP(=O)(O[H])OP(=O)([O-])OC([H])([H])C2([H])OC([H])([n+]3c([H])c([H])c([H])c(C(=O)C([H])([H])[H])c3[H])C([H])(O[H])C2([H])O[H])C1([H])O[H]'"
      ]
     },
     "execution_count": 24,
     "metadata": {},
     "output_type": "execute_result"
    }
   ],
   "source": [
    "Compound(m0).Smiles"
   ]
  },
  {
   "cell_type": "code",
   "execution_count": 25,
   "metadata": {},
   "outputs": [],
   "source": [
    "u = rdMolStandardize.Uncharger()\n",
    "m00 = u.uncharge(m0)"
   ]
  },
  {
   "cell_type": "code",
   "execution_count": 26,
   "metadata": {},
   "outputs": [
    {
     "data": {
      "image/png": "[encoded data removed]",
      "text/plain": [
       "<rdkit.Chem.rdchem.Mol at 0x7f0945d6b5f0>"
      ]
     },
     "execution_count": 26,
     "metadata": {},
     "output_type": "execute_result"
    }
   ],
   "source": [
    "Chem.AddHs(m00)"
   ]
  },
  {
   "cell_type": "code",
   "execution_count": 27,
   "metadata": {},
   "outputs": [
    {
     "data": {
      "text/plain": [
       "'[H]OC1([H])C([H])(n2c([H])nc3c(N([H])[H])nc([H])nc32)OC([H])(C([H])([H])OP(=O)(O[H])OP(=O)([O-])OC([H])([H])C2([H])OC([H])([n+]3c([H])c([H])c([H])c(C(=O)C([H])([H])[H])c3[H])C([H])(O[H])C2([H])O[H])C1([H])O[H]'"
      ]
     },
     "execution_count": 27,
     "metadata": {},
     "output_type": "execute_result"
    }
   ],
   "source": [
    "Compound(Chem.AddHs(m00)).Smiles"
   ]
  },
  {
   "cell_type": "code",
   "execution_count": 28,
   "metadata": {},
   "outputs": [
    {
     "data": {
      "text/plain": [
       "'[H][O][C]1([H])[C]([H])([n]2[c]([H])[n][c]3[c]([N]([H])[H])[n][c]([H])[n][c]32)[O][C]([H])([C]([H])([H])[O][P](=[O])([O][H])[O][P](=[O])([O-])[O][C]([H])([H])[C]2([H])[O][C]([H])([n+]3[c]([H])[c]([H])[c]([H])[c]([C](=[O])[C]([H])([H])[H])[c]3[H])[C]([H])([O][H])[C]2([H])[O][H])[C]1([H])[O][H]'"
      ]
     },
     "execution_count": 28,
     "metadata": {},
     "output_type": "execute_result"
    }
   ],
   "source": [
    "Chem.MolToSmiles(m0, allHsExplicit=True)"
   ]
  },
  {
   "cell_type": "code",
   "execution_count": 29,
   "metadata": {},
   "outputs": [
    {
     "data": {
      "text/plain": [
       "'[H]OC1([H])C([H])(n2c([H])nc3c(N([H])[H])nc([H])nc32)OC([H])(C([H])([H])OP(=O)(O[H])OP(=O)([O-])OC([H])([H])C2([H])OC([H])([n+]3c([H])c([H])c([H])c(C(=O)C([H])([H])[H])c3[H])C([H])(O[H])C2([H])O[H])C1([H])O[H]'"
      ]
     },
     "execution_count": 29,
     "metadata": {},
     "output_type": "execute_result"
    }
   ],
   "source": [
    "Chem.MolToSmiles(m0)"
   ]
  },
  {
   "cell_type": "code",
   "execution_count": 30,
   "metadata": {},
   "outputs": [
    {
     "data": {
      "image/png": "[encoded data removed]",
      "text/plain": [
       "<rdkit.Chem.rdchem.Mol at 0x7f0945d6b3c0>"
      ]
     },
     "execution_count": 30,
     "metadata": {},
     "output_type": "execute_result"
    }
   ],
   "source": [
    "rdMolStandardize.Normalize(m0, )"
   ]
  },
  {
   "cell_type": "code",
   "execution_count": 31,
   "metadata": {},
   "outputs": [],
   "source": [
    "a = rdMolStandardize.ChargeParent(m0)"
   ]
  },
  {
   "cell_type": "code",
   "execution_count": 32,
   "metadata": {},
   "outputs": [
    {
     "data": {
      "text/plain": [
       "'CC(=O)c1ccc[n+](C2OC(COP(=O)([O-])OP(=O)(O)OCC3OC(n4cnc5c(N)ncnc54)C(O)C3O)C(O)C2O)c1'"
      ]
     },
     "execution_count": 32,
     "metadata": {},
     "output_type": "execute_result"
    }
   ],
   "source": [
    "Chem.MolToSmiles(a)"
   ]
  },
  {
   "cell_type": "code",
   "execution_count": 33,
   "metadata": {},
   "outputs": [
    {
     "data": {
      "text/plain": [
       "'[H]OC1([H])C([H])(n2c([H])nc3c(N([H])[H])nc([H])nc32)OC([H])(C([H])([H])OP(=O)(O[H])OP(=O)([O-])OC([H])([H])C2([H])OC([H])([n+]3c([H])c([H])c([H])c(C(=O)C([H])([H])[H])c3[H])C([H])(O[H])C2([H])O[H])C1([H])O[H]'"
      ]
     },
     "execution_count": 33,
     "metadata": {},
     "output_type": "execute_result"
    }
   ],
   "source": [
    "Chem.MolToSmiles(m0)"
   ]
  },
  {
   "cell_type": "code",
   "execution_count": 45,
   "metadata": {},
   "outputs": [
    {
     "name": "stderr",
     "output_type": "stream",
     "text": [
      "[H+]\t8\t\t\t\"pka: Inconsistent molecular structure.\"\n",
      "[H][#8]P(=O)([#8][H])[#8]C([H])([H])[C@]([H])([#7]([H])-[#6](-*)=O)[#6](=O)-[#7]([H])-*\t67\t\t\t\"pka: Calculation result is not defined for query molecules: [#8]P([#8])(=O)[#8]-[#6]-[#6@H](-[#7]-[#6](-*)=O)-[#6](=O)-[#7]-*\"\n",
      "[H][#8][C@]([H])(C([H])([H])[H])C([H])([H])[#6](=O)-[#16]-*\t87\t\t\t\"pka: Calculation result is not defined for query molecules: [#6]-[#6@@H](-[#8])-[#6]-[#6](=O)-[#16]-*\"\n",
      "[H][#8][C@@]1([H])[C@@]([H])([#8][H])[C@@]([H])([#8]P(=O)([#8][H])[#8]C([H])([H])[C@]([H])([#8]-[#6](-*)=O)C([H])([H])[#8]-[#6](-*)=O)[C@]([H])([#8][H])[C@@]([H])([#8][H])[C@]1([H])[#8]P(=O)([#8][H])[#8][H]\t109\t\t\t\"pka: Calculation result is not defined for query molecules: [#8]-[#6@H]-1-[#6@@H](-[#8])-[#6@@H](-[#8]P([#8])(=O)[#8]-[#6]-[#6@@H](-[#6]-[#8]-[#6](-*)=O)-[#8]-[#6](-*)=O)-[#6@H](-[#8])-[#6@@H](-[#8])-[#6@@H]-1-[#8]P([#8])([#8])=O\"\n",
      "[H][#8]C([H])([H])[C@]([H])([#7]([H])-[#6](-*)=O)[#6](=O)-[#7]([H])-*\t226\t\t\t\"pka: Calculation result is not defined for query molecules: [#8]-[#6]-[#6@H](-[#7]-[#6](-*)=O)-[#6](=O)-[#7]-*\"\n",
      "[H][#7](-*)[C@]1([H])[#6](=O)-[#7]([H])[C@@]([H])(*)[#6](=O)-[#7]([H])[C@@]([H])(*)[#6](=O)-[#7]([H])[C@]([H])([#6](-*)=O)C([H])([H])[#16]-[#16]C1([H])[H]\t245\t\t\t\"pka: Calculation result is not defined for query molecules: *-[#7]-[#6@H]-1-[#6]-[#16]-[#16]-[#6]-[#6@H](-[#7]-[#6](=O)-[#6@H](-*)-[#7]-[#6](=O)-[#6@H](-*)-[#7]-[#6]-1=O)-[#6](-*)=O\"\n",
      "[H]\\[#6](=[#6](\\[H])C([H])([H])[H])-[#6](=O)-[#16]-*\t261\t\t\t\"pka: Calculation result is not defined for query molecules: [#6]\\\\[#6]=[#6]\\\\[#6](=O)-[#16]-*\"\n",
      "[H][#16]-*\t292\t\t\t\"pka: Calculation result is not defined for query molecules: [#16]-*\"\n",
      "[H][#8][C@@]1([H])[C@@]([H])([#8][C@]([H])(C([H])([H])[#8]P(=O)([#8][H])[#8]-c2c([H])c([H])c(c([H])c2[H])C([H])([H])[C@]([H])([#7]([H])-[#6](-*)=O)[#6](=O)-[#7]([H])-*)[C@@]1([H])[#8][H])n1c([H])nc2c(nc([H])nc12)-[#7]([H])[H]\t326\t\t\t\"pka: Calculation result is not defined for query molecules: [#7]-c1ncnc2n(cnc12)-[#6@@H]-1-[#8]-[#6@H](-[#6]-[#8]P([#8])(=O)[#8]-c2ccc(-[#6]-[#6@H](-[#7]-[#6](-*)=O)-[#6](=O)-[#7]-*)cc2)-[#6@@H](-[#8])-[#6@H]-1-[#8]\"\n",
      "[H][#8][C@@]1([H])[C@]([H])([#8][H])[C@@]([H])([#8][H])[C@]([H])([#8]P(=O)([#8][H])[#8]C([H])([H])C([H])([#8]-[#6](-*)=O)C([H])([H])[#8]-[#6](-*)=O)[C@]([H])([#8][H])[C@]1([H])[#8][H]\t430\t\t\t\"pka: Calculation result is not defined for query molecules: [#8]-[#6@H]-1-[#6@H](-[#8])-[#6@@H](-[#8])-[#6@H](-[#8]P([#8])(=O)[#8]-[#6]-[#6](-[#6]-[#8]-[#6](-*)=O)-[#8]-[#6](-*)=O)-[#6@H](-[#8])-[#6@@H]-1-[#8]\"\n",
      "[H][#8]-c1c([H])c([H])c(c([H])c1[H])C([H])([H])[C@]([H])([#7]([H])-[#6](-*)=O)[#6](=O)-[#7]([H])-*\t484\t\t\t\"pka: Calculation result is not defined for query molecules: [#8]-c1ccc(-[#6]-[#6@H](-[#7]-[#6](-*)=O)-[#6](=O)-[#7]-*)cc1\"\n",
      "[H][#16]C([H])([H])[C@]([H])([#7]([H])-*)[#6](=O)-[#7]([H])[C@@]([H])(*)[#6](=O)-[#7]([H])[C@@]([H])(*)[#6](=O)-[#7]([H])[C@]([H])([#6](-*)=O)C([H])([H])[#16][H]\t496\t\t\t\"pka: Calculation result is not defined for query molecules: [#16]-[#6]-[#6@H](-[#7]-*)-[#6](=O)-[#7]-[#6@@H](-*)-[#6](=O)-[#7]-[#6@@H](-*)-[#6](=O)-[#7]-[#6@@H](-[#6]-[#16])-[#6](-*)=O\"\n",
      "[H][#8]-[#6](=O)C([H])([H])[#6](=O)-[#16]-*\t513\t\t\t\"pka: Calculation result is not defined for query molecules: [#8]-[#6](=O)-[#6]-[#6](=O)-[#16]-*\"\n",
      "[H]C([H])([H])[#6](=O)-[#16]-*\t518\t\t\t\"pka: Calculation result is not defined for query molecules: [#6]-[#6](=O)-[#16]-*\"\n"
     ]
    }
   ],
   "source": [
    "a = os.popen(f\"cxcalc pKa -t acidic,basic -a 8 -b 8 test.smi\")\n",
    "with open('test.tsv', 'w') as f:\n",
    "    f.write(a.read())\n"
   ]
  },
  {
   "cell_type": "code",
   "execution_count": 46,
   "metadata": {},
   "outputs": [],
   "source": [
    "s = [x.strip() for x in open('test.smi', 'r').readlines()]"
   ]
  },
  {
   "cell_type": "code",
   "execution_count": 47,
   "metadata": {},
   "outputs": [],
   "source": [
    "p = pd.read_csv('test.tsv', sep='\\t').drop(columns='id')\n",
    "p.index = s\n",
    "p = p.reset_index()\n",
    "p = p.rename(columns={'index':'smiles'})"
   ]
  },
  {
   "cell_type": "code",
   "execution_count": 50,
   "metadata": {},
   "outputs": [],
   "source": [
    "op = pd.read_csv(chemaxon_pka_csv_path)\n",
    "p = pd.concat([op,p])"
   ]
  },
  {
   "cell_type": "code",
   "execution_count": 52,
   "metadata": {},
   "outputs": [],
   "source": [
    "p = p.drop_duplicates()"
   ]
  },
  {
   "cell_type": "code",
   "execution_count": 54,
   "metadata": {},
   "outputs": [],
   "source": [
    "p.to_csv(chemaxon_pka_csv_path, index=False)"
   ]
  },
  {
   "cell_type": "code",
   "execution_count": 23,
   "metadata": {},
   "outputs": [],
   "source": [
    "m = to_mol('C00033', cid_type='kegg')\n",
    "#m = to_mol('[Fe]', cid_type='smiles')"
   ]
  },
  {
   "cell_type": "code",
   "execution_count": 24,
   "metadata": {},
   "outputs": [],
   "source": [
    "m = Compound(m)"
   ]
  },
  {
   "cell_type": "code",
   "execution_count": 30,
   "metadata": {},
   "outputs": [
    {
     "data": {
      "text/plain": [
       "{'[H]OC(=O)C([H])([H])[H]': 1}"
      ]
     },
     "execution_count": 30,
     "metadata": {},
     "output_type": "execute_result"
    }
   ],
   "source": [
    "Reaction(m.Smiles).rxnSmiles"
   ]
  },
  {
   "cell_type": "code",
   "execution_count": 26,
   "metadata": {},
   "outputs": [
    {
     "data": {
      "text/plain": [
       "14.042742763091155"
      ]
     },
     "execution_count": 26,
     "metadata": {},
     "output_type": "execute_result"
    }
   ],
   "source": [
    "m.ddGf()"
   ]
  },
  {
   "cell_type": "code",
   "execution_count": 27,
   "metadata": {},
   "outputs": [
    {
     "data": {
      "text/plain": [
       "{'acidicValuesByAtom': [{'atomIndex': 2, 'value': 4.54}],\n",
       " 'basicValuesByAtom': []}"
      ]
     },
     "execution_count": 27,
     "metadata": {},
     "output_type": "execute_result"
    }
   ],
   "source": [
    "get_pKa(m, source='file')"
   ]
  },
  {
   "cell_type": "code",
   "execution_count": null,
   "metadata": {},
   "outputs": [],
   "source": []
  }
 ],
 "metadata": {
  "kernelspec": {
   "display_name": "dGbyG",
   "language": "python",
   "name": "python3"
  },
  "language_info": {
   "codemirror_mode": {
    "name": "ipython",
    "version": 3
   },
   "file_extension": ".py",
   "mimetype": "text/x-python",
   "name": "python",
   "nbconvert_exporter": "python",
   "pygments_lexer": "ipython3",
   "version": "3.9.16"
  },
  "orig_nbformat": 4
 },
 "nbformat": 4,
 "nbformat_minor": 2
}
