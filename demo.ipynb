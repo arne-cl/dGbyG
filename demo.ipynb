{
 "cells": [
  {
   "cell_type": "markdown",
   "metadata": {},
   "source": [
    "# Tutorial of dGbyG"
   ]
  },
  {
   "cell_type": "code",
   "execution_count": 1,
   "metadata": {},
   "outputs": [],
   "source": [
    "# import package\n",
    "from dGbyG.api import Compound, Reaction"
   ]
  },
  {
   "cell_type": "markdown",
   "metadata": {},
   "source": [
    "## Prediction of standard Gibbs energy change for reaction\n",
    "### 1. Prediction in default condition \n",
    "default condition is (pH=7.0, ionic strength=0.25 M, pMg=14, electrical potential=0.0 V)"
   ]
  },
  {
   "cell_type": "code",
   "execution_count": 2,
   "metadata": {},
   "outputs": [
    {
     "name": "stdout",
     "output_type": "stream",
     "text": [
      "default_condition is {'T': 298.15, 'pH': 7.0, 'I': 0.25, 'pMg': 14.0, 'e_potential': 0.0}\n"
     ]
    }
   ],
   "source": [
    "from dGbyG.utils.constants import default_condition\n",
    "print('default_condition is', default_condition)"
   ]
  },
  {
   "cell_type": "markdown",
   "metadata": {},
   "source": [
    "### 1.1. prepare the equation of reaction\n",
    "Using the reaction {4-hydroxy-2-oxoglutarate = pyruvate + glyoxylate} as example here.\n",
    "\n",
    "We highly recommend using smiles or inchi as identifier of molecules, because they are not dependent on certain database. KEGG entry can be accepted as well if internet connection is available. We also support metanetx and hmdb id, but you need to make sure that necessary database files have been download and put into ./data/MetaNetX and ./data/HMDB  "
   ]
  },
  {
   "cell_type": "code",
   "execution_count": 3,
   "metadata": {},
   "outputs": [],
   "source": [
    "equation = '[H]OC(=O)C(=O)C([H])([H])C([H])(O[H])C(=O)O[H] = [H]OC(=O)C(=O)C([H])([H])[H] + [H]OC(=O)C([H])=O'"
   ]
  },
  {
   "cell_type": "markdown",
   "metadata": {},
   "source": [
    "#### 1.2. Creating Reaction object.\n",
    "The type of reactants' identifier need to be specified."
   ]
  },
  {
   "cell_type": "code",
   "execution_count": 4,
   "metadata": {},
   "outputs": [],
   "source": [
    "reaction = Reaction(equation, cid_type='smiles')"
   ]
  },
  {
   "cell_type": "markdown",
   "metadata": {},
   "source": [
    "#### 1.3. Predicting standard Gibbs energy change of the reaction\n",
    "The first value is predicted standard Gibbs energy change, and the second is the standard deviation of the predicted value."
   ]
  },
  {
   "cell_type": "code",
   "execution_count": 5,
   "metadata": {},
   "outputs": [
    {
     "name": "stdout",
     "output_type": "stream",
     "text": [
      "(21.08386993408203, 1.3231174)\n"
     ]
    }
   ],
   "source": [
    "print(reaction.transformed_standard_dGr_prime)"
   ]
  },
  {
   "cell_type": "markdown",
   "metadata": {},
   "source": [
    "### 2. Prediction in other condition or for multicompartment reaction\n",
    "if you need to predict the reaction in a specific condition (adjusting pH, ion strength, electrical potential, pMg) or multicompartment reaction, it is better to follow the steps below. \n",
    "\n",
    "For example (here we use kegg entry.), Acetate Transport reaction (from cytosol to golgi Apparatus),  \n",
    "Acetic acid[c] <=> Acetic acid[g]. KEGG entry of cetic acid is C00033.  \n",
    "c: cytosol, pH=7.2  \n",
    "g: golgi apparatus, pH=6.35\n",
    "#### 2.1. Creating Compound object and setting condition for each reactant"
   ]
  },
  {
   "cell_type": "code",
   "execution_count": 12,
   "metadata": {},
   "outputs": [],
   "source": [
    "substrate = Compound('C00033', mol_type='kegg')\n",
    "substrate.condition['pH']=7.2\n",
    "\n",
    "product = Compound('C00033', mol_type='kegg')\n",
    "product.condition['pH']=6.35"
   ]
  },
  {
   "cell_type": "markdown",
   "metadata": {},
   "source": [
    "#### 2.2. Creating Reaction object\n",
    "Stoichiometric number of substrates are negative, that of products are positive."
   ]
  },
  {
   "cell_type": "code",
   "execution_count": 13,
   "metadata": {},
   "outputs": [],
   "source": [
    "equation_dict = {substrate:-1, product:1}\n",
    "reaction = Reaction(equation_dict, cid_type='compound')"
   ]
  },
  {
   "cell_type": "markdown",
   "metadata": {},
   "source": [
    "#### 2.3. Predicting standard Gibbs energy change of the reaction\n",
    "The first value is predicted standard Gibbs energy change, and the second is the standard deviation of the predicted value."
   ]
  },
  {
   "cell_type": "code",
   "execution_count": 14,
   "metadata": {},
   "outputs": [
    {
     "name": "stdout",
     "output_type": "stream",
     "text": [
      "(-14.580277122634328, 8.631674e-06)\n"
     ]
    }
   ],
   "source": [
    "print(reaction.transformed_standard_dGr_prime)"
   ]
  },
  {
   "cell_type": "code",
   "execution_count": null,
   "metadata": {},
   "outputs": [],
   "source": []
  }
 ],
 "metadata": {
  "kernelspec": {
   "display_name": "TFBA",
   "language": "python",
   "name": "python3"
  },
  "language_info": {
   "codemirror_mode": {
    "name": "ipython",
    "version": 3
   },
   "file_extension": ".py",
   "mimetype": "text/x-python",
   "name": "python",
   "nbconvert_exporter": "python",
   "pygments_lexer": "ipython3",
   "version": "3.12.2"
  }
 },
 "nbformat": 4,
 "nbformat_minor": 2
}
