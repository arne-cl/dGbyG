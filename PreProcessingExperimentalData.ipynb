{
 "cells": [
  {
   "cell_type": "code",
   "execution_count": 6,
   "metadata": {},
   "outputs": [],
   "source": [
    "import re, sys\n",
    "import pandas as pd\n",
    "import matplotlib.pyplot as plt\n",
    "from rdkit import RDLogger\n",
    "RDLogger.DisableLog('rdApp.*')\n",
    "\n",
    "from dGbyG.Chemistry.Compound import Compound\n",
    "from dGbyG.Chemistry.Reaction import Reaction\n",
    "from dGbyG.utils.ChemFunc import *\n",
    "from dGbyG.utils.constants import *"
   ]
  },
  {
   "cell_type": "code",
   "execution_count": 7,
   "metadata": {},
   "outputs": [],
   "source": [
    "tecrdb = pd.read_csv('./data/experimental_dG_from_eQ/TECRDB.csv')\n",
    "\n",
    "data={'COCOM00001': '[O-]C(=O)C1=C(Cl)C(Cl)=CC=C1',\n",
    "      'COCOM00002': '[O-]C(=O)C1=CC(Cl)=CC(Cl)=C1',\n",
    "      'COCOM00003': '[O-]C(=O)C1=C(Cl)C(Cl)=CC(Cl)=C1',\n",
    "      'COCOM00004': '[O-]C(=O)C1=CC(Cl)=C(Cl)C(Cl)=C1',\n",
    "      'COCOM00005': '[O-]C(=O)C1=CC(Br)=CC=C1',\n",
    "      'COCOM00006': '[O-]C(=O)C1=CC(I)=CC=C1',\n",
    "      'COCOM00007': 'NC1=C(C=C(Cl)C=C1)C([O-])=O',\n",
    "      'COCOM00008': 'OC1=C(C=C(Cl)C=C1)C([O-])=O',\n",
    "      'COCOM00009': 'CC1=C(C=C(Cl)C=C1)C([O-])=O',\n",
    "      'COCOM00010': 'CCC(C)Cl',\n",
    "      'COCOM00011': 'C[N+](C)(C)[O-]',\n",
    "      'COCOM00012': 'CC(=O)C1=C[N+](=CC=C1)C1OC(COP([O-])(=O)OP([O-])(=O)OCC2OC(C(O)C2O)N2C=NC3=C(N)N=CN=C23)C(O)C1O',\n",
    "      'COCOM00013': 'CC(=O)C1=CN(C=CC1)C1OC(COP([O-])(=O)OP([O-])(=O)OCC2OC(C(O)C2O)N2C=NC3=C(N)N=CN=C23)C(O)C1O'}\n",
    "equilibrator_df = pd.DataFrame(data=data.items(), columns=['id', 'Smiles'], ).set_index(keys='id')"
   ]
  },
  {
   "cell_type": "code",
   "execution_count": 8,
   "metadata": {},
   "outputs": [
    {
     "name": "stdout",
     "output_type": "stream",
     "text": [
      "C01644 is tRNA(Ile), which has no Molfile\n",
      "C01644 is tRNA(Ile), which has no Molfile\n",
      "C01644 is tRNA(Ile), which has no Molfile\n",
      "C01644 is tRNA(Ile), which has no Molfile\n",
      "C01644 is tRNA(Ile), which has no Molfile\n",
      "C01644 is tRNA(Ile), which has no Molfile\n",
      "C01644 is tRNA(Ile), which has no Molfile\n",
      "C01644 is tRNA(Ile), which has no Molfile\n",
      "C01644 is tRNA(Ile), which has no Molfile\n",
      "C01644 is tRNA(Ile), which has no Molfile\n",
      "C01644 is tRNA(Ile), which has no Molfile\n",
      "C01644 is tRNA(Ile), which has no Molfile\n",
      "C01644 is tRNA(Ile), which has no Molfile\n",
      "C01644 is tRNA(Ile), which has no Molfile\n",
      "C01644 is tRNA(Ile), which has no Molfile\n",
      "C01644 is tRNA(Ile), which has no Molfile\n",
      "C01644 is tRNA(Ile), which has no Molfile\n",
      "C01644 is tRNA(Ile), which has no Molfile\n",
      "C01650 is tRNA(Ser), which has no Molfile\n",
      "C01650 is tRNA(Ser), which has no Molfile\n",
      "C01650 is tRNA(Ser), which has no Molfile\n",
      "C01650 is tRNA(Ser), which has no Molfile\n",
      "C01650 is tRNA(Ser), which has no Molfile\n",
      "C01650 is tRNA(Ser), which has no Molfile\n",
      "C01650 is tRNA(Ser), which has no Molfile\n",
      "C01650 is tRNA(Ser), which has no Molfile\n",
      "C01650 is tRNA(Ser), which has no Molfile\n",
      "C01650 is tRNA(Ser), which has no Molfile\n",
      "C01650 is tRNA(Ser), which has no Molfile\n",
      "C01650 is tRNA(Ser), which has no Molfile\n",
      "C01650 is tRNA(Ser), which has no Molfile\n",
      "C01650 is tRNA(Ser), which has no Molfile\n",
      "C01643 is tRNA(His), which has no Molfile\n",
      "C01643 is tRNA(His), which has no Molfile\n",
      "C01643 is tRNA(His), which has no Molfile\n",
      "C01643 is tRNA(His), which has no Molfile\n",
      "C01643 is tRNA(His), which has no Molfile\n",
      "C01643 is tRNA(His), which has no Molfile\n",
      "C01643 is tRNA(His), which has no Molfile\n",
      "C01643 is tRNA(His), which has no Molfile\n",
      "C01643 is tRNA(His), which has no Molfile\n",
      "C01643 is tRNA(His), which has no Molfile\n",
      "C01643 is tRNA(His), which has no Molfile\n",
      "C01643 is tRNA(His), which has no Molfile\n",
      "C01643 is tRNA(His), which has no Molfile\n",
      "C01643 is tRNA(His), which has no Molfile\n",
      "C01643 is tRNA(His), which has no Molfile\n",
      "C01643 is tRNA(His), which has no Molfile\n",
      "C01643 is tRNA(His), which has no Molfile\n",
      "C01643 is tRNA(His), which has no Molfile\n",
      "C01646 is tRNA(Lys), which has no Molfile\n",
      "C01646 is tRNA(Lys), which has no Molfile\n",
      "C01646 is tRNA(Lys), which has no Molfile\n",
      "C01646 is tRNA(Lys), which has no Molfile\n",
      "C01646 is tRNA(Lys), which has no Molfile\n",
      "C01646 is tRNA(Lys), which has no Molfile\n",
      "C01646 is tRNA(Lys), which has no Molfile\n",
      "C01646 is tRNA(Lys), which has no Molfile\n",
      "C01646 is tRNA(Lys), which has no Molfile\n",
      "C01646 is tRNA(Lys), which has no Molfile\n",
      "C01646 is tRNA(Lys), which has no Molfile\n",
      "C01646 is tRNA(Lys), which has no Molfile\n",
      "C01646 is tRNA(Lys), which has no Molfile\n",
      "C01646 is tRNA(Lys), which has no Molfile\n",
      "C01646 is tRNA(Lys), which has no Molfile\n",
      "C01646 is tRNA(Lys), which has no Molfile\n",
      "C01646 is tRNA(Lys), which has no Molfile\n",
      "C01646 is tRNA(Lys), which has no Molfile\n",
      "C01648 is tRNA(Phe), which has no Molfile\n",
      "C01648 is tRNA(Phe), which has no Molfile\n",
      "C01648 is tRNA(Phe), which has no Molfile\n",
      "C01648 is tRNA(Phe), which has no Molfile\n",
      "C01648 is tRNA(Phe), which has no Molfile\n",
      "C01648 is tRNA(Phe), which has no Molfile\n",
      "C01648 is tRNA(Phe), which has no Molfile\n",
      "C01648 is tRNA(Phe), which has no Molfile\n",
      "C01648 is tRNA(Phe), which has no Molfile\n",
      "C01648 is tRNA(Phe), which has no Molfile\n",
      "C01648 is tRNA(Phe), which has no Molfile\n",
      "C01648 is tRNA(Phe), which has no Molfile\n",
      "C01648 is tRNA(Phe), which has no Molfile\n",
      "C01648 is tRNA(Phe), which has no Molfile\n",
      "C03688 is Apo-[acyl-carrier-protein], which has no Molfile\n",
      "C03688 is Apo-[acyl-carrier-protein], which has no Molfile\n",
      "C03688 is Apo-[acyl-carrier-protein], which has no Molfile\n",
      "C03688 is Apo-[acyl-carrier-protein], which has no Molfile\n",
      "C01653 is tRNA(Val), which has no Molfile\n",
      "C01636 is tRNA(Arg), which has no Molfile\n",
      "C01636 is tRNA(Arg), which has no Molfile\n",
      "C01636 is tRNA(Arg), which has no Molfile\n",
      "C01636 is tRNA(Arg), which has no Molfile\n",
      "C01636 is tRNA(Arg), which has no Molfile\n",
      "C01636 is tRNA(Arg), which has no Molfile\n",
      "C01636 is tRNA(Arg), which has no Molfile\n",
      "C01636 is tRNA(Arg), which has no Molfile\n",
      "C01636 is tRNA(Arg), which has no Molfile\n",
      "C01636 is tRNA(Arg), which has no Molfile\n",
      "C01636 is tRNA(Arg), which has no Molfile\n",
      "C01636 is tRNA(Arg), which has no Molfile\n",
      "C01636 is tRNA(Arg), which has no Molfile\n",
      "C01636 is tRNA(Arg), which has no Molfile\n",
      "C01636 is tRNA(Arg), which has no Molfile\n",
      "C01636 is tRNA(Arg), which has no Molfile\n",
      "C01636 is tRNA(Arg), which has no Molfile\n",
      "C01636 is tRNA(Arg), which has no Molfile\n",
      "C00787 is tRNA(Tyr), which has no Molfile\n",
      "C00787 is tRNA(Tyr), which has no Molfile\n",
      "C00787 is tRNA(Tyr), which has no Molfile\n",
      "C00787 is tRNA(Tyr), which has no Molfile\n",
      "C00787 is tRNA(Tyr), which has no Molfile\n",
      "C00787 is tRNA(Tyr), which has no Molfile\n",
      "C00787 is tRNA(Tyr), which has no Molfile\n",
      "C00787 is tRNA(Tyr), which has no Molfile\n",
      "C00787 is tRNA(Tyr), which has no Molfile\n",
      "C00787 is tRNA(Tyr), which has no Molfile\n",
      "C00787 is tRNA(Tyr), which has no Molfile\n",
      "C00787 is tRNA(Tyr), which has no Molfile\n",
      "C00787 is tRNA(Tyr), which has no Molfile\n",
      "C00787 is tRNA(Tyr), which has no Molfile\n",
      "C00787 is tRNA(Tyr), which has no Molfile\n",
      "C00787 is tRNA(Tyr), which has no Molfile\n",
      "C00787 is tRNA(Tyr), which has no Molfile\n",
      "C00787 is tRNA(Tyr), which has no Molfile\n",
      "C00787 is tRNA(Tyr), which has no Molfile\n",
      "C00787 is tRNA(Tyr), which has no Molfile\n",
      "C01651 is tRNA(Thr), which has no Molfile\n"
     ]
    }
   ],
   "source": [
    "tecrdb_copy = tecrdb.loc[:,['description', 'reaction', 'K_prime', 'temperature', 'ionic_strength', 'p_h', 'p_mg']].copy()\n",
    "\n",
    "for i in tecrdb_copy.index:\n",
    "    r = tecrdb_copy.loc[i,'reaction']\n",
    "    reaction = parse_equation(r)\n",
    "    rxn = {}\n",
    "    for name, coeff in reaction.items():\n",
    "        name = name.strip()\n",
    "        if c := re.match(r'^kegg:(C\\d{5})$', name):\n",
    "            kegg_entry = c.group(1)\n",
    "            mol = to_mol(kegg_entry, 'kegg')\n",
    "        elif c := re.match(r'^metanetx.chemical:(.+)$', name):\n",
    "            metanetx_id = c.group(1)\n",
    "            mol = to_mol(metanetx_id, 'metanetx')\n",
    "        elif c := re.match(r'COCO:(.+)$', name):\n",
    "            equilibrator_id = c.group(1)\n",
    "            smiles = equilibrator_df.loc[equilibrator_id, 'Smiles']\n",
    "            mol = to_mol(smiles, 'Smiles')\n",
    "        else:\n",
    "            print(i)\n",
    "\n",
    "        if not mol:\n",
    "            rxn = pd.NA\n",
    "            break\n",
    "        \n",
    "        compound = Compound(mol)\n",
    "        smiles = compound.Smiles\n",
    "        rxn[smiles] = coeff\n",
    "    \n",
    "    rxn = build_equation(rxn) if pd.notna(rxn) else pd.NA\n",
    "    tecrdb_copy.loc[i,'reaction'] = rxn"
   ]
  },
  {
   "cell_type": "code",
   "execution_count": 9,
   "metadata": {},
   "outputs": [],
   "source": [
    "tecrdb_copy = tecrdb_copy.loc[pd.notna(tecrdb_copy.loc[:,['reaction', 'K_prime']]).all(axis=1),:]\n",
    "tecrdb_copy = tecrdb_copy.rename(columns={'temperature':'T', 'ionic_strength':'I', 'p_h':'pH', 'p_mg':'pMg'})\n",
    "nontrans_standard_dg_primes = [(-R * row.T * np.log(row.K_prime)) for row in tecrdb_copy.itertuples()]\n",
    "tecrdb_copy = tecrdb_copy.assign(**{\"nontrans_standard_dg_primes\": nontrans_standard_dg_primes})"
   ]
  },
  {
   "cell_type": "code",
   "execution_count": 10,
   "metadata": {},
   "outputs": [
    {
     "name": "stdout",
     "output_type": "stream",
     "text": [
      "{'O': 0, 'C': -8, 'N': 0, 'S': 0, 'H': -5, 'charge': 0, '*': 1}\n",
      "{'O': 0, 'C': 18, 'P': 0, 'N': 4, 'S': 0, 'H': -1, 'charge': 0, '*': 21}\n",
      "{'O': 0, 'C': 84.0, 'H': 58.0, 'charge': 0, '*': 8.0, 'N': 16.0, 'S': 4.0}\n"
     ]
    }
   ],
   "source": [
    "balanced = []\n",
    "for i in tecrdb_copy.index:\n",
    "    r = tecrdb_copy.loc[i, 'reaction']\n",
    "    r = Reaction(r, rxn_type='str', cid_type='smiles')\n",
    "    if not r.is_balanced():\n",
    "        balanced.append(False)\n",
    "    else:\n",
    "        r.balance()\n",
    "        tecrdb_copy.loc[i, 'reaction'] = r.equationSmiles\n",
    "        balanced.append(True)\n",
    "tecrdb_copy = tecrdb_copy.loc[balanced, :]"
   ]
  },
  {
   "cell_type": "code",
   "execution_count": 11,
   "metadata": {},
   "outputs": [],
   "source": [
    "ddg_prime = np.array([])\n",
    "for row in tecrdb_copy.itertuples():\n",
    "    R = Reaction(row.reaction)\n",
    "    condition = {'T':row.T}\n",
    "    condition['pH'] = row.pH if pd.notna(row.pH) else default_pH\n",
    "    condition['I'] = row.I if pd.notna(row.I) else default_I\n",
    "    condition['pMg'] = row.pMg if pd.notna(row.pMg) else default_pMg\n",
    "    if R.can_be_transformed:\n",
    "        ddg_prime = np.append(ddg_prime, R.transform(condition, default_condition))\n",
    "    else:\n",
    "        print(R.equationSmiles)\n",
    "tecrdb_copy.loc[:,'standard_dg_primes'] = tecrdb_copy.loc[:,'nontrans_standard_dg_primes'] + ddg_prime"
   ]
  },
  {
   "cell_type": "code",
   "execution_count": 12,
   "metadata": {},
   "outputs": [],
   "source": [
    "tecrdb_dedup = pd.DataFrame(index=range(len(set(tecrdb_copy.reaction))), \n",
    "                            columns=['description', 'reaction', 'nontrans_standard_dg_prime','standard_dg_prime',\n",
    "                                     'nontrans_stderr', 'stderr', 'n', 'SEM'])\n",
    "i = 0\n",
    "tecrdb_copy.index = tecrdb_copy.reaction\n",
    "for r in set(tecrdb_copy.index):\n",
    "    reaction = tecrdb_copy.loc[[r],:]\n",
    "    tecrdb_dedup.loc[i,'description'] = reaction.loc[:,'description'][0]\n",
    "    tecrdb_dedup.loc[i,'reaction'] = r\n",
    "    tecrdb_dedup.loc[i,'nontrans_standard_dg_prime'] = reaction.loc[:,'nontrans_standard_dg_primes'].mean()\n",
    "    tecrdb_dedup.loc[i,'standard_dg_prime'] = reaction.loc[:,'standard_dg_primes'].mean()\n",
    "    tecrdb_dedup.loc[i,'nontrans_stderr'] = reaction.loc[:,'nontrans_standard_dg_primes'].std(ddof=1)\n",
    "    tecrdb_dedup.loc[i,'stderr'] = reaction.loc[:,'standard_dg_primes'].std(ddof=1)\n",
    "    tecrdb_dedup.loc[i,'n'] = reaction.shape[0]\n",
    "    tecrdb_dedup.loc[i,'SEM'] = reaction.loc[:,'standard_dg_primes'].sem(ddof=1)\n",
    "    i += 1\n",
    "\n",
    "tecrdb_dedup.loc[:,['T','I','pH','pMg']] = [default_T, default_I, default_pH, default_pMg]"
   ]
  },
  {
   "cell_type": "code",
   "execution_count": 13,
   "metadata": {},
   "outputs": [
    {
     "name": "stderr",
     "output_type": "stream",
     "text": [
      "/home/fanwc/anaconda3/envs/dGbyG/lib/python3.9/site-packages/numpy/lib/histograms.py:824: RuntimeWarning: invalid value encountered in greater_equal\n",
      "  keep = (tmp_a >= first_edge)\n",
      "/home/fanwc/anaconda3/envs/dGbyG/lib/python3.9/site-packages/numpy/lib/histograms.py:825: RuntimeWarning: invalid value encountered in less_equal\n",
      "  keep &= (tmp_a <= last_edge)\n"
     ]
    },
    {
     "data": {
      "image/png": "[encoded data removed]",
      "text/plain": [
       "<Figure size 640x480 with 1 Axes>"
      ]
     },
     "metadata": {},
     "output_type": "display_data"
    }
   ],
   "source": [
    "y0,x0 = np.histogram(tecrdb_dedup.loc[:,'nontrans_stderr'], range=(0,14), bins=14)\n",
    "y1,x1 = np.histogram(tecrdb_dedup.loc[:,'stderr'], range=(0,14), bins=14)\n",
    "\n",
    "plt.plot(x0[1:],y0)\n",
    "plt.plot(x1[1:],y1)\n",
    "plt.show()"
   ]
  },
  {
   "cell_type": "code",
   "execution_count": 14,
   "metadata": {},
   "outputs": [],
   "source": [
    "formation_dg = pd.read_csv('./formation_dg_smiles.csv')\n",
    "formation_dg_copy = formation_dg.loc[pd.notna(formation_dg.loc[:,'standard_dg_prime']),['name', 'Smiles', 'temperature', 'ionic_strength', 'p_h', 'p_mg', 'standard_dg_prime']].copy()\n",
    "formation_dg_copy = formation_dg_copy.rename(columns={'name':'description', 'Smiles':'reaction', 'temperature':'T', 'ionic_strength':'I', 'p_h':'pH', 'p_mg':'pMg'})"
   ]
  },
  {
   "cell_type": "code",
   "execution_count": 15,
   "metadata": {},
   "outputs": [],
   "source": [
    "formation_dg_dedup = pd.DataFrame(index=range(len(set(formation_dg_copy.reaction))), \n",
    "                            columns=['description', 'reaction', 'T', 'I', 'pH', 'pMg', \n",
    "                                     'standard_dg_prime', 'stderr', 'n', 'SEM'])\n",
    "i = 0\n",
    "formation_dg_copy.index = formation_dg_copy.reaction\n",
    "for r in set(formation_dg_copy.index):\n",
    "    reaction = formation_dg_copy.loc[[r],:]\n",
    "    formation_dg_dedup.loc[i,'description'] = reaction.loc[:,'description'][0]\n",
    "    formation_dg_dedup.loc[i,'reaction'] = r\n",
    "    formation_dg_dedup.loc[i,'standard_dg_prime'] = reaction.loc[:,'standard_dg_prime'].mean()\n",
    "    formation_dg_dedup.loc[i,'stderr'] = reaction.loc[:,'standard_dg_prime'].std(ddof=1)\n",
    "    formation_dg_dedup.loc[i,'n'] = reaction.shape[0]\n",
    "    formation_dg_dedup.loc[i,'SEM'] = reaction.loc[:,'standard_dg_prime'].sem(ddof=1)\n",
    "    i += 1\n",
    "formation_dg_dedup.loc[:,['T','I','pH','pMg']] = [default_T, default_I, default_pH, default_pMg]"
   ]
  },
  {
   "cell_type": "code",
   "execution_count": 16,
   "metadata": {},
   "outputs": [],
   "source": [
    "TrainingData_df = pd.concat([formation_dg_dedup, tecrdb_dedup], axis=0)\n",
    "\n",
    "TrainingData_df.to_csv('TrainingData.csv', index=False)"
   ]
  },
  {
   "cell_type": "code",
   "execution_count": null,
   "metadata": {},
   "outputs": [],
   "source": []
  }
 ],
 "metadata": {
  "kernelspec": {
   "display_name": "dGbyG",
   "language": "python",
   "name": "python3"
  },
  "language_info": {
   "codemirror_mode": {
    "name": "ipython",
    "version": 3
   },
   "file_extension": ".py",
   "mimetype": "text/x-python",
   "name": "python",
   "nbconvert_exporter": "python",
   "pygments_lexer": "ipython3",
   "version": "3.9.16"
  },
  "orig_nbformat": 4
 },
 "nbformat": 4,
 "nbformat_minor": 2
}
