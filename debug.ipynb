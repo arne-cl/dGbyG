{
 "cells": [
  {
   "cell_type": "code",
   "execution_count": 1,
   "metadata": {},
   "outputs": [],
   "source": [
    "import json, requests, os, time, scipy\n",
    "import pandas as pd\n",
    "import matplotlib.pyplot as plt\n",
    "from typing import Any, Dict\n",
    "from rdkit import Chem\n",
    "from rdkit.Chem.MolStandardize import rdMolStandardize\n",
    "import cobra\n",
    "\n",
    "import torch\n",
    "import torch.nn as nn\n",
    "from torch_geometric.loader import DataLoader\n",
    "\n",
    "from dGbyG.config import *\n",
    "from dGbyG.utils.constants import *\n",
    "from dGbyG.utils.ChemFunc import *\n",
    "from dGbyG.utils.custom_tools import rapid_process_result, rapid_linear_reg\n",
    "from dGbyG.utils.NNFunc import mol_to_graph_data\n",
    "from dGbyG.Chemistry import Reaction\n",
    "from dGbyG.network.GNNetwork import MP_network\n",
    "from dGbyG.network.Dataset import Train_Dataset\n",
    "from dGbyG.network.trainer import Model\n",
    "from dGbyG.api import Compound, predict_standard_dGf_prime, predict_standard_dGr_prime, predict_standard_dGr_prime_from_S, Reaction\n",
    "from dGbyG.api.utils import network"
   ]
  },
  {
   "cell_type": "code",
   "execution_count": 7,
   "metadata": {},
   "outputs": [],
   "source": [
    "comp = Compound('C0000', input_type='kegg')"
   ]
  },
  {
   "cell_type": "code",
   "execution_count": 8,
   "metadata": {},
   "outputs": [],
   "source": [
    "comp.mol"
   ]
  },
  {
   "cell_type": "code",
   "execution_count": 2,
   "metadata": {},
   "outputs": [
    {
     "name": "stdout",
     "output_type": "stream",
     "text": [
      "Set parameter Username\n",
      "Academic license - for non-commercial use only - expires 2025-03-29\n"
     ]
    },
    {
     "name": "stderr",
     "output_type": "stream",
     "text": [
      "No defined compartments in model Recon3D. Compartments will be deduced heuristically using regular expressions.\n",
      "Using regular expression found the following compartments:c, e, g, i, l, m, n, r, x\n"
     ]
    }
   ],
   "source": [
    "recon3d = cobra.io.load_matlab_model('../data/Recon3D/Recon3D_301.mat')\n",
    "S = cobra.util.array.create_stoichiometric_matrix(recon3d) # shape = [met, rxn]\n",
    "\n",
    "# patch\n",
    "recon3d.metabolites.get_by_id('aqcobal[e]').annotation['pubchem.compound'] = ['4238']\n",
    "recon3d.metabolites.get_by_id('aqcobal[c]').annotation['pubchem.compound'] = ['4238']\n",
    "recon3d.metabolites.get_by_id('yvite[e]').annotation['kegg.compound'] = ['C02483']"
   ]
  },
  {
   "cell_type": "code",
   "execution_count": 26,
   "metadata": {},
   "outputs": [
    {
     "data": {
      "text/plain": [
       "{'SMILES', 'chebi', 'hmdb', 'inchi', 'kegg.compound', 'pubchem.compound'}"
      ]
     },
     "execution_count": 26,
     "metadata": {},
     "output_type": "execute_result"
    }
   ],
   "source": [
    "ID_types = set()\n",
    "met_ids = set()\n",
    "for met in recon3d.metabolites:\n",
    "    met_ids.add(met.id[:-3])\n",
    "    for key, value in met.annotation.items():\n",
    "        assert len(value) == 1\n",
    "        ID_types.add(key)\n",
    "ID_types"
   ]
  },
  {
   "cell_type": "code",
   "execution_count": 27,
   "metadata": {},
   "outputs": [],
   "source": [
    "mets_df = pd.DataFrame(columns=list(ID_types), index=list(met_ids))\n",
    "for met in recon3d.metabolites:\n",
    "    mets_df.loc[met.id[:-3], 'recon3d'] = met.id[:-3]\n",
    "    for key, value in met.annotation.items():\n",
    "        if pd.isna(mets_df.loc[met.id[:-3], key]):\n",
    "            mets_df.loc[met.id[:-3], key] = value[0]\n",
    "        else:\n",
    "            assert mets_df.loc[met.id[:-3], key] == str(value[0])\n",
    "mets_df.rename(columns={'kegg.compound':'kegg'}, inplace=True)\n",
    "mets_df = mets_df.loc[:,['inchi', 'kegg', 'recon3d', 'SMILES', 'chebi', 'hmdb', ]]"
   ]
  },
  {
   "cell_type": "code",
   "execution_count": 28,
   "metadata": {},
   "outputs": [
    {
     "name": "stdout",
     "output_type": "stream",
     "text": [
      "pchol2ste_hs\n",
      "CE6252\n",
      "CE2120\n"
     ]
    },
    {
     "data": {
      "text/plain": [
       "(686, 3, 3451)"
      ]
     },
     "execution_count": 28,
     "metadata": {},
     "output_type": "execute_result"
    }
   ],
   "source": [
    "l = []\n",
    "for i, id in enumerate(mets_df.index):\n",
    "    row = mets_df.loc[id, :]\n",
    "    mol = None\n",
    "    f_mol = None\n",
    "    for cid_type, cid in row.items():\n",
    "        if pd.notna(cid):\n",
    "            mol = to_mol(cid=cid, cid_type=cid_type)\n",
    "        if mol:\n",
    "            break\n",
    "    \n",
    "    for f_cid_type, f_cid in row.items():\n",
    "        if pd.notna(f_cid):\n",
    "            f_mol = to_mol(cid=f_cid, cid_type=f_cid_type, sanitize=False, Hs=None)\n",
    "        if f_mol:\n",
    "            break\n",
    "\n",
    "    if (mol is None) and (f_mol is None):\n",
    "        l.append('no structure')\n",
    "    elif (mol is None) and (f_mol is not None):\n",
    "        print(id)\n",
    "        l.append('false structure')\n",
    "    elif (mol is not None) and (f_mol is not None):\n",
    "        l.append('true structure')\n",
    "    else:\n",
    "        print(id, mol, f_mol)\n",
    "        break\n",
    "        pass\n",
    "\n",
    "l = np.array(l)\n",
    "(l=='no structure').sum(), (l=='false structure').sum(), (l=='true structure').sum()"
   ]
  },
  {
   "cell_type": "code",
   "execution_count": 3,
   "metadata": {},
   "outputs": [
    {
     "data": {
      "text/html": [
       "\n",
       "        <table>\n",
       "            <tr>\n",
       "                <td><strong>Metabolite identifier</strong></td><td>CE6252[c]</td>\n",
       "            </tr><tr>\n",
       "                <td><strong>Name</strong></td><td>Urate Radical</td>\n",
       "            </tr><tr>\n",
       "                <td><strong>Memory address</strong></td>\n",
       "                <td>0x7965821c0b60</td>\n",
       "            </tr><tr>\n",
       "                <td><strong>Formula</strong></td><td>C5H3N4O3</td>\n",
       "            </tr><tr>\n",
       "                <td><strong>Compartment</strong></td><td>c</td>\n",
       "            </tr><tr>\n",
       "                <td><strong>In 3 reaction(s)</strong></td><td>\n",
       "                    RE2605C, HMR_6607, RE2591C\n",
       "                    </td>\n",
       "            </tr>\n",
       "        </table>"
      ],
      "text/plain": [
       "<Metabolite CE6252[c] at 0x7965821c0b60>"
      ]
     },
     "execution_count": 3,
     "metadata": {},
     "output_type": "execute_result"
    }
   ],
   "source": [
    "met = recon3d.metabolites.get_by_id('CE6252[c]')\n",
    "met"
   ]
  },
  {
   "cell_type": "code",
   "execution_count": 4,
   "metadata": {},
   "outputs": [
    {
     "data": {
      "text/plain": [
       "{'SMILES': ['[H]OC1=NC2=C(N=[C](O[H])=N2)C(O[H])=N1'],\n",
       " 'inchi': ['InChI=1S/C5H3N4O3/c10-3-1-2(7-4(11)6-1)8-5(12)9-3/h(H3,6,7,8,9,10,11,12)']}"
      ]
     },
     "execution_count": 4,
     "metadata": {},
     "output_type": "execute_result"
    }
   ],
   "source": [
    "met.annotation"
   ]
  },
  {
   "cell_type": "code",
   "execution_count": 5,
   "metadata": {},
   "outputs": [
    {
     "data": {
      "image/png": "[encoded data removed]",
      "text/plain": [
       "<rdkit.Chem.rdchem.Mol at 0x796577f3dbd0>"
      ]
     },
     "execution_count": 5,
     "metadata": {},
     "output_type": "execute_result"
    }
   ],
   "source": [
    "Chem.MolFromSmiles(met.annotation['SMILES'][0], sanitize=False)"
   ]
  },
  {
   "cell_type": "code",
   "execution_count": 10,
   "metadata": {},
   "outputs": [
    {
     "name": "stdout",
     "output_type": "stream",
     "text": [
      "[H]OC([H])(C([H])([H])OC(=O)C([H])([H])C([H])([H])C([H])([H])C([H])([H])C([H])([H])C([H])([H])C([H])([H])C([H])([H])C([H])([H])C([H])([H])C([H])([H])C([H])([H])C([H])([H])C([H])([H])C([H])([H])C([H])([H])C([H])([H])[H])C([H])([H])OP(=O)(O[H])OC([H])([H])C([H])([H])[N](C([H])([H])[H])(C([H])([H])[H])C([H])([H])[H]\n"
     ]
    },
    {
     "data": {
      "text/html": [
       "\n",
       "        <table>\n",
       "            <tr>\n",
       "                <td><strong>Metabolite identifier</strong></td><td>pchol2ste_hs[c]</td>\n",
       "            </tr><tr>\n",
       "                <td><strong>Name</strong></td><td>2-Stearoylglycerophosphocholine</td>\n",
       "            </tr><tr>\n",
       "                <td><strong>Memory address</strong></td>\n",
       "                <td>0x796581747c80</td>\n",
       "            </tr><tr>\n",
       "                <td><strong>Formula</strong></td><td>C26H55NO7P</td>\n",
       "            </tr><tr>\n",
       "                <td><strong>Compartment</strong></td><td>c</td>\n",
       "            </tr><tr>\n",
       "                <td><strong>In 3 reaction(s)</strong></td><td>\n",
       "                    PCHOL2STE_HSPLA2, PCHOL2STE_HSABCt, PCHOL2STE_HSt1e\n",
       "                    </td>\n",
       "            </tr>\n",
       "        </table>"
      ],
      "text/plain": [
       "<Metabolite pchol2ste_hs[c] at 0x796581747c80>"
      ]
     },
     "execution_count": 10,
     "metadata": {},
     "output_type": "execute_result"
    }
   ],
   "source": [
    "met = recon3d.metabolites.get_by_id('pchol2ste_hs[c]')\n",
    "print(met.annotation['SMILES'][0])\n",
    "met"
   ]
  },
  {
   "cell_type": "code",
   "execution_count": 11,
   "metadata": {},
   "outputs": [
    {
     "name": "stdout",
     "output_type": "stream",
     "text": [
      "[O-]S([O-])(=O)=O.[H]Oc1c([H])c2nc([H])c(c2c([H])c1OC([H])([H])[H])C([H])([H])C([H])([H])N([H])C(=O)C([H])([H])[H]\n"
     ]
    },
    {
     "data": {
      "text/html": [
       "\n",
       "        <table>\n",
       "            <tr>\n",
       "                <td><strong>Metabolite identifier</strong></td><td>CE2120[c]</td>\n",
       "            </tr><tr>\n",
       "                <td><strong>Name</strong></td><td>6-Hydroxymelatonin-Sulfate</td>\n",
       "            </tr><tr>\n",
       "                <td><strong>Memory address</strong></td>\n",
       "                <td>0x796580d71970</td>\n",
       "            </tr><tr>\n",
       "                <td><strong>Formula</strong></td><td>X</td>\n",
       "            </tr><tr>\n",
       "                <td><strong>Compartment</strong></td><td>c</td>\n",
       "            </tr><tr>\n",
       "                <td><strong>In 1 reaction(s)</strong></td><td>\n",
       "                    HMR_4549\n",
       "                    </td>\n",
       "            </tr>\n",
       "        </table>"
      ],
      "text/plain": [
       "<Metabolite CE2120[c] at 0x796580d71970>"
      ]
     },
     "execution_count": 11,
     "metadata": {},
     "output_type": "execute_result"
    }
   ],
   "source": [
    "met = recon3d.metabolites.get_by_id('CE2120[c]')\n",
    "print(met.annotation['SMILES'][0])\n",
    "met"
   ]
  },
  {
   "cell_type": "code",
   "execution_count": null,
   "metadata": {},
   "outputs": [],
   "source": []
  },
  {
   "cell_type": "markdown",
   "metadata": {},
   "source": [
    "Human1"
   ]
  },
  {
   "cell_type": "code",
   "execution_count": 2,
   "metadata": {},
   "outputs": [
    {
     "name": "stdout",
     "output_type": "stream",
     "text": [
      "Set parameter Username\n",
      "Academic license - for non-commercial use only - expires 2025-03-29\n"
     ]
    }
   ],
   "source": [
    "Human_GEM_path = \"../Human-GEM\"\n",
    "\n",
    "# Read model and patch it\n",
    "human1 = cobra.io.read_sbml_model(os.path.join(Human_GEM_path, \"model/Human-GEM.xml\"))\n",
    "human1.metabolites.get_by_id('MAM01935e').annotation['kegg.compound'] = 'C02483'\n",
    "\n",
    "metabolites_df = pd.read_csv(os.path.join(Human_GEM_path, \"model/metabolites.tsv\"), sep='\\t')\n",
    "reactions_df = pd.read_csv(os.path.join(Human_GEM_path, \"model/reactions.tsv\"), sep='\\t')\n",
    "\n",
    "rxns_df = reactions_df.set_index('rxns', inplace=False)\n",
    "mets_df = metabolites_df.set_index('mets', inplace=False)"
   ]
  },
  {
   "cell_type": "code",
   "execution_count": 3,
   "metadata": {},
   "outputs": [
    {
     "data": {
      "text/plain": [
       "{'bigg.metabolite',\n",
       " 'chebi',\n",
       " 'hmdb',\n",
       " 'inchi',\n",
       " 'kegg.compound',\n",
       " 'lipidmaps',\n",
       " 'metanetx.chemical',\n",
       " 'pubchem.compound',\n",
       " 'sbo',\n",
       " 'vmhmetabolite'}"
      ]
     },
     "execution_count": 3,
     "metadata": {},
     "output_type": "execute_result"
    }
   ],
   "source": [
    "ID_types = set()\n",
    "met_ids = set()\n",
    "for met in human1.metabolites:\n",
    "    met_ids.add(met.id[:-3])\n",
    "    for key, value in met.annotation.items():\n",
    "        ID_types.add(key)\n",
    "ID_types"
   ]
  },
  {
   "cell_type": "code",
   "execution_count": 24,
   "metadata": {},
   "outputs": [
    {
     "data": {
      "text/plain": [
       "(642, 0, 3514)"
      ]
     },
     "execution_count": 24,
     "metadata": {},
     "output_type": "execute_result"
    }
   ],
   "source": [
    "l = {}\n",
    "# obtain a list of compound objects using `get_compound`\n",
    "for met in human1.metabolites:\n",
    "    kegg = met.annotation.get('kegg.compound')\n",
    "    chebi = met.annotation.get('chebi')\n",
    "    hmdb = met.annotation.get('hmdb')\n",
    "    recon3d_id = mets_df.loc[met.id,'metRecon3DID'] if pd.notna(mets_df.loc[met.id,'metRecon3DID']) else None\n",
    "    metanetx = met.annotation.get('metanetx.chemical')\n",
    "    lipidmaps = met.annotation.get('lipidmaps')\n",
    "    inchi = met.annotation.get('inchi')\n",
    "\n",
    "    row = {'inchi': inchi, 'kegg': kegg, 'recon3d': recon3d_id, 'chebi': chebi, \n",
    "           'hmdb': hmdb, 'metanetx': metanetx, 'lipidmaps': lipidmaps, }\n",
    "    \n",
    "    mol = None\n",
    "    for cid_type, cid in row.items():\n",
    "        if cid is not None:\n",
    "            cid = [cid] if type(cid)==str else cid\n",
    "            for cidx in cid:\n",
    "                mol = to_mol(cid=cidx, cid_type=cid_type)\n",
    "                if mol:\n",
    "                    break\n",
    "        if mol:\n",
    "            break\n",
    "    \n",
    "    f_mol = None\n",
    "    for f_cid_type, f_cid in row.items():\n",
    "        if f_cid is not None:\n",
    "            f_cid = [f_cid] if type(f_cid)==str else f_cid\n",
    "            for f_cidx in f_cid:\n",
    "                f_mol = to_mol(cid=f_cidx, cid_type=f_cid_type)\n",
    "                if f_mol:\n",
    "                    break\n",
    "        if f_mol:\n",
    "            break\n",
    "\n",
    "    if (mol is None) and (f_mol is None):\n",
    "        l[met.id[:-1]]='no structure'\n",
    "    elif (mol is None) and (f_mol is not None):\n",
    "        l[met.id[:-1]]=('false structure')\n",
    "    elif (mol is not None) and (f_mol is not None):\n",
    "        l[met.id[:-1]]=('true structure')\n",
    "    else:\n",
    "        print(id, mol, f_mol)\n",
    "        break\n",
    "        pass\n",
    "\n",
    "l = np.array(list(l.values()))\n",
    "(l=='no structure').sum(), (l=='false structure').sum(), (l=='true structure').sum()"
   ]
  },
  {
   "cell_type": "code",
   "execution_count": null,
   "metadata": {},
   "outputs": [],
   "source": []
  },
  {
   "cell_type": "code",
   "execution_count": null,
   "metadata": {},
   "outputs": [],
   "source": []
  }
 ],
 "metadata": {
  "kernelspec": {
   "display_name": "dGbyG",
   "language": "python",
   "name": "python3"
  },
  "language_info": {
   "codemirror_mode": {
    "name": "ipython",
    "version": 3
   },
   "file_extension": ".py",
   "mimetype": "text/x-python",
   "name": "python",
   "nbconvert_exporter": "python",
   "pygments_lexer": "ipython3",
   "version": "3.12.2"
  },
  "orig_nbformat": 4
 },
 "nbformat": 4,
 "nbformat_minor": 2
}
