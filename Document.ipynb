{
 "cells": [
  {
   "cell_type": "markdown",
   "metadata": {},
   "source": [
    "# dGbyG API\n",
    "\n",
    "<kbd>dGbyG</kbd> is a python package, and it has two core classes: <kbd>Compound</kbd> and <kbd>Reaction</kbd> for users. You should import <kbd>Compound</kbd> and <kbd>Reaction</kbd> from <kbd>dGbyG.api</kbd> before doing anything else. \n",
    "\n",
    "Code example:"
   ]
  },
  {
   "cell_type": "code",
   "execution_count": 1,
   "metadata": {},
   "outputs": [],
   "source": [
    "from dGbyG.api import Compound, Reaction"
   ]
  },
  {
   "cell_type": "markdown",
   "metadata": {},
   "source": [
    "Below is the usage of the <kbd>Compound</kbd> and <kbd>Reaction</kbd> class:\n",
    "\n",
    "## 1. Compound\n",
    "### 1.1. Instantiating a <kbd>Compound</kbd> class\n",
    "<kbd>Compound</kbd> class is used to represent a real compound or metabolite. You can instantiate a <kbd>Compound</kbd> class by providing the <kbd>mol</kbd> and the <kbd>mol type</kbd>. \n",
    "- <kbd>mol</kbd>: the compound id\n",
    "- <kbd>mol_type</kbd>: the kind of the compound id, such as *SMILES*, *InChI*, *KEGG ID*, *MetaNetX ID*, *ChEBI ID*, etc. <kbd>mol_type</kbd> is case insensitive\n",
    "\n",
    "<kbd>Compound</kbd> class supports different formats of compound, such as *SMILES* and *InChI*, and many kinds of compound ID from different databases, such as *KEGG* and *HMDB*, as the input of the <kbd>Compound</kbd>. The full list of supported input types can be found in the following code:"
   ]
  },
  {
   "cell_type": "code",
   "execution_count": 2,
   "metadata": {},
   "outputs": [
    {
     "name": "stdout",
     "output_type": "stream",
     "text": [
      "inchi, smiles, file, kegg, kegg.compound, metanetx, metanetx.chemical, hmdb, chebi, lipidmaps, recon3d, inchi-key, name\n"
     ]
    }
   ],
   "source": [
    "from dGbyG.utils.ChemFunc import to_mol_methods\n",
    "print(', '.join(to_mol_methods().keys()))"
   ]
  },
  {
   "cell_type": "markdown",
   "metadata": {},
   "source": [
    "Once you have a compound id, you can instantiate a <kbd>Compound</kbd> class. Here uses *D-Glucose* as the example, which kegg id is *C00031*."
   ]
  },
  {
   "cell_type": "code",
   "execution_count": 3,
   "metadata": {},
   "outputs": [],
   "source": [
    "comp = Compound(mol='C00031', mol_type='KEGG')"
   ]
  },
  {
   "cell_type": "code",
   "execution_count": 6,
   "metadata": {},
   "outputs": [
    {
     "ename": "AttributeError",
     "evalue": "'Compound' object has no attribute 'structure'",
     "output_type": "error",
     "traceback": [
      "\u001b[0;31m---------------------------------------------------------------------------\u001b[0m",
      "\u001b[0;31mAttributeError\u001b[0m                            Traceback (most recent call last)",
      "Cell \u001b[0;32mIn[6], line 1\u001b[0m\n\u001b[0;32m----> 1\u001b[0m \u001b[43mcomp\u001b[49m\u001b[38;5;241;43m.\u001b[39;49m\u001b[43mstructure\u001b[49m\n",
      "\u001b[0;31mAttributeError\u001b[0m: 'Compound' object has no attribute 'structure'"
     ]
    }
   ],
   "source": [
    "comp.structure"
   ]
  },
  {
   "cell_type": "markdown",
   "metadata": {},
   "source": [
    "- compound_id: the id of the compound, it can be a string or an integer.\n",
    "- compound_name: the name of the compound, it can be a string.\n",
    "- compound_smiles: the smiles of the compound, it can be a string.\n",
    "- compound_inchikey: the inchikey of the compound, it can be a string."
   ]
  },
  {
   "cell_type": "markdown",
   "metadata": {},
   "source": []
  }
 ],
 "metadata": {
  "kernelspec": {
   "display_name": "TFBA",
   "language": "python",
   "name": "python3"
  },
  "language_info": {
   "codemirror_mode": {
    "name": "ipython",
    "version": 3
   },
   "file_extension": ".py",
   "mimetype": "text/x-python",
   "name": "python",
   "nbconvert_exporter": "python",
   "pygments_lexer": "ipython3",
   "version": "3.12.2"
  }
 },
 "nbformat": 4,
 "nbformat_minor": 2
}
