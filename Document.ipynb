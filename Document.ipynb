{
 "cells": [
  {
   "cell_type": "markdown",
   "metadata": {},
   "source": [
    "# dGbyG API\n",
    "\n",
    "<kbd>dGbyG</kbd> is a python package, and it has two core classes: <kbd>Compound</kbd> and <kbd>Reaction</kbd> for users. You should import <kbd>Compound</kbd> and <kbd>Reaction</kbd> from <kbd>dGbyG.api</kbd> before doing anything else. \n",
    "\n",
    "Code example:"
   ]
  },
  {
   "cell_type": "code",
   "execution_count": 1,
   "metadata": {},
   "outputs": [],
   "source": [
    "from dGbyG.api import Compound, Reaction"
   ]
  },
  {
   "cell_type": "markdown",
   "metadata": {},
   "source": [
    "Below is the usage of the <kbd>Compound</kbd> and <kbd>Reaction</kbd> class:\n",
    "\n",
    "## 1. dGbyG.api.Compound\n",
    "### 1.1. Instantiating a <kbd>Compound</kbd> class\n",
    "<kbd>Compound</kbd> class is used to represent a real compound or metabolite. You can instantiate a <kbd>Compound</kbd> class by providing the <kbd>mol</kbd> and the <kbd>mol type</kbd>. \n",
    "- <kbd>mol</kbd>: the compound id\n",
    "- <kbd>mol_type</kbd>: the kind of the compound id, such as *SMILES*, *InChI*, *KEGG ID*, *MetaNetX ID*, *ChEBI ID*, etc. <kbd>mol_type</kbd> is case insensitive\n",
    "\n",
    "<kbd>Compound</kbd> class supports different formats of compound, such as *SMILES* and *InChI*, and many kinds of compound ID from different databases, such as *KEGG* and *HMDB*, as the input of the <kbd>Compound</kbd>. The full list of supported input types can be found in the following code:"
   ]
  },
  {
   "cell_type": "code",
   "execution_count": 2,
   "metadata": {},
   "outputs": [
    {
     "name": "stdout",
     "output_type": "stream",
     "text": [
      "inchi, smiles, file, kegg, kegg.compound, metanetx, metanetx.chemical, hmdb, chebi, lipidmaps, recon3d, inchi-key, name\n"
     ]
    }
   ],
   "source": [
    "from dGbyG.utils.ChemFunc import to_mol_methods\n",
    "print(', '.join(to_mol_methods().keys()))"
   ]
  },
  {
   "cell_type": "markdown",
   "metadata": {},
   "source": [
    "When you have a compound id, you can instantiate a <kbd>Compound</kbd> class. Here uses *D-Glucose* as the example, which kegg id is *C00031*."
   ]
  },
  {
   "cell_type": "code",
   "execution_count": 3,
   "metadata": {},
   "outputs": [],
   "source": [
    "comp = Compound(mol='C00031', mol_type='KEGG')"
   ]
  },
  {
   "cell_type": "markdown",
   "metadata": {},
   "source": [
    "Once successfully instantiated, molecular properties can be accessed. Here, we show them one by one.\n",
    "\n",
    "### 1.2. Properties of the <kbd>Compound</kbd> class\n",
    "#### 1.2.1. <kbd>Compound.mol</kbd>\n",
    "<kbd>Compound.mol</kbd> is the very first property of the compound. It is the instance of class <kbd>rdkit.Chem.rdchem.Mol</kbd>. \n"
   ]
  },
  {
   "cell_type": "code",
   "execution_count": 4,
   "metadata": {},
   "outputs": [
    {
     "data": {
      "text/plain": [
       "rdkit.Chem.rdchem.Mol"
      ]
     },
     "execution_count": 4,
     "metadata": {},
     "output_type": "execute_result"
    }
   ],
   "source": [
    "type(comp.mol)"
   ]
  },
  {
   "cell_type": "markdown",
   "metadata": {},
   "source": [
    "#### 1.2.2. <kbd>Compound.image</kbd>\n",
    "The image of the input compound."
   ]
  },
  {
   "cell_type": "code",
   "execution_count": 5,
   "metadata": {},
   "outputs": [
    {
     "data": {
      "image/jpeg": "[encoded data removed]",
      "image/png": "[encoded data removed]",
      "text/plain": [
       "<PIL.PngImagePlugin.PngImageFile image mode=RGB size=300x300>"
      ]
     },
     "execution_count": 5,
     "metadata": {},
     "output_type": "execute_result"
    }
   ],
   "source": [
    "comp.image"
   ]
  },
  {
   "cell_type": "markdown",
   "metadata": {},
   "source": [
    "#### 1.2.3. <kbd>Compound.Smiles</kbd>\n",
    "SMILES strings of compound chemical structures"
   ]
  },
  {
   "cell_type": "code",
   "execution_count": 6,
   "metadata": {},
   "outputs": [
    {
     "data": {
      "text/plain": [
       "'OC[C@H]1OC(O)[C@H](O)[C@@H](O)[C@@H]1O'"
      ]
     },
     "execution_count": 6,
     "metadata": {},
     "output_type": "execute_result"
    }
   ],
   "source": [
    "comp.Smiles"
   ]
  },
  {
   "cell_type": "markdown",
   "metadata": {},
   "source": [
    "#### 1.2.4. <kbd>Compound.InChI</kbd>\n",
    "InChI strings of compound chemical structures"
   ]
  },
  {
   "cell_type": "code",
   "execution_count": 7,
   "metadata": {},
   "outputs": [
    {
     "data": {
      "text/plain": [
       "'InChI=1S/C6H12O6/c7-1-2-3(8)4(9)5(10)6(11)12-2/h2-11H,1H2/t2-,3-,4+,5-,6?/m1/s1'"
      ]
     },
     "execution_count": 7,
     "metadata": {},
     "output_type": "execute_result"
    }
   ],
   "source": [
    "comp.InChI"
   ]
  },
  {
   "cell_type": "markdown",
   "metadata": {},
   "source": [
    "#### 1.2.5. <kbd>Compound.condition</kbd>\n",
    "Condition of the compound represents the environment of the compound, namely the corresponding values of the solution. The default condition are *T=298.15 K*, *pH=7*, *I=0.25 M*, *pMg=14*, *e_potential=0 V*."
   ]
  },
  {
   "cell_type": "code",
   "execution_count": 8,
   "metadata": {},
   "outputs": [
    {
     "data": {
      "text/plain": [
       "{'T': 298.15, 'pH': 7.0, 'I': 0.25, 'pMg': 14.0, 'e_potential': 0.0}"
      ]
     },
     "execution_count": 8,
     "metadata": {},
     "output_type": "execute_result"
    }
   ],
   "source": [
    "comp.condition"
   ]
  },
  {
   "cell_type": "markdown",
   "metadata": {},
   "source": [
    "- <kbd>T</kbd>: temperature. The unit is Kelvin\n",
    "- <kbd>I</kbd>: ionic strength. The unit is mol/L\n",
    "- The unit of electric potential <kbd>e_potential</kbd> is V\n",
    "\n",
    "All the values of condition can be changed except for temperature. The default value of temperature is 298.15 K. Below are code example:"
   ]
  },
  {
   "cell_type": "code",
   "execution_count": 9,
   "metadata": {},
   "outputs": [
    {
     "data": {
      "text/plain": [
       "{'T': 298.15, 'pH': 7.2, 'I': 0.5, 'pMg': 13.0, 'e_potential': 0.0}"
      ]
     },
     "execution_count": 9,
     "metadata": {},
     "output_type": "execute_result"
    }
   ],
   "source": [
    "comp.condition = {'pH': 7.2, 'I': 0.5, 'e_potential': 0.0, 'pMg':13}\n",
    "comp.condition"
   ]
  },
  {
   "cell_type": "markdown",
   "metadata": {},
   "source": [
    "#### 1.2.6. <kbd>Compound.pKa()</kbd>\n",
    "pKa is the negative log of the acid dissociation constant Ka, which indicates the strength of an acid."
   ]
  },
  {
   "cell_type": "code",
   "execution_count": 10,
   "metadata": {},
   "outputs": [
    {
     "data": {
      "text/plain": [
       "{'acidicValuesByAtom': [{'atomIndex': 0, 'value': 15.11737379248446},\n",
       "  {'atomIndex': 5, 'value': 11.294477410100573},\n",
       "  {'atomIndex': 7, 'value': 13.57586902628433},\n",
       "  {'atomIndex': 9, 'value': 14.509836100437038},\n",
       "  {'atomIndex': 11, 'value': 12.683142249589677}],\n",
       " 'basicValuesByAtom': [{'atomIndex': 0, 'value': -2.979126624662507},\n",
       "  {'atomIndex': 3, 'value': -4.38888831792159},\n",
       "  {'atomIndex': 5, 'value': -4.390878810137953},\n",
       "  {'atomIndex': 7, 'value': -3.941776974304411},\n",
       "  {'atomIndex': 9, 'value': -3.676152690249095},\n",
       "  {'atomIndex': 11, 'value': -3.646080487840227}]}"
      ]
     },
     "execution_count": 10,
     "metadata": {},
     "output_type": "execute_result"
    }
   ],
   "source": [
    "comp.pKa()"
   ]
  },
  {
   "cell_type": "markdown",
   "metadata": {},
   "source": [
    "#### 1.2.7. <kbd>Compound.standard_dGf_prime</kbd>\n",
    "The standard free energy of formation of the compound at the default condition. The unit is kJ/mol."
   ]
  },
  {
   "cell_type": "code",
   "execution_count": 11,
   "metadata": {},
   "outputs": [
    {
     "data": {
      "text/plain": [
       "(-424.44495, 0.59214187)"
      ]
     },
     "execution_count": 11,
     "metadata": {},
     "output_type": "execute_result"
    }
   ],
   "source": [
    "comp.standard_dGf_prime"
   ]
  },
  {
   "cell_type": "markdown",
   "metadata": {},
   "source": [
    "#### 1.2.8. <kbd>Compound.transformed_standard_dGf_prime</kbd>\n",
    "The transformed standard free energy of formation of the compound at the given condition. The unit is kJ/mol."
   ]
  },
  {
   "cell_type": "code",
   "execution_count": 12,
   "metadata": {},
   "outputs": [
    {
     "data": {
      "text/plain": [
       "(-408.86487468594765, 0.59214187)"
      ]
     },
     "execution_count": 12,
     "metadata": {},
     "output_type": "execute_result"
    }
   ],
   "source": [
    "comp.transformed_standard_dGf_prime"
   ]
  },
  {
   "cell_type": "markdown",
   "metadata": {},
   "source": [
    "#### 1.2.9. <kbd>Compound.name</kbd>\n",
    "The common name of the compound"
   ]
  },
  {
   "cell_type": "code",
   "execution_count": 13,
   "metadata": {},
   "outputs": [
    {
     "data": {
      "text/plain": [
       "['D-Glucose', 'Grape sugar', 'Dextrose', 'Glucose', 'D-Glucopyranose']"
      ]
     },
     "execution_count": 13,
     "metadata": {},
     "output_type": "execute_result"
    }
   ],
   "source": [
    "comp.name"
   ]
  },
  {
   "cell_type": "markdown",
   "metadata": {},
   "source": [
    "#### 1.2.10. <kbd>Compound.enzyme</kbd>\n",
    "The enzymes that catalyze the reactions which include this compound"
   ]
  },
  {
   "cell_type": "code",
   "execution_count": 14,
   "metadata": {},
   "outputs": [
    {
     "data": {
      "text/plain": [
       "['1.1.1.118',\n",
       " '1.1.1.119',\n",
       " '1.1.1.121',\n",
       " '1.1.1.359',\n",
       " '1.1.1.360',\n",
       " '1.1.1.432',\n",
       " '1.1.3.10',\n",
       " '1.1.5.2',\n",
       " '1.1.5.9',\n",
       " '1.1.99.28',\n",
       " '1.1.99.35',\n",
       " '2.3.1.72',\n",
       " '2.3.1.90',\n",
       " '2.3.1.91',\n",
       " '2.3.1.92',\n",
       " '2.3.1.103',\n",
       " '2.3.1.143',\n",
       " '2.3.1.152',\n",
       " '2.3.1.-',\n",
       " '2.4.1.8',\n",
       " '2.4.1.9',\n",
       " '2.4.1.10',\n",
       " '2.4.1.20',\n",
       " '2.4.1.22',\n",
       " '2.4.1.25',\n",
       " '2.4.1.31',\n",
       " '2.4.1.64',\n",
       " '2.4.1.99',\n",
       " '2.4.1.230',\n",
       " '2.4.1.245',\n",
       " '2.4.1.279',\n",
       " '2.4.1.281',\n",
       " '2.7.1.1',\n",
       " '2.7.1.2',\n",
       " '2.7.1.41',\n",
       " '2.7.1.42',\n",
       " '2.7.1.61',\n",
       " '2.7.1.62',\n",
       " '2.7.1.63',\n",
       " '2.7.1.142',\n",
       " '2.7.1.147',\n",
       " '2.7.1.199',\n",
       " '3.1.1.33',\n",
       " '3.1.3.9',\n",
       " '3.1.3.10',\n",
       " '3.1.3.58',\n",
       " '3.1.4.48',\n",
       " '3.1.6.3',\n",
       " '3.2.1.3',\n",
       " '3.2.1.10',\n",
       " '3.2.1.20',\n",
       " '3.2.1.21',\n",
       " '3.2.1.22',\n",
       " '3.2.1.23',\n",
       " '3.2.1.26',\n",
       " '3.2.1.28',\n",
       " '3.2.1.39',\n",
       " '3.2.1.42',\n",
       " '3.2.1.45',\n",
       " '3.2.1.48',\n",
       " '3.2.1.58',\n",
       " '3.2.1.74',\n",
       " '3.2.1.86',\n",
       " '3.2.1.93',\n",
       " '3.2.1.104',\n",
       " '3.2.1.105',\n",
       " '3.2.1.107',\n",
       " '3.2.1.108',\n",
       " '3.2.1.117',\n",
       " '3.2.1.118',\n",
       " '3.2.1.122',\n",
       " '3.2.1.125',\n",
       " '3.2.1.126',\n",
       " '3.2.1.147',\n",
       " '3.2.1.175',\n",
       " '3.2.1.182',\n",
       " '3.2.1.186',\n",
       " '3.2.1.188',\n",
       " '3.2.1.189',\n",
       " '3.2.1.205',\n",
       " '3.2.1.206',\n",
       " '3.2.1.207',\n",
       " '3.2.1.208',\n",
       " '3.2.1.216',\n",
       " '3.2.1.220',\n",
       " '3.2.1.-',\n",
       " '4.2.99.22',\n",
       " '4.2.99.23']"
      ]
     },
     "execution_count": 14,
     "metadata": {},
     "output_type": "execute_result"
    }
   ],
   "source": [
    "comp.enzyme"
   ]
  },
  {
   "cell_type": "code",
   "execution_count": null,
   "metadata": {},
   "outputs": [],
   "source": []
  },
  {
   "cell_type": "markdown",
   "metadata": {},
   "source": [
    "## 2. dGbyG.api.Reaction"
   ]
  },
  {
   "cell_type": "code",
   "execution_count": 15,
   "metadata": {},
   "outputs": [],
   "source": [
    "from dGbyG.api import Reaction"
   ]
  },
  {
   "cell_type": "code",
   "execution_count": null,
   "metadata": {},
   "outputs": [],
   "source": []
  }
 ],
 "metadata": {
  "kernelspec": {
   "display_name": "TFBA",
   "language": "python",
   "name": "python3"
  },
  "language_info": {
   "codemirror_mode": {
    "name": "ipython",
    "version": 3
   },
   "file_extension": ".py",
   "mimetype": "text/x-python",
   "name": "python",
   "nbconvert_exporter": "python",
   "pygments_lexer": "ipython3",
   "version": "3.12.2"
  }
 },
 "nbformat": 4,
 "nbformat_minor": 2
}
