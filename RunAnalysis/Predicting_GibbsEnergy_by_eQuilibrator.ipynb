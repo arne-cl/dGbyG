{
 "cells": [
  {
   "cell_type": "markdown",
   "metadata": {},
   "source": [
    "Note that this script need to install equilibrator_api"
   ]
  },
  {
   "cell_type": "code",
   "execution_count": 1,
   "metadata": {},
   "outputs": [],
   "source": [
    "import os\n",
    "import pandas as pd\n",
    "import numpy as np\n",
    "\n",
    "from tqdm import tqdm\n",
    "import matplotlib.pyplot as plt\n",
    "import cobra\n",
    "from equilibrator_cache.thermodynamic_constants import *\n",
    "from equilibrator_api import ComponentContribution, Q_, Reaction\n",
    "\n",
    "from dGbyG.config import package_path\n",
    "\n",
    "cc = ComponentContribution()"
   ]
  },
  {
   "cell_type": "code",
   "execution_count": 2,
   "metadata": {},
   "outputs": [],
   "source": [
    "default_T = 298.15\n",
    "default_I = 0.25\n",
    "default_pH = 7.0\n",
    "default_pMg = 14.0\n",
    "\n",
    "conditions = {'c':{'pH':7.20, 'e_potential':0, 'T':default_T, 'I':default_I, 'pMg':default_pMg},\n",
    "              'e':{'pH':7.40, 'e_potential':30 * 1e-3, 'T':default_T, 'I':default_I, 'pMg':default_pMg},\n",
    "              'n':{'pH':7.20, 'e_potential':0, 'T':default_T, 'I':default_I, 'pMg':default_pMg},\n",
    "              'r':{'pH':7.20, 'e_potential':0, 'T':default_T, 'I':default_I, 'pMg':default_pMg},\n",
    "              'g':{'pH':6.35, 'e_potential':0, 'T':default_T, 'I':default_I, 'pMg':default_pMg},\n",
    "              'l':{'pH':5.50, 'e_potential':19 * 1e-3, 'T':default_T, 'I':default_I, 'pMg':default_pMg},\n",
    "              'm':{'pH':8.00, 'e_potential':-155 * 1e-3, 'T':default_T, 'I':default_I, 'pMg':default_pMg},\n",
    "              'i':{'pH':8.00, 'e_potential':-155 * 1e-3, 'T':default_T, 'I':default_I, 'pMg':default_pMg},\n",
    "              'x':{'pH':7.00, 'e_potential':12 * 1e-3, 'T':default_T, 'I':default_I, 'pMg':default_pMg}}"
   ]
  },
  {
   "cell_type": "markdown",
   "metadata": {},
   "source": [
    "### 1. Predicting standard Gibbs energy for Recon3D"
   ]
  },
  {
   "cell_type": "code",
   "execution_count": null,
   "metadata": {},
   "outputs": [
    {
     "name": "stdout",
     "output_type": "stream",
     "text": [
      "Restricted license - for non-production use only - expires 2025-11-24\n"
     ]
    },
    {
     "name": "stderr",
     "output_type": "stream",
     "text": [
      "No defined compartments in model Recon3D. Compartments will be deduced heuristically using regular expressions.\n",
      "Using regular expression found the following compartments:c, e, g, i, l, m, n, r, x\n"
     ]
    }
   ],
   "source": [
    "recon3d = cobra.io.load_matlab_model(os.path.join(package_path, 'data/Recon3D/Recon3D_301.mat'))\n",
    "S = cobra.util.array.create_stoichiometric_matrix(recon3d) # shape = [met, rxn]\n",
    "\n",
    "# patch\n",
    "recon3d.metabolites.get_by_id('aqcobal[e]').annotation['pubchem.compound'] = ['4238']\n",
    "recon3d.metabolites.get_by_id('aqcobal[c]').annotation['pubchem.compound'] = ['4238']\n",
    "recon3d.metabolites.get_by_id('yvite[e]').annotation['kegg.compound'] = ['C02483']"
   ]
  },
  {
   "cell_type": "code",
   "execution_count": 5,
   "metadata": {},
   "outputs": [
    {
     "data": {
      "text/plain": [
       "{'SMILES', 'chebi', 'hmdb', 'inchi', 'kegg.compound', 'pubchem.compound'}"
      ]
     },
     "execution_count": 5,
     "metadata": {},
     "output_type": "execute_result"
    }
   ],
   "source": [
    "IDs = set({})\n",
    "for met in recon3d.metabolites:\n",
    "    for key, value in met.annotation.items():\n",
    "        IDs |= set([key])\n",
    "        assert len(value) == 1\n",
    "IDs"
   ]
  },
  {
   "cell_type": "code",
   "execution_count": 6,
   "metadata": {},
   "outputs": [
    {
     "data": {
      "text/plain": [
       "4064"
      ]
     },
     "execution_count": 6,
     "metadata": {},
     "output_type": "execute_result"
    }
   ],
   "source": [
    "compound_dict = {}\n",
    "# obtain a list of compound objects using `get_compound`\n",
    "for met in recon3d.metabolites:\n",
    "    kegg = met.annotation.get('kegg.compound', [None])[0]\n",
    "    chebi = met.annotation.get('chebi', [None])[0]\n",
    "    hmdb = met.annotation.get('hmdb', [None])[0]\n",
    "    inchi = met.annotation.get('inchi', [None])[0]\n",
    "\n",
    "    compound = None\n",
    "\n",
    "    if ((compound is None) or (compound.inchi_key is None)) and kegg:\n",
    "        compound = cc.get_compound(f\"kegg:{kegg}\")\n",
    "        pass\n",
    "    if ((compound is None) or (compound.inchi_key is None)) and chebi:\n",
    "        compound = cc.get_compound(f\"chebi:{chebi}\")\n",
    "        pass\n",
    "    if ((compound is None) or (compound.inchi_key is None)) and hmdb:\n",
    "        compound = cc.get_compound(f\"hmdb:{hmdb}\")\n",
    "        pass\n",
    "    if ((compound is None) or (compound.inchi_key is None)) and inchi:\n",
    "        compound = cc.get_compound_by_inchi(inchi)\n",
    "        pass\n",
    "    if (compound is None) or (compound.inchi_key is None):\n",
    "        compound = cc.get_compound(f\"bigg.metabolite:{met.id[:-3]}\")\n",
    "\n",
    "    if compound is None:\n",
    "        compound_dict[met.id] = None\n",
    "        met.compound = None\n",
    "    elif compound.inchi_key is None:\n",
    "        compound_dict[met.id] = None\n",
    "        met.compound = compound\n",
    "    else:\n",
    "        compound_dict[met.id] = compound\n",
    "        met.compound = compound\n",
    "\n",
    "    met.met = met.id[:-3]\n",
    "    met.kegg = kegg\n",
    "    met.chebi = chebi\n",
    "    met.hmdb = hmdb\n",
    "    met.inchi = inchi\n",
    "    \n",
    "sum([x is not None for x in np.array(list(compound_dict.values()))])"
   ]
  },
  {
   "cell_type": "code",
   "execution_count": 23,
   "metadata": {},
   "outputs": [
    {
     "name": "stderr",
     "output_type": "stream",
     "text": [
      "100%|██████████| 8399/8399 [00:00<00:00, 20037.45it/s]\n"
     ]
    },
    {
     "data": {
      "text/plain": [
       "3876"
      ]
     },
     "execution_count": 23,
     "metadata": {},
     "output_type": "execute_result"
    }
   ],
   "source": [
    "dGf = []\n",
    "for met in tqdm(recon3d.metabolites):\n",
    "    if met.compound is None:\n",
    "        dGf.append(None)\n",
    "    else:\n",
    "        dGf.append(cc.standard_dg_formation(met.compound)[0])\n",
    "\n",
    "dGf = np.array(dGf, dtype=np.float64)\n",
    "sum(~np.isnan(dGf))"
   ]
  },
  {
   "cell_type": "code",
   "execution_count": 29,
   "metadata": {},
   "outputs": [],
   "source": [
    "dGf_df = pd.DataFrame(dGf, columns=['standard dGf',], index=[met.id for met in recon3d.metabolites])\n",
    "dGf_df.to_csv(os.path.join(package_path, 'data/Recon3D/Recon3D_standard_dGf_eQuilibrator.csv'))"
   ]
  },
  {
   "cell_type": "code",
   "execution_count": 28,
   "metadata": {},
   "outputs": [
    {
     "data": {
      "text/plain": [
       "array([5885, 5885])"
      ]
     },
     "execution_count": 28,
     "metadata": {},
     "output_type": "execute_result"
    }
   ],
   "source": [
    "dGr = []\n",
    "for rxn in recon3d.reactions:\n",
    "    r = {}\n",
    "    for k, coeff in cc.parse_formula(rxn.reaction).items():\n",
    "        r[compound_dict[k]] = coeff + r.get(compound_dict[k], 0)\n",
    "    if None in r:\n",
    "        dGr.append([np.nan, np.nan])\n",
    "    else:\n",
    "        reaction = Reaction(r)\n",
    "        if reaction.is_balanced() == False:\n",
    "            dGr.append([np.nan, np.nan])\n",
    "        else:\n",
    "            dgr = cc.standard_dg(reaction).m_as(\"kJ/mol\")\n",
    "            dgr = [dgr.n, dgr.s]\n",
    "            if all([x.can_be_transformed() for x in r.keys()]) == True:\n",
    "                for met in rxn.metabolites:\n",
    "                    cpd = met.compound\n",
    "                    v = rxn.get_coefficient(met.id)\n",
    "                    cdt = conditions[met.compartment]\n",
    "                    dgr[0] += cpd.transform(Q_(cdt['pH']), Q_(cdt['I'], 'M'), Q_(cdt['T'], 'K'), Q_(cdt['pMg'])).m_as(\"kJ/mol\") * v\n",
    "                dGr.append(dgr)\n",
    "            else:\n",
    "                dGr.append([np.nan, np.nan])\n",
    "\n",
    "dGr = np.array(dGr)\n",
    "sum(~np.isnan(dGr))"
   ]
  },
  {
   "cell_type": "code",
   "execution_count": 9,
   "metadata": {},
   "outputs": [],
   "source": [
    "dGr_df = pd.DataFrame(dGr, columns=['transformed standard dGr', 'SD'])\n",
    "dGr_df.to_csv(os.path.join(package_path, 'data/Recon3D/Recon3D_standard_dGr_eQuilibrator.csv'))"
   ]
  },
  {
   "cell_type": "code",
   "execution_count": 10,
   "metadata": {},
   "outputs": [
    {
     "data": {
      "text/plain": [
       "(1615, 4140, 0.39009661835748793)"
      ]
     },
     "execution_count": 10,
     "metadata": {},
     "output_type": "execute_result"
    }
   ],
   "source": [
    "metNoComp = {}\n",
    "for met, compound in compound_dict.items():\n",
    "    if metNoComp.get(met[:-3], None) is None:\n",
    "        metNoComp[met[:-3]] = None if compound is None else cc.standard_dg_formation(compound)[0]\n",
    "sum([x is not None for x in metNoComp.values()]), len(metNoComp), \\\n",
    "sum([x is not None for x in metNoComp.values()])/len(metNoComp)"
   ]
  },
  {
   "cell_type": "code",
   "execution_count": null,
   "metadata": {},
   "outputs": [],
   "source": []
  },
  {
   "cell_type": "markdown",
   "metadata": {},
   "source": [
    "### 2. Predicting standard Gibbs energy for Human1"
   ]
  },
  {
   "cell_type": "code",
   "execution_count": 30,
   "metadata": {},
   "outputs": [],
   "source": [
    "# Read model and patch it\n",
    "human1 = cobra.io.read_sbml_model(os.path.join(package_path, 'data/Human1/Human-GEM/model/Human-GEM.xml'))\n",
    "human1.metabolites.get_by_id('MAM01935e').annotation['kegg.compound'] = 'C02483'"
   ]
  },
  {
   "cell_type": "code",
   "execution_count": 31,
   "metadata": {},
   "outputs": [
    {
     "data": {
      "text/plain": [
       "{'bigg.metabolite',\n",
       " 'chebi',\n",
       " 'hmdb',\n",
       " 'inchi',\n",
       " 'kegg.compound',\n",
       " 'lipidmaps',\n",
       " 'metanetx.chemical',\n",
       " 'pubchem.compound',\n",
       " 'sbo',\n",
       " 'vmhmetabolite'}"
      ]
     },
     "execution_count": 31,
     "metadata": {},
     "output_type": "execute_result"
    }
   ],
   "source": [
    "IDs = set({})\n",
    "for met in human1.metabolites:\n",
    "    for key, value in met.annotation.items():\n",
    "        IDs |= set([key])\n",
    "IDs"
   ]
  },
  {
   "cell_type": "code",
   "execution_count": 32,
   "metadata": {},
   "outputs": [
    {
     "data": {
      "text/plain": [
       "4266"
      ]
     },
     "execution_count": 32,
     "metadata": {},
     "output_type": "execute_result"
    }
   ],
   "source": [
    "compound_dict = {}\n",
    "# obtain a list of compound objects using `get_compound`\n",
    "for met in human1.metabolites:\n",
    "    kegg = met.annotation.get('kegg.compound')\n",
    "    chebi = met.annotation.get('chebi')\n",
    "    hmdb = met.annotation.get('hmdb')\n",
    "    bigg = met.annotation.get('bigg.metabolite')\n",
    "    metanetx = met.annotation.get('metanetx.chemical')\n",
    "    lipidmaps = met.annotation.get('lipidmaps')\n",
    "    inchi = met.annotation.get('inchi')\n",
    "    \n",
    "    compound = None\n",
    "\n",
    "    if ((compound is None) or (compound.inchi_key is None)) and kegg:\n",
    "        compound = cc.get_compound(f\"kegg:{kegg}\")\n",
    "        pass\n",
    "    if ((compound is None) or (compound.inchi_key is None)) and chebi:\n",
    "        compound = cc.get_compound(f\"chebi:{chebi}\")\n",
    "        pass\n",
    "    if ((compound is None) or (compound.inchi_key is None)) and hmdb:\n",
    "        compound = cc.get_compound(f\"hmdb:{hmdb}\")\n",
    "        pass\n",
    "    if ((compound is None) or (compound.inchi_key is None)) and bigg:\n",
    "        compound = cc.get_compound(f\"bigg.metabolite:{bigg}\")\n",
    "        pass\n",
    "    if ((compound is None) or (compound.inchi_key is None)) and metanetx:\n",
    "        compound = cc.get_compound(f\"metanetx.chemical:{metanetx}\")\n",
    "        pass\n",
    "    if ((compound is None) or (compound.inchi_key is None)) and lipidmaps:\n",
    "        compound = cc.get_compound(f\"lipidmaps:{lipidmaps}\")\n",
    "        pass\n",
    "    if ((compound is None) or (compound.inchi_key is None)) and inchi:\n",
    "        compound = cc.get_compound_by_inchi(inchi)\n",
    "        pass\n",
    "\n",
    "    if compound is None:\n",
    "        compound_dict[met.id] = None\n",
    "        met.compound = None\n",
    "    elif compound.inchi_key is None:\n",
    "        compound_dict[met.id] = None\n",
    "        met.compound = compound\n",
    "    else:\n",
    "        compound_dict[met.id] = compound\n",
    "        met.compound = compound\n",
    "\n",
    "    met.met = met.id\n",
    "    met.kegg = kegg\n",
    "    met.chebi = chebi\n",
    "    met.hmdb = hmdb\n",
    "    met.bigg = bigg\n",
    "    met.metanetx = metanetx\n",
    "    met.lipidmaps = lipidmaps\n",
    "    met.inchi = inchi\n",
    "    \n",
    "sum([x is not None for x in np.array(list(compound_dict.values()))])"
   ]
  },
  {
   "cell_type": "code",
   "execution_count": 33,
   "metadata": {},
   "outputs": [
    {
     "name": "stderr",
     "output_type": "stream",
     "text": [
      "100%|██████████| 8456/8456 [00:01<00:00, 5808.36it/s] \n"
     ]
    },
    {
     "data": {
      "text/plain": [
       "4078"
      ]
     },
     "execution_count": 33,
     "metadata": {},
     "output_type": "execute_result"
    }
   ],
   "source": [
    "dGf = []\n",
    "for met in tqdm(human1.metabolites):\n",
    "    if met.compound is None:\n",
    "        dGf.append(None)\n",
    "    else:\n",
    "        dGf.append(cc.standard_dg_formation(met.compound)[0])\n",
    "\n",
    "dGf = np.array(dGf, dtype=np.float64)\n",
    "sum(~np.isnan(dGf))"
   ]
  },
  {
   "cell_type": "code",
   "execution_count": 34,
   "metadata": {},
   "outputs": [],
   "source": [
    "dGf_df = pd.DataFrame(dGf, columns=['standard dGf',], index=[met.id for met in human1.metabolites])\n",
    "dGf_df.to_csv(os.path.join(package_path, 'data/Human1/Human1_standard_dGf_eQuilibrator.csv'))"
   ]
  },
  {
   "cell_type": "code",
   "execution_count": 22,
   "metadata": {},
   "outputs": [
    {
     "data": {
      "text/plain": [
       "array([6013, 6013])"
      ]
     },
     "execution_count": 22,
     "metadata": {},
     "output_type": "execute_result"
    }
   ],
   "source": [
    "dGr = []\n",
    "for rxn in human1.reactions:\n",
    "    r = {}\n",
    "    for k, coeff in cc.parse_formula(rxn.reaction).items():\n",
    "        r[compound_dict[k]] = coeff + r.get(compound_dict[k], 0)\n",
    "    if None in r:\n",
    "        dGr.append([np.nan, np.nan])\n",
    "    else:\n",
    "        reaction = Reaction(r)\n",
    "        if reaction.is_balanced() == False:\n",
    "            dGr.append([np.nan, np.nan])\n",
    "        else:\n",
    "            dgr = cc.standard_dg(reaction).m_as(\"kJ/mol\")\n",
    "            dgr = [dgr.n, dgr.s]\n",
    "            if all([x.can_be_transformed() for x in r.keys()]) == True:\n",
    "                for met in rxn.metabolites:\n",
    "                    cpd = met.compound\n",
    "                    v = rxn.get_coefficient(met.id)\n",
    "                    cdt = conditions[met.compartment]\n",
    "                    dgr[0] += cpd.transform(Q_(cdt['pH']), Q_(cdt['I'], 'M'), Q_(cdt['T'], 'K'), Q_(cdt['pMg'])).m_as(\"kJ/mol\") * v\n",
    "                dGr.append(dgr)\n",
    "            else:\n",
    "                dGr.append([np.nan, np.nan])\n",
    "\n",
    "dGr = np.array(dGr)\n",
    "sum(~np.isnan(dGr))"
   ]
  },
  {
   "cell_type": "code",
   "execution_count": 23,
   "metadata": {},
   "outputs": [],
   "source": [
    "dGr_df = pd.DataFrame(dGr, columns=['transformed standard dGr', 'SD'])\n",
    "dGr_df.to_csv(os.path.join(package_path, 'data/Human1/Human1_standard_dGr_eQuilibrator.csv'))"
   ]
  },
  {
   "cell_type": "code",
   "execution_count": 28,
   "metadata": {},
   "outputs": [
    {
     "data": {
      "text/plain": [
       "(1766, 4156, 0.42492781520692974)"
      ]
     },
     "execution_count": 28,
     "metadata": {},
     "output_type": "execute_result"
    }
   ],
   "source": [
    "metNoComp = {}\n",
    "for met, compound in compound_dict.items():\n",
    "    if metNoComp.get(met[:-1], None) is None:\n",
    "        metNoComp[met[:-1]] = None if compound is None else cc.standard_dg_formation(compound)[0]\n",
    "sum([x is not None for x in metNoComp.values()]), len(metNoComp), \\\n",
    "sum([x is not None for x in metNoComp.values()])/len(metNoComp)"
   ]
  },
  {
   "cell_type": "code",
   "execution_count": null,
   "metadata": {},
   "outputs": [],
   "source": []
  }
 ],
 "metadata": {
  "kernelspec": {
   "display_name": "eQ",
   "language": "python",
   "name": "python3"
  },
  "language_info": {
   "codemirror_mode": {
    "name": "ipython",
    "version": 3
   },
   "file_extension": ".py",
   "mimetype": "text/x-python",
   "name": "python",
   "nbconvert_exporter": "python",
   "pygments_lexer": "ipython3",
   "version": "3.9.15"
  }
 },
 "nbformat": 4,
 "nbformat_minor": 2
}
