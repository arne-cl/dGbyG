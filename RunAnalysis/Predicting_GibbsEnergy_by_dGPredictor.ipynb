{
 "cells": [
  {
   "cell_type": "code",
   "execution_count": 1,
   "metadata": {},
   "outputs": [],
   "source": [
    "import pandas as pd\n",
    "import numpy as np\n",
    "import sys\n",
    "from multiprocessing import Pool\n",
    "import cobra\n",
    "import os"
   ]
  },
  {
   "cell_type": "code",
   "execution_count": 2,
   "metadata": {},
   "outputs": [
    {
     "name": "stderr",
     "output_type": "stream",
     "text": [
      "2024-08-30 11:41:27.049 WARNING streamlit.runtime.caching.cache_data_api: No runtime found, using MemoryCacheStorageManager\n",
      "2024-08-30 11:41:27.051 WARNING streamlit.runtime.caching.cache_data_api: No runtime found, using MemoryCacheStorageManager\n",
      "2024-08-30 11:41:27.052 WARNING streamlit.runtime.caching.cache_data_api: No runtime found, using MemoryCacheStorageManager\n",
      "2024-08-30 11:41:27.052 WARNING streamlit.runtime.caching.cache_data_api: No runtime found, using MemoryCacheStorageManager\n",
      "2024-08-30 11:41:27.101 \n",
      "  \u001b[33m\u001b[1mWarning:\u001b[0m to view this Streamlit app on a browser, run it with the following\n",
      "  command:\n",
      "\n",
      "    streamlit run /home/fanwc/anaconda3/envs/dGPredictor/lib/python3.8/site-packages/ipykernel_launcher.py [ARGUMENTS]\n",
      "2024-08-30 11:41:27.102 No runtime found, using MemoryCacheStorageManager\n",
      "2024-08-30 11:41:27.142 No runtime found, using MemoryCacheStorageManager\n"
     ]
    }
   ],
   "source": [
    "cwd = os.getcwd()\n",
    "os.chdir('/home/fanwc/dGPredictor')\n",
    "sys.path.append('/home/fanwc/dGPredictor/streamlit')\n",
    "\n",
    "from main import load_molsig_rad1, load_molsig_rad2, load_model\n",
    "from main import parse_novel_molecule, parse_novel_smiles, decompse_novel_mets_rad1, decompse_novel_mets_rad2\n",
    "from main import get_dG0\n",
    "\n",
    "molsig_r1 = load_molsig_rad1()\n",
    "molsig_r2 = load_molsig_rad2()\n",
    "loaded_model = load_model()\n",
    "\n",
    "def main(rxn_dict, add_info, pH=7.0, I=0.1):\n",
    "    \n",
    "    try:\n",
    "        novel_mets = parse_novel_molecule(add_info)\n",
    "        novel_smiles = parse_novel_smiles(novel_mets)\n",
    "        novel_decomposed_r1 = decompse_novel_mets_rad1(novel_smiles)\n",
    "        novel_decomposed_r2 = decompse_novel_mets_rad2(novel_smiles)\n",
    "\n",
    "    except Exception as e:\n",
    "        novel_mets = None\n",
    "        novel_smiles = None\n",
    "        novel_decomposed_r1 = None\n",
    "        novel_decomposed_r2 = None\n",
    "\n",
    "    mu, std, _, _ = get_dG0(rxn_dict, 'R00801', pH, I, \n",
    "                            loaded_model, molsig_r1, molsig_r2, novel_decomposed_r1, novel_decomposed_r2, novel_mets)\n",
    "    \n",
    "    return mu, std"
   ]
  },
  {
   "cell_type": "code",
   "execution_count": 3,
   "metadata": {},
   "outputs": [],
   "source": [
    "def parse_rxn(rxn):\n",
    "\n",
    "    rxn_dict = {}\n",
    "    add_info = {}\n",
    "    for met, coeff in rxn.metabolites.items():\n",
    "        met_kegg_id = met.annotation.get('kegg.compound')\n",
    "        met_inchi = met.annotation.get('inchi')\n",
    "        if isinstance(met_kegg_id, list):\n",
    "            met_kegg_id = met_kegg_id[0]\n",
    "        if isinstance(met_inchi, list):\n",
    "            met_inchi = met_inchi[0]\n",
    "        if met_kegg_id:\n",
    "            rxn_dict[met_kegg_id] = rxn_dict.get(met_kegg_id, 0) + coeff\n",
    "        elif met_inchi:\n",
    "            rxn_dict[met.id] = rxn_dict.get(met.id, 0) + coeff\n",
    "            add_info[met.id] = met_inchi\n",
    "        else:\n",
    "            return None, None\n",
    "    return rxn_dict, add_info\n",
    "\n",
    "\n",
    "def predict_rxn(rxn):\n",
    "    rxn_dict, add_info = parse_rxn(rxn)\n",
    "    if rxn_dict is None:\n",
    "        return np.nan, np.nan\n",
    "    else:\n",
    "        return main(rxn_dict, add_info)\n",
    "\n",
    "class formation_rxn():\n",
    "    def __init__(self, met):\n",
    "        self.metabolites = {met:1}\n",
    "\n",
    "def predict_dG_formation(met):\n",
    "    return predict_rxn(formation_rxn(met))"
   ]
  },
  {
   "cell_type": "code",
   "execution_count": null,
   "metadata": {},
   "outputs": [],
   "source": []
  },
  {
   "cell_type": "markdown",
   "metadata": {},
   "source": [
    "### 1. Predicting standard Gibbs energy for Recon3D"
   ]
  },
  {
   "cell_type": "code",
   "execution_count": 4,
   "metadata": {},
   "outputs": [
    {
     "name": "stderr",
     "output_type": "stream",
     "text": [
      "No defined compartments in model Recon3D. Compartments will be deduced heuristically using regular expressions.\n",
      "Using regular expression found the following compartments:c, e, g, i, l, m, n, r, x\n"
     ]
    }
   ],
   "source": [
    "recon3d = cobra.io.load_matlab_model(os.path.join(cwd, '../data/Recon3D/Recon3D_301.mat'))\n",
    "S = cobra.util.array.create_stoichiometric_matrix(recon3d) # shape = [met, rxn]\n",
    "\n",
    "# patch\n",
    "recon3d.metabolites.get_by_id('aqcobal[e]').annotation['pubchem.compound'] = ['4238']\n",
    "recon3d.metabolites.get_by_id('aqcobal[c]').annotation['pubchem.compound'] = ['4238']\n",
    "recon3d.metabolites.get_by_id('yvite[e]').annotation['kegg.compound'] = ['C02483']"
   ]
  },
  {
   "cell_type": "code",
   "execution_count": 5,
   "metadata": {},
   "outputs": [],
   "source": [
    "# Recon3D's standard Gibbs energy of formation\n",
    "try:\n",
    "    dGf_df = pd.read_csv(os.path.join(cwd, '../data/Recon3D/Recon3D_standard_dGf_dGPredictor.csv'), index_col=0)\n",
    "except:\n",
    "    dGf_df = pd.DataFrame([], columns=['met id', 'standard dGr', 'SD'])\n",
    "\n",
    "\n",
    "p = Pool(64)\n",
    "parallel_p = []\n",
    "for i, met in enumerate(recon3d.metabolites):\n",
    "    if i not in dGf_df.index:\n",
    "        r = p.apply_async(func=predict_dG_formation, args=(met,))\n",
    "        parallel_p.append([i, met.id, r])\n",
    "        \n",
    "    if len(parallel_p) >= 2e4:\n",
    "        print(i, 'done')\n",
    "        break\n",
    "\n",
    "p.close()\n",
    "p.join()\n",
    "\n",
    "for i, met_id, r in parallel_p:\n",
    "    if r.successful():\n",
    "        dGf_df.loc[i,:] = [met_id, *r.get()]\n",
    "    else:\n",
    "        dGf_df.loc[i,:] = [met_id, np.nan, np.nan]\n",
    "\n",
    "# save\n",
    "dGf_df.to_csv(os.path.join(cwd, '../data/Recon3D/Recon3D_standard_dGf_dGPredictor.csv'))"
   ]
  },
  {
   "cell_type": "code",
   "execution_count": 6,
   "metadata": {},
   "outputs": [],
   "source": [
    "# Recon3D's standard Gibbs energy of reaction\n",
    "try:\n",
    "    dGr_df = pd.read_csv(os.path.join(cwd, '../data/Recon3D/Recon3D_standard_dGr_dGPredictor.csv'), index_col=0)\n",
    "except:\n",
    "    dGr_df = pd.DataFrame([], columns=['standard dGr', 'SD'])\n",
    "\n",
    "\n",
    "p = Pool(64)\n",
    "parallel_p = []\n",
    "for i, rxn in enumerate(recon3d.reactions):\n",
    "    if i not in dGr_df.index:\n",
    "        r = p.apply_async(func=predict_rxn, args=(rxn,))\n",
    "        parallel_p.append([i, r])\n",
    "        \n",
    "    if len(parallel_p) >= 1e6:\n",
    "        print('done')\n",
    "        break\n",
    "\n",
    "p.close()\n",
    "p.join()\n",
    "\n",
    "for i, r in parallel_p:\n",
    "    if r.successful():\n",
    "        dGr_df.loc[i,:] = r.get()\n",
    "    else:\n",
    "        dGr_df.loc[i,:] = [np.nan, np.nan]\n",
    "\n",
    "# save\n",
    "dGr_df.to_csv(os.path.join(cwd, '../data/Recon3D/Recon3D_standard_dGr_dGPredictor.csv'))"
   ]
  },
  {
   "cell_type": "code",
   "execution_count": null,
   "metadata": {},
   "outputs": [],
   "source": []
  },
  {
   "cell_type": "markdown",
   "metadata": {},
   "source": [
    "### 2. Predicting standard Gibbs energy for Human1"
   ]
  },
  {
   "cell_type": "code",
   "execution_count": 7,
   "metadata": {},
   "outputs": [],
   "source": [
    "# Read model and patch it\n",
    "human1 = cobra.io.read_sbml_model(os.path.join(cwd, \"../data/Human1/Human-GEM/model/Human-GEM.xml\"))\n",
    "human1.metabolites.get_by_id('MAM01935e').annotation['kegg.compound'] = 'C02483'"
   ]
  },
  {
   "cell_type": "code",
   "execution_count": 8,
   "metadata": {},
   "outputs": [],
   "source": [
    "# Human1's standard Gibbs energy of formation\n",
    "try:\n",
    "    dGf_df = pd.read_csv(os.path.join(cwd, '../data/Human1/Human1_standard_dGf_dGPredictor.csv'), index_col=0)\n",
    "except:\n",
    "    dGf_df = pd.DataFrame([], columns=['met id', 'standard dGf', 'SD'])\n",
    "\n",
    "\n",
    "p = Pool(40)\n",
    "parallel_p = []\n",
    "for i, met in enumerate(human1.metabolites):\n",
    "    if i not in dGf_df.index:\n",
    "        r = p.apply_async(func=predict_dG_formation, args=(met,))\n",
    "        parallel_p.append([i, met.id, r])\n",
    "        \n",
    "    if len(parallel_p) >= 2e4:\n",
    "        print(i, 'done')\n",
    "        break\n",
    "\n",
    "p.close()\n",
    "p.join()\n",
    "\n",
    "for i, met_id, r in parallel_p:\n",
    "    if r.successful():\n",
    "        dGf_df.loc[i,:] = [met_id, *r.get()]\n",
    "    else:\n",
    "        dGf_df.loc[i,:] = [met_id, np.nan, np.nan]\n",
    "\n",
    "# save\n",
    "dGf_df.to_csv(os.path.join(cwd, '../data/Human1/Human1_standard_dGf_dGPredictor.csv'))"
   ]
  },
  {
   "cell_type": "code",
   "execution_count": 9,
   "metadata": {},
   "outputs": [],
   "source": [
    "# Human1's standard Gibbs energy of reaction\n",
    "try:\n",
    "    dGr_df = pd.read_csv(os.path.join(cwd, '../data/Human1/Human1_standard_dGr_dGPredictor.csv'), index_col=0)\n",
    "except:\n",
    "    dGr_df = pd.DataFrame([], columns=['standard dGr', 'SD'])\n",
    "\n",
    "\n",
    "p = Pool(64)\n",
    "parallel_p = []\n",
    "for i, rxn in enumerate(human1.reactions):\n",
    "    if i not in dGr_df.index:\n",
    "        r = p.apply_async(func=predict_rxn, args=(rxn,))\n",
    "        parallel_p.append([i, r])\n",
    "        \n",
    "    if len(parallel_p) >= 1e6:\n",
    "        print('done')\n",
    "        break\n",
    "\n",
    "p.close()\n",
    "p.join()\n",
    "\n",
    "for i, r in parallel_p:\n",
    "    if r.successful():\n",
    "        dGr_df.loc[i,:] = r.get()\n",
    "    else:\n",
    "        dGr_df.loc[i,:] = [np.nan, np.nan]\n",
    "\n",
    "# save\n",
    "dGr_df.to_csv(os.path.join(cwd, '../data/Human1/Human1_standard_dGr_dGPredictor.csv'))"
   ]
  },
  {
   "cell_type": "code",
   "execution_count": null,
   "metadata": {},
   "outputs": [],
   "source": []
  }
 ],
 "metadata": {
  "kernelspec": {
   "display_name": "dGbyG",
   "language": "python",
   "name": "python3"
  },
  "language_info": {
   "codemirror_mode": {
    "name": "ipython",
    "version": 3
   },
   "file_extension": ".py",
   "mimetype": "text/x-python",
   "name": "python",
   "nbconvert_exporter": "python",
   "pygments_lexer": "ipython3",
   "version": "3.8.19"
  },
  "orig_nbformat": 4
 },
 "nbformat": 4,
 "nbformat_minor": 2
}
