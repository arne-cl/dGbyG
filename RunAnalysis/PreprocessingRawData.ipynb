{
 "cells": [
  {
   "cell_type": "code",
   "execution_count": 1,
   "metadata": {},
   "outputs": [],
   "source": [
    "import re, sys\n",
    "import pandas as pd\n",
    "import matplotlib.pyplot as plt\n",
    "\n",
    "from dGbyG.api import Compound, Reaction\n",
    "from dGbyG.utils.ChemFunc import *\n",
    "from dGbyG.utils.constants import *"
   ]
  },
  {
   "cell_type": "markdown",
   "metadata": {},
   "source": [
    "Preparation of raw data"
   ]
  },
  {
   "cell_type": "code",
   "execution_count": 2,
   "metadata": {},
   "outputs": [],
   "source": [
    "tecrdb = pd.read_csv('../data/experimental_dG_from_eQ/TECRDB.csv')\n",
    "\n",
    "data={'COCOM00001': '[O-]C(=O)C1=C(Cl)C(Cl)=CC=C1',\n",
    "      'COCOM00002': '[O-]C(=O)C1=CC(Cl)=CC(Cl)=C1',\n",
    "      'COCOM00003': '[O-]C(=O)C1=C(Cl)C(Cl)=CC(Cl)=C1',\n",
    "      'COCOM00004': '[O-]C(=O)C1=CC(Cl)=C(Cl)C(Cl)=C1',\n",
    "      'COCOM00005': '[O-]C(=O)C1=CC(Br)=CC=C1',\n",
    "      'COCOM00006': '[O-]C(=O)C1=CC(I)=CC=C1',\n",
    "      'COCOM00007': 'NC1=C(C=C(Cl)C=C1)C([O-])=O',\n",
    "      'COCOM00008': 'OC1=C(C=C(Cl)C=C1)C([O-])=O',\n",
    "      'COCOM00009': 'CC1=C(C=C(Cl)C=C1)C([O-])=O',\n",
    "      'COCOM00010': 'CCC(C)Cl',\n",
    "      'COCOM00011': 'C[N+](C)(C)[O-]',\n",
    "      'COCOM00012': 'CC(=O)C1=C[N+](=CC=C1)C1OC(COP([O-])(=O)OP([O-])(=O)OCC2OC(C(O)C2O)N2C=NC3=C(N)N=CN=C23)C(O)C1O',\n",
    "      'COCOM00013': 'CC(=O)C1=CN(C=CC1)C1OC(COP([O-])(=O)OP([O-])(=O)OCC2OC(C(O)C2O)N2C=NC3=C(N)N=CN=C23)C(O)C1O'}\n",
    "equilibrator_df = pd.DataFrame(data=data.items(), columns=['id', 'Smiles'], ).set_index(keys='id')"
   ]
  },
  {
   "cell_type": "markdown",
   "metadata": {},
   "source": [
    "Translation of various compound ids to Smiles format"
   ]
  },
  {
   "cell_type": "code",
   "execution_count": 3,
   "metadata": {},
   "outputs": [],
   "source": [
    "tecrdb_copy = tecrdb.loc[:,['description', 'reaction', 'K_prime', 'temperature', 'ionic_strength', 'p_h', 'p_mg', 'EC']].copy()\n",
    "\n",
    "for i in tecrdb_copy.index:\n",
    "    r = tecrdb_copy.loc[i,'reaction']\n",
    "    reaction = parse_equation(r)\n",
    "    rxn = {}\n",
    "    for name, coeff in reaction.items():\n",
    "        name = name.strip()\n",
    "        if c := re.match(r'^kegg:(C\\d{5})$', name):\n",
    "            kegg_entry = c.group(1)\n",
    "            mol = to_mol(kegg_entry, 'kegg')\n",
    "        elif c := re.match(r'^metanetx.chemical:(.+)$', name):\n",
    "            metanetx_id = c.group(1)\n",
    "            mol = to_mol(metanetx_id, 'metanetx')\n",
    "        elif c := re.match(r'COCO:(.+)$', name):\n",
    "            equilibrator_id = c.group(1)\n",
    "            smiles = equilibrator_df.loc[equilibrator_id, 'Smiles']\n",
    "            mol = to_mol(smiles, 'Smiles')\n",
    "        else:\n",
    "            print(i)\n",
    "\n",
    "        if not mol:\n",
    "            rxn = pd.NA\n",
    "            break\n",
    "        \n",
    "        compound = Compound(mol)\n",
    "        smiles = compound.Smiles # record smiles of the compound\n",
    "        rxn[smiles] = coeff\n",
    "    \n",
    "    rxn = build_equation(rxn) if pd.notna(rxn) else pd.NA\n",
    "    tecrdb_copy.loc[i,'reaction'] = rxn"
   ]
  },
  {
   "cell_type": "markdown",
   "metadata": {},
   "source": [
    "Removing incomplete data, renaming columns, and computing non-transformed standard dg primes"
   ]
  },
  {
   "cell_type": "code",
   "execution_count": 4,
   "metadata": {},
   "outputs": [],
   "source": [
    "tecrdb_copy = tecrdb_copy.loc[pd.notna(tecrdb_copy.loc[:,['reaction', 'K_prime']]).all(axis=1),:]\n",
    "tecrdb_copy = tecrdb_copy.rename(columns={'temperature':'T', 'ionic_strength':'I', 'p_h':'pH', 'p_mg':'pMg'})\n",
    "nontrans_standard_dg_primes = [(-R * row.T * np.log(row.K_prime)) for row in tecrdb_copy.itertuples()]\n",
    "tecrdb_copy = tecrdb_copy.assign(**{\"nontrans_standard_dg_primes\": nontrans_standard_dg_primes})"
   ]
  },
  {
   "cell_type": "markdown",
   "metadata": {},
   "source": [
    "Balancing the reactions with H2O and H+ if possible, else remove them."
   ]
  },
  {
   "cell_type": "code",
   "execution_count": 5,
   "metadata": {},
   "outputs": [],
   "source": [
    "balanced = []\n",
    "for i in tecrdb_copy.index:\n",
    "    r = tecrdb_copy.loc[i, 'reaction']\n",
    "    r = Reaction(r, cid_type='smiles')\n",
    "    if not r.is_balanced():\n",
    "        balanced.append(False)\n",
    "    else:\n",
    "        tecrdb_copy.loc[i, 'reaction'] = r.equationSmiles\n",
    "        balanced.append(True)\n",
    "tecrdb_copy = tecrdb_copy.loc[balanced, :].copy()"
   ]
  },
  {
   "cell_type": "markdown",
   "metadata": {},
   "source": [
    "Calculation of delta dG prime, which is the transformation from different conditon to default condition(pH=7.0, T=298.15, I=0.25, pMg = 14.0). \n",
    "Note that there are some molecules have no pKa prediction. We ignore these here."
   ]
  },
  {
   "cell_type": "code",
   "execution_count": 6,
   "metadata": {},
   "outputs": [],
   "source": [
    "ddg_prime = np.array([])\n",
    "for row in tecrdb_copy.itertuples():\n",
    "    rxn = Reaction(row.reaction, cid_type='smiles')\n",
    "    condition = {'T':row.T}\n",
    "    condition['pH'] = row.pH if pd.notna(row.pH) else default_pH\n",
    "    condition['I'] = row.I if pd.notna(row.I) else default_I\n",
    "    condition['pMg'] = row.pMg if pd.notna(row.pMg) else default_pMg\n",
    "    if rxn.can_be_transformed:\n",
    "        ddg_prime = np.append(ddg_prime, rxn.transform(condition, default_condition))\n",
    "    else:\n",
    "        print(rxn.equationSmiles)\n",
    "    \n",
    "tecrdb_copy.loc[:,'standard_dg_primes'] = tecrdb_copy.loc[:,'nontrans_standard_dg_primes'] + ddg_prime"
   ]
  },
  {
   "cell_type": "markdown",
   "metadata": {},
   "source": [
    "Merger of duplicated data, and calculating the standard deviation(std) and standard error of the mean(SEM)."
   ]
  },
  {
   "cell_type": "code",
   "execution_count": 7,
   "metadata": {},
   "outputs": [
    {
     "data": {
      "text/html": [
       "<div>\n",
       "<style scoped>\n",
       "    .dataframe tbody tr th:only-of-type {\n",
       "        vertical-align: middle;\n",
       "    }\n",
       "\n",
       "    .dataframe tbody tr th {\n",
       "        vertical-align: top;\n",
       "    }\n",
       "\n",
       "    .dataframe thead th {\n",
       "        text-align: right;\n",
       "    }\n",
       "</style>\n",
       "<table border=\"1\" class=\"dataframe\">\n",
       "  <thead>\n",
       "    <tr style=\"text-align: right;\">\n",
       "      <th></th>\n",
       "      <th>description</th>\n",
       "      <th>reaction</th>\n",
       "      <th>K_prime</th>\n",
       "      <th>T</th>\n",
       "      <th>I</th>\n",
       "      <th>pH</th>\n",
       "      <th>pMg</th>\n",
       "      <th>EC</th>\n",
       "      <th>nontrans_standard_dg_primes</th>\n",
       "      <th>standard_dg_primes</th>\n",
       "    </tr>\n",
       "  </thead>\n",
       "  <tbody>\n",
       "    <tr>\n",
       "      <th>0</th>\n",
       "      <td>(1R,2S)-1-hydroxybutane-1,2,4-tricarboxylate(a...</td>\n",
       "      <td>[H]OC(=O)C([H])([H])C([H])([H])[C@]([H])(C(=O)...</td>\n",
       "      <td>0.450</td>\n",
       "      <td>298.15</td>\n",
       "      <td>NaN</td>\n",
       "      <td>7.5</td>\n",
       "      <td>NaN</td>\n",
       "      <td>1.1.1.87</td>\n",
       "      <td>1.978404</td>\n",
       "      <td>4.826885</td>\n",
       "    </tr>\n",
       "    <tr>\n",
       "      <th>1</th>\n",
       "      <td>5,10-methenyltetrahydrofolate(aq) + H2O(l) = 1...</td>\n",
       "      <td>[H]OC(=O)C([H])([H])C([H])([H])[C@@]([H])(C(=O...</td>\n",
       "      <td>4.200</td>\n",
       "      <td>298.15</td>\n",
       "      <td>NaN</td>\n",
       "      <td>6.5</td>\n",
       "      <td>NaN</td>\n",
       "      <td>3.5.4.9</td>\n",
       "      <td>-3.555603</td>\n",
       "      <td>-6.413177</td>\n",
       "    </tr>\n",
       "    <tr>\n",
       "      <th>2</th>\n",
       "      <td>isocitrate(aq) = citrate(aq)</td>\n",
       "      <td>[H]OC(=O)C([H])([H])C([H])(C(=O)O[H])C([H])(O[...</td>\n",
       "      <td>18.000</td>\n",
       "      <td>310.15</td>\n",
       "      <td>NaN</td>\n",
       "      <td>7.3</td>\n",
       "      <td>2.96</td>\n",
       "      <td>4.2.1.3</td>\n",
       "      <td>-7.449490</td>\n",
       "      <td>-7.498591</td>\n",
       "    </tr>\n",
       "    <tr>\n",
       "      <th>3</th>\n",
       "      <td>isocitrate(aq) = citrate(aq)</td>\n",
       "      <td>[H]OC(=O)C([H])([H])C([H])(C(=O)O[H])C([H])(O[...</td>\n",
       "      <td>25.000</td>\n",
       "      <td>310.15</td>\n",
       "      <td>NaN</td>\n",
       "      <td>7.3</td>\n",
       "      <td>2.80</td>\n",
       "      <td>4.2.1.3</td>\n",
       "      <td>-8.296158</td>\n",
       "      <td>-8.345260</td>\n",
       "    </tr>\n",
       "    <tr>\n",
       "      <th>4</th>\n",
       "      <td>isocitrate(aq) = citrate(aq)</td>\n",
       "      <td>[H]OC(=O)C([H])([H])C([H])(C(=O)O[H])C([H])(O[...</td>\n",
       "      <td>33.000</td>\n",
       "      <td>310.15</td>\n",
       "      <td>NaN</td>\n",
       "      <td>7.3</td>\n",
       "      <td>2.30</td>\n",
       "      <td>4.2.1.3</td>\n",
       "      <td>-9.011712</td>\n",
       "      <td>-9.060813</td>\n",
       "    </tr>\n",
       "    <tr>\n",
       "      <th>...</th>\n",
       "      <td>...</td>\n",
       "      <td>...</td>\n",
       "      <td>...</td>\n",
       "      <td>...</td>\n",
       "      <td>...</td>\n",
       "      <td>...</td>\n",
       "      <td>...</td>\n",
       "      <td>...</td>\n",
       "      <td>...</td>\n",
       "      <td>...</td>\n",
       "    </tr>\n",
       "    <tr>\n",
       "      <th>4539</th>\n",
       "      <td>Aminoimidazole ribotide + CO2 = 1-(5-Phospho-D...</td>\n",
       "      <td>[H]O[C@@]1([H])[C@@]([H])(O[H])[C@]([H])(n2c([...</td>\n",
       "      <td>1.800</td>\n",
       "      <td>310.15</td>\n",
       "      <td>NaN</td>\n",
       "      <td>7.8</td>\n",
       "      <td>NaN</td>\n",
       "      <td>4.1.1.21</td>\n",
       "      <td>-1.514930</td>\n",
       "      <td>1.170442</td>\n",
       "    </tr>\n",
       "    <tr>\n",
       "      <th>4540</th>\n",
       "      <td>10-Formyltetrahydrofolate + 1-(5'-Phosphoribos...</td>\n",
       "      <td>[H]OC(=O)C([H])([H])C([H])([H])[C@@]([H])(C(=O...</td>\n",
       "      <td>0.024</td>\n",
       "      <td>298.15</td>\n",
       "      <td>NaN</td>\n",
       "      <td>7.5</td>\n",
       "      <td>NaN</td>\n",
       "      <td>2.1.2.3</td>\n",
       "      <td>9.240807</td>\n",
       "      <td>9.257122</td>\n",
       "    </tr>\n",
       "    <tr>\n",
       "      <th>4541</th>\n",
       "      <td>THF(aq) + formaldehyde(aq) = 5,10-CH2-THF(aq)</td>\n",
       "      <td>[H]OC(=O)C([H])([H])C([H])([H])[C@@]([H])(C(=O...</td>\n",
       "      <td>7700.000</td>\n",
       "      <td>293.15</td>\n",
       "      <td>NaN</td>\n",
       "      <td>7.2</td>\n",
       "      <td>NaN</td>\n",
       "      <td>4.3.-.-</td>\n",
       "      <td>-21.800389</td>\n",
       "      <td>-21.818210</td>\n",
       "    </tr>\n",
       "    <tr>\n",
       "      <th>4542</th>\n",
       "      <td>D-Ribulose 5-phosphate + Formaldehyde = D-arab...</td>\n",
       "      <td>[H]OC([H])([H])C(=O)[C@]([H])(O[H])[C@]([H])(O...</td>\n",
       "      <td>25000.000</td>\n",
       "      <td>303.15</td>\n",
       "      <td>NaN</td>\n",
       "      <td>7.0</td>\n",
       "      <td>NaN</td>\n",
       "      <td>4.1.2.43</td>\n",
       "      <td>-25.510771</td>\n",
       "      <td>-25.510771</td>\n",
       "    </tr>\n",
       "    <tr>\n",
       "      <th>4543</th>\n",
       "      <td>D-arabino-Hex-3-ulose 6-phosphate = D-Fructose...</td>\n",
       "      <td>[H]OC([H])([H])[C@@]([H])(O[H])C(=O)[C@]([H])(...</td>\n",
       "      <td>188.000</td>\n",
       "      <td>303.15</td>\n",
       "      <td>NaN</td>\n",
       "      <td>7.0</td>\n",
       "      <td>NaN</td>\n",
       "      <td>5.3.1.27</td>\n",
       "      <td>-13.191522</td>\n",
       "      <td>-13.147323</td>\n",
       "    </tr>\n",
       "  </tbody>\n",
       "</table>\n",
       "<p>3814 rows × 10 columns</p>\n",
       "</div>"
      ],
      "text/plain": [
       "                                            description  \\\n",
       "0     (1R,2S)-1-hydroxybutane-1,2,4-tricarboxylate(a...   \n",
       "1     5,10-methenyltetrahydrofolate(aq) + H2O(l) = 1...   \n",
       "2                          isocitrate(aq) = citrate(aq)   \n",
       "3                          isocitrate(aq) = citrate(aq)   \n",
       "4                          isocitrate(aq) = citrate(aq)   \n",
       "...                                                 ...   \n",
       "4539  Aminoimidazole ribotide + CO2 = 1-(5-Phospho-D...   \n",
       "4540  10-Formyltetrahydrofolate + 1-(5'-Phosphoribos...   \n",
       "4541      THF(aq) + formaldehyde(aq) = 5,10-CH2-THF(aq)   \n",
       "4542  D-Ribulose 5-phosphate + Formaldehyde = D-arab...   \n",
       "4543  D-arabino-Hex-3-ulose 6-phosphate = D-Fructose...   \n",
       "\n",
       "                                               reaction    K_prime       T  \\\n",
       "0     [H]OC(=O)C([H])([H])C([H])([H])[C@]([H])(C(=O)...      0.450  298.15   \n",
       "1     [H]OC(=O)C([H])([H])C([H])([H])[C@@]([H])(C(=O...      4.200  298.15   \n",
       "2     [H]OC(=O)C([H])([H])C([H])(C(=O)O[H])C([H])(O[...     18.000  310.15   \n",
       "3     [H]OC(=O)C([H])([H])C([H])(C(=O)O[H])C([H])(O[...     25.000  310.15   \n",
       "4     [H]OC(=O)C([H])([H])C([H])(C(=O)O[H])C([H])(O[...     33.000  310.15   \n",
       "...                                                 ...        ...     ...   \n",
       "4539  [H]O[C@@]1([H])[C@@]([H])(O[H])[C@]([H])(n2c([...      1.800  310.15   \n",
       "4540  [H]OC(=O)C([H])([H])C([H])([H])[C@@]([H])(C(=O...      0.024  298.15   \n",
       "4541  [H]OC(=O)C([H])([H])C([H])([H])[C@@]([H])(C(=O...   7700.000  293.15   \n",
       "4542  [H]OC([H])([H])C(=O)[C@]([H])(O[H])[C@]([H])(O...  25000.000  303.15   \n",
       "4543  [H]OC([H])([H])[C@@]([H])(O[H])C(=O)[C@]([H])(...    188.000  303.15   \n",
       "\n",
       "       I   pH   pMg        EC  nontrans_standard_dg_primes  standard_dg_primes  \n",
       "0    NaN  7.5   NaN  1.1.1.87                     1.978404            4.826885  \n",
       "1    NaN  6.5   NaN   3.5.4.9                    -3.555603           -6.413177  \n",
       "2    NaN  7.3  2.96   4.2.1.3                    -7.449490           -7.498591  \n",
       "3    NaN  7.3  2.80   4.2.1.3                    -8.296158           -8.345260  \n",
       "4    NaN  7.3  2.30   4.2.1.3                    -9.011712           -9.060813  \n",
       "...   ..  ...   ...       ...                          ...                 ...  \n",
       "4539 NaN  7.8   NaN  4.1.1.21                    -1.514930            1.170442  \n",
       "4540 NaN  7.5   NaN   2.1.2.3                     9.240807            9.257122  \n",
       "4541 NaN  7.2   NaN   4.3.-.-                   -21.800389          -21.818210  \n",
       "4542 NaN  7.0   NaN  4.1.2.43                   -25.510771          -25.510771  \n",
       "4543 NaN  7.0   NaN  5.3.1.27                   -13.191522          -13.147323  \n",
       "\n",
       "[3814 rows x 10 columns]"
      ]
     },
     "execution_count": 7,
     "metadata": {},
     "output_type": "execute_result"
    }
   ],
   "source": [
    "tecrdb_copy"
   ]
  },
  {
   "cell_type": "code",
   "execution_count": 17,
   "metadata": {},
   "outputs": [],
   "source": [
    "tecrdb_dedup = pd.DataFrame(index=range(len(set(tecrdb_copy.reaction))), \n",
    "                            columns=['description', 'reaction', 'nontrans_standard_dg_prime','standard_dg_prime',\n",
    "                                     'nontrans_std', 'std', 'n', 'SEM', 'all standard_dg_prime', 'all nontrans_standard_dg_prime', 'EC'])\n",
    "\n",
    "tecrdb_copy.index = tecrdb_copy.reaction\n",
    "for i, r in enumerate(set(tecrdb_copy.index)):\n",
    "    reaction = tecrdb_copy.loc[[r],:]\n",
    "    tecrdb_dedup.loc[i,'description'] = reaction.loc[:,'description'][0]\n",
    "    tecrdb_dedup.loc[i,'reaction'] = r\n",
    "    tecrdb_dedup.loc[i,'nontrans_standard_dg_prime'] = reaction.loc[:,'nontrans_standard_dg_primes'].mean()\n",
    "    tecrdb_dedup.loc[i,'standard_dg_prime'] = reaction.loc[:,'standard_dg_primes'].mean()\n",
    "    tecrdb_dedup.loc[i,'nontrans_std'] = reaction.loc[:,'nontrans_standard_dg_primes'].std(ddof=1)\n",
    "    tecrdb_dedup.loc[i,'std'] = reaction.loc[:,'standard_dg_primes'].std(ddof=1)\n",
    "    tecrdb_dedup.loc[i,'n'] = reaction.shape[0]\n",
    "    tecrdb_dedup.loc[i,'SEM'] = reaction.loc[:,'standard_dg_primes'].sem(ddof=1)\n",
    "    tecrdb_dedup.loc[i,'all standard_dg_prime'] = reaction.loc[:,'standard_dg_primes'].to_list()\n",
    "    tecrdb_dedup.loc[i,'all nontrans_standard_dg_prime'] = reaction.loc[:,'nontrans_standard_dg_primes'].to_list()\n",
    "    tecrdb_dedup.loc[i,'EC'] = list(set(reaction.loc[:,'EC']))\n",
    "\n",
    "tecrdb_dedup.loc[:,['T','I','pH','pMg']] = [default_T, default_I, default_pH, default_pMg]\n",
    "tecrdb_dedup.to_csv('../data/TECRDB_dedup.csv')"
   ]
  },
  {
   "cell_type": "markdown",
   "metadata": {},
   "source": [
    "Fig. Standard error of data reduced after Legendre Transformation"
   ]
  },
  {
   "cell_type": "code",
   "execution_count": 19,
   "metadata": {},
   "outputs": [
    {
     "name": "stderr",
     "output_type": "stream",
     "text": [
      "/home/fanwc/anaconda3/envs/dGbyG/lib/python3.9/site-packages/numpy/lib/histograms.py:824: RuntimeWarning: invalid value encountered in greater_equal\n",
      "  keep = (tmp_a >= first_edge)\n",
      "/home/fanwc/anaconda3/envs/dGbyG/lib/python3.9/site-packages/numpy/lib/histograms.py:825: RuntimeWarning: invalid value encountered in less_equal\n",
      "  keep &= (tmp_a <= last_edge)\n"
     ]
    },
    {
     "data": {
      "image/png": "[encoded data removed]",
      "text/plain": [
       "<Figure size 640x480 with 1 Axes>"
      ]
     },
     "metadata": {},
     "output_type": "display_data"
    }
   ],
   "source": [
    "y0,x0 = np.histogram(tecrdb_dedup.loc[:,'nontrans_std'], range=(0.0, 14.0), bins=14)\n",
    "y1,x1 = np.histogram(tecrdb_dedup.loc[:,'std'], range=(0.0, 14.0), bins=14)\n",
    "\n",
    "plt.plot(x0[1:]-0.5, y0, )\n",
    "plt.plot(x1[1:]-0.5, y1, )\n",
    "plt.show()"
   ]
  },
  {
   "cell_type": "markdown",
   "metadata": {},
   "source": [
    "Pre-processing formation dG"
   ]
  },
  {
   "cell_type": "code",
   "execution_count": 20,
   "metadata": {},
   "outputs": [],
   "source": [
    "formation_dg = pd.read_csv('../data/formation_dg_smiles.csv')\n",
    "formation_dg_copy = formation_dg.loc[pd.notna(formation_dg.loc[:,'standard_dg_prime']),['name', 'Smiles', 'temperature', 'ionic_strength', 'p_h', 'p_mg', 'standard_dg_prime']].copy()\n",
    "formation_dg_copy = formation_dg_copy.rename(columns={'name':'description', 'Smiles':'reaction', 'temperature':'T', 'ionic_strength':'I', 'p_h':'pH', 'p_mg':'pMg'})"
   ]
  },
  {
   "cell_type": "code",
   "execution_count": 21,
   "metadata": {},
   "outputs": [],
   "source": [
    "formation_dg_dedup = pd.DataFrame(index=range(len(set(formation_dg_copy.reaction))), \n",
    "                            columns=['description', 'reaction', 'T', 'I', 'pH', 'pMg', \n",
    "                                     'standard_dg_prime', 'std', 'n', 'SEM'])\n",
    "i = 0\n",
    "formation_dg_copy.index = formation_dg_copy.reaction\n",
    "for r in set(formation_dg_copy.index):\n",
    "    reaction = formation_dg_copy.loc[[r],:]\n",
    "    formation_dg_dedup.loc[i,'description'] = reaction.loc[:,'description'][0]\n",
    "    formation_dg_dedup.loc[i,'reaction'] = r\n",
    "    formation_dg_dedup.loc[i,'standard_dg_prime'] = reaction.loc[:,'standard_dg_prime'].mean()\n",
    "    formation_dg_dedup.loc[i,'std'] = reaction.loc[:,'standard_dg_prime'].std(ddof=1)\n",
    "    formation_dg_dedup.loc[i,'n'] = reaction.shape[0]\n",
    "    formation_dg_dedup.loc[i,'SEM'] = reaction.loc[:,'standard_dg_prime'].sem(ddof=1)\n",
    "    i += 1\n",
    "formation_dg_dedup.loc[:,['T','I','pH','pMg']] = [default_T, default_I, default_pH, default_pMg]"
   ]
  },
  {
   "cell_type": "markdown",
   "metadata": {},
   "source": [
    "Label, merge, and save"
   ]
  },
  {
   "cell_type": "code",
   "execution_count": 22,
   "metadata": {},
   "outputs": [],
   "source": [
    "formation_dg_dedup.loc[:,'type'] = 'formation dg'\n",
    "tecrdb_dedup.loc[:,'type'] = 'reaction dg'\n",
    "formation_dg_dedup = formation_dg_dedup.sort_values(by='description').reset_index(drop=True)\n",
    "tecrdb_dedup = tecrdb_dedup.sort_values(by='description').reset_index(drop=True)\n",
    "\n",
    "TrainingData_df = pd.concat([formation_dg_dedup, tecrdb_dedup], axis=0)\n",
    "TrainingData_df.to_csv('../data/TrainingData.csv', index=False)"
   ]
  },
  {
   "cell_type": "code",
   "execution_count": 23,
   "metadata": {},
   "outputs": [],
   "source": [
    "TrainingData_df = pd.read_csv('../data/TrainingData.csv')"
   ]
  },
  {
   "cell_type": "code",
   "execution_count": null,
   "metadata": {},
   "outputs": [],
   "source": []
  }
 ],
 "metadata": {
  "kernelspec": {
   "display_name": "dGbyG",
   "language": "python",
   "name": "python3"
  },
  "language_info": {
   "codemirror_mode": {
    "name": "ipython",
    "version": 3
   },
   "file_extension": ".py",
   "mimetype": "text/x-python",
   "name": "python",
   "nbconvert_exporter": "python",
   "pygments_lexer": "ipython3",
   "version": "3.9.16"
  },
  "orig_nbformat": 4
 },
 "nbformat": 4,
 "nbformat_minor": 2
}
