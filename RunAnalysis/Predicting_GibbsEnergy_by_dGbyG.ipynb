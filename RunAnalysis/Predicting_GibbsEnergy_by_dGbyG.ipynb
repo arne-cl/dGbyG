{
 "cells": [
  {
   "cell_type": "code",
   "execution_count": 1,
   "metadata": {},
   "outputs": [
    {
     "name": "stderr",
     "output_type": "stream",
     "text": [
      "/home/fanwc/anaconda3/envs/TFBA/lib/python3.12/site-packages/torch/cuda/__init__.py:628: UserWarning: Can't initialize NVML\n",
      "  warnings.warn(\"Can't initialize NVML\")\n"
     ]
    }
   ],
   "source": [
    "import os\n",
    "import pandas as pd\n",
    "import numpy as np\n",
    "import cobra\n",
    "from tqdm import tqdm\n",
    "\n",
    "from dGbyG.utils.ChemFunc import build_equation, to_mol\n",
    "from dGbyG.api import Compound, Reaction"
   ]
  },
  {
   "cell_type": "code",
   "execution_count": 2,
   "metadata": {},
   "outputs": [],
   "source": [
    "default_T = 298.15\n",
    "default_I = 0.25\n",
    "default_pH = 7.0\n",
    "default_pMg = 14.0\n",
    "\n",
    "conditions = {'c':{'pH':7.20, 'e_potential':0, 'T':default_T, 'I':default_I, 'pMg':default_pMg},\n",
    "              'e':{'pH':7.40, 'e_potential':30 * 1e-3, 'T':default_T, 'I':default_I, 'pMg':default_pMg},\n",
    "              'n':{'pH':7.20, 'e_potential':0, 'T':default_T, 'I':default_I, 'pMg':default_pMg},\n",
    "              'r':{'pH':7.20, 'e_potential':0, 'T':default_T, 'I':default_I, 'pMg':default_pMg},\n",
    "              'g':{'pH':6.35, 'e_potential':0, 'T':default_T, 'I':default_I, 'pMg':default_pMg},\n",
    "              'l':{'pH':5.50, 'e_potential':19 * 1e-3, 'T':default_T, 'I':default_I, 'pMg':default_pMg},\n",
    "              'm':{'pH':8.00, 'e_potential':-155 * 1e-3, 'T':default_T, 'I':default_I, 'pMg':default_pMg},\n",
    "              'i':{'pH':8.00, 'e_potential':-155 * 1e-3, 'T':default_T, 'I':default_I, 'pMg':default_pMg},\n",
    "              'x':{'pH':7.00, 'e_potential':12 * 1e-3, 'T':default_T, 'I':default_I, 'pMg':default_pMg}}"
   ]
  },
  {
   "cell_type": "markdown",
   "metadata": {},
   "source": [
    "### 1. Predicting standard Gibbs energy for Recon3D"
   ]
  },
  {
   "cell_type": "code",
   "execution_count": 3,
   "metadata": {},
   "outputs": [
    {
     "name": "stdout",
     "output_type": "stream",
     "text": [
      "Set parameter Username\n",
      "Academic license - for non-commercial use only - expires 2025-03-29\n"
     ]
    },
    {
     "name": "stderr",
     "output_type": "stream",
     "text": [
      "No defined compartments in model Recon3D. Compartments will be deduced heuristically using regular expressions.\n",
      "Using regular expression found the following compartments:c, e, g, i, l, m, n, r, x\n"
     ]
    }
   ],
   "source": [
    "recon3d = cobra.io.load_matlab_model('../data/Recon3D/Recon3D_301.mat')\n",
    "S = cobra.util.array.create_stoichiometric_matrix(recon3d) # shape = [met, rxn]\n",
    "\n",
    "# patch\n",
    "recon3d.metabolites.get_by_id('aqcobal[e]').annotation['pubchem.compound'] = ['4238']\n",
    "recon3d.metabolites.get_by_id('aqcobal[c]').annotation['pubchem.compound'] = ['4238']\n",
    "recon3d.metabolites.get_by_id('yvite[e]').annotation['kegg.compound'] = ['C02483']"
   ]
  },
  {
   "cell_type": "code",
   "execution_count": 4,
   "metadata": {},
   "outputs": [
    {
     "data": {
      "text/plain": [
       "{'SMILES', 'chebi', 'hmdb', 'inchi', 'kegg.compound', 'pubchem.compound'}"
      ]
     },
     "execution_count": 4,
     "metadata": {},
     "output_type": "execute_result"
    }
   ],
   "source": [
    "ID_types = set()\n",
    "met_ids = set()\n",
    "for met in recon3d.metabolites:\n",
    "    met_ids.add(met.id[:-3])\n",
    "    for key, value in met.annotation.items():\n",
    "        assert len(value) == 1\n",
    "        ID_types.add(key)\n",
    "ID_types"
   ]
  },
  {
   "cell_type": "code",
   "execution_count": 5,
   "metadata": {},
   "outputs": [],
   "source": [
    "mets_df = pd.DataFrame(columns=list(ID_types), index=list(met_ids))\n",
    "for met in recon3d.metabolites:\n",
    "    mets_df.loc[met.id[:-3], 'recon3d'] = met.id[:-3]\n",
    "    for key, value in met.annotation.items():\n",
    "        if pd.isna(mets_df.loc[met.id[:-3], key]):\n",
    "            mets_df.loc[met.id[:-3], key] = value[0]\n",
    "        else:\n",
    "            assert mets_df.loc[met.id[:-3], key] == str(value[0])\n",
    "mets_df.rename(columns={'kegg.compound':'kegg'}, inplace=True)\n",
    "mets_df = mets_df.loc[:,['inchi', 'kegg', 'recon3d', 'SMILES', 'chebi', 'hmdb', ]]"
   ]
  },
  {
   "cell_type": "code",
   "execution_count": 6,
   "metadata": {},
   "outputs": [
    {
     "data": {
      "text/plain": [
       "7387"
      ]
     },
     "execution_count": 6,
     "metadata": {},
     "output_type": "execute_result"
    }
   ],
   "source": [
    "mols_dict = {}\n",
    "# obtain a list of mol objects using `to_mol`\n",
    "for met in recon3d.metabolites:\n",
    "    recon3d_id = met.id[:-3]\n",
    "\n",
    "    mol = None\n",
    "\n",
    "    for cid_type, cid in mets_df.loc[recon3d_id, :].items():\n",
    "        if pd.notna(cid):\n",
    "            mol = to_mol(cid=cid, cid_type=cid_type)\n",
    "        if mol:\n",
    "            break\n",
    "\n",
    "    compound = Compound(mol,)\n",
    "    compound.condition = conditions[met.compartment]\n",
    "    mols_dict[met.id] = mol\n",
    "    met.compound = compound\n",
    "\n",
    "sum([x is not None for x in np.array(list(mols_dict.values()))])"
   ]
  },
  {
   "cell_type": "code",
   "execution_count": 7,
   "metadata": {},
   "outputs": [
    {
     "name": "stderr",
     "output_type": "stream",
     "text": [
      "100%|██████████| 8399/8399 [06:20<00:00, 22.06it/s] \n"
     ]
    },
    {
     "data": {
      "text/plain": [
       "array([7387, 7387])"
      ]
     },
     "execution_count": 7,
     "metadata": {},
     "output_type": "execute_result"
    }
   ],
   "source": [
    "dGf = []\n",
    "for met in tqdm(recon3d.metabolites):\n",
    "    dGf.append(met.compound.transformed_standard_dGf_prime)\n",
    "\n",
    "dGf = np.array(dGf)\n",
    "sum(~np.isnan(dGf))"
   ]
  },
  {
   "cell_type": "code",
   "execution_count": 8,
   "metadata": {},
   "outputs": [],
   "source": [
    "dGf_df = pd.DataFrame(dGf, columns=['transformed standard dGf', 'SD'], index=[met.id for met in recon3d.metabolites])\n",
    "#dGf_df.to_csv('../data/Recon3D/Recon3D_standard_dGf_dGbyG.csv')"
   ]
  },
  {
   "cell_type": "code",
   "execution_count": 9,
   "metadata": {},
   "outputs": [
    {
     "name": "stderr",
     "output_type": "stream",
     "text": [
      "100%|██████████| 13543/13543 [01:11<00:00, 188.35it/s]\n"
     ]
    },
    {
     "data": {
      "text/plain": [
       "array([9626, 9626])"
      ]
     },
     "execution_count": 9,
     "metadata": {},
     "output_type": "execute_result"
    }
   ],
   "source": [
    "dGr = []\n",
    "for rxn in tqdm(recon3d.reactions):\n",
    "    rxn_dict = dict([(met.compound, coeff) for met, coeff in rxn.metabolites.items()])\n",
    "    r = Reaction(rxn_dict)\n",
    "    dGr.append(r.transformed_standard_dGr_prime)\n",
    "\n",
    "dGr = np.array(dGr)\n",
    "sum(~np.isnan(dGr))"
   ]
  },
  {
   "cell_type": "code",
   "execution_count": 10,
   "metadata": {},
   "outputs": [],
   "source": [
    "dGr_df = pd.DataFrame(dGr, columns=['transformed standard dGr', 'SD'], index=[rxn.id for rxn in recon3d.reactions])\n",
    "#dGr_df.to_csv('../data/Recon3D/Recon3D_standard_dGr_dGbyG.csv')"
   ]
  },
  {
   "cell_type": "code",
   "execution_count": 18,
   "metadata": {},
   "outputs": [
    {
     "data": {
      "text/plain": [
       "(3451, 4140, 0.8335748792270531)"
      ]
     },
     "execution_count": 18,
     "metadata": {},
     "output_type": "execute_result"
    }
   ],
   "source": [
    "metNoComp = {}\n",
    "for met in recon3d.metabolites:\n",
    "    if metNoComp.get(met.id[:-3], None) is None:\n",
    "        metNoComp[met.id[:-3]] = met.compound.mol\n",
    "sum([x is not None for x in metNoComp.values()]), len(metNoComp), \\\n",
    "sum([x is not None for x in metNoComp.values()])/len(metNoComp)"
   ]
  },
  {
   "cell_type": "code",
   "execution_count": null,
   "metadata": {},
   "outputs": [],
   "source": []
  },
  {
   "cell_type": "markdown",
   "metadata": {},
   "source": [
    "### 2. Predicting standard Gibbs energy for Human1"
   ]
  },
  {
   "cell_type": "code",
   "execution_count": 19,
   "metadata": {},
   "outputs": [],
   "source": [
    "Human_GEM_path = \"../../Human-GEM\"\n",
    "\n",
    "# Read model and patch it\n",
    "human1 = cobra.io.read_sbml_model(os.path.join(Human_GEM_path, \"model/Human-GEM.xml\"))\n",
    "human1.metabolites.get_by_id('MAM01935e').annotation['kegg.compound'] = 'C02483'\n",
    "\n",
    "metabolites_df = pd.read_csv(os.path.join(Human_GEM_path, \"model/metabolites.tsv\"), sep='\\t')\n",
    "reactions_df = pd.read_csv(os.path.join(Human_GEM_path, \"model/reactions.tsv\"), sep='\\t')\n",
    "\n",
    "rxns_df = reactions_df.set_index('rxns', inplace=False)\n",
    "mets_df = metabolites_df.set_index('mets', inplace=False)"
   ]
  },
  {
   "cell_type": "code",
   "execution_count": 20,
   "metadata": {},
   "outputs": [
    {
     "data": {
      "text/plain": [
       "{'bigg.metabolite',\n",
       " 'chebi',\n",
       " 'hmdb',\n",
       " 'inchi',\n",
       " 'kegg.compound',\n",
       " 'lipidmaps',\n",
       " 'metanetx.chemical',\n",
       " 'pubchem.compound',\n",
       " 'sbo',\n",
       " 'vmhmetabolite'}"
      ]
     },
     "execution_count": 20,
     "metadata": {},
     "output_type": "execute_result"
    }
   ],
   "source": [
    "IDs = set({})\n",
    "for met in human1.metabolites:\n",
    "    for key, value in met.annotation.items():\n",
    "        IDs |= set([key])\n",
    "IDs"
   ]
  },
  {
   "cell_type": "code",
   "execution_count": 21,
   "metadata": {},
   "outputs": [
    {
     "data": {
      "text/plain": [
       "7495"
      ]
     },
     "execution_count": 21,
     "metadata": {},
     "output_type": "execute_result"
    }
   ],
   "source": [
    "mols_dict = {}\n",
    "# obtain a list of compound objects using `get_compound`\n",
    "for met in human1.metabolites:\n",
    "    kegg = met.annotation.get('kegg.compound')\n",
    "    chebi = met.annotation.get('chebi')\n",
    "    hmdb = met.annotation.get('hmdb')\n",
    "    recon3d_id = mets_df.loc[met.id,'metRecon3DID'] if pd.notna(mets_df.loc[met.id,'metRecon3DID']) else None\n",
    "    metanetx = met.annotation.get('metanetx.chemical')\n",
    "    lipidmaps = met.annotation.get('lipidmaps')\n",
    "    inchi = met.annotation.get('inchi')\n",
    "    \n",
    "    mol = None\n",
    "    \n",
    "    if (mol is None) and inchi:\n",
    "        mol = to_mol(inchi, 'inchi')\n",
    "        pass\n",
    "    if (mol is None) and kegg:\n",
    "        mol = to_mol(kegg, \"kegg\")\n",
    "        pass\n",
    "    if (mol is None) and recon3d_id:\n",
    "        mol = to_mol(recon3d_id, \"recon3d\")\n",
    "        pass\n",
    "    if (mol is None) and chebi:\n",
    "        chebi = chebi[0] if type(chebi)==list else chebi\n",
    "        mol = to_mol(chebi, \"chebi\")\n",
    "        pass\n",
    "    if (mol is None) and hmdb:\n",
    "        hmdb = hmdb[0] if type(hmdb)==list else hmdb\n",
    "        mol = to_mol(hmdb, \"hmdb\")\n",
    "        pass\n",
    "    if (mol is None) and metanetx:\n",
    "        metanetx = metanetx[0] if type(metanetx)==list else metanetx\n",
    "        mol = to_mol(metanetx, \"metanetx\")\n",
    "        pass\n",
    "    if (mol is None) and lipidmaps:\n",
    "        lipidmaps = lipidmaps[0] if type(lipidmaps)==list else lipidmaps\n",
    "        mol = to_mol(lipidmaps, \"lipidmaps\")\n",
    "        pass\n",
    "\n",
    "    mols_dict[met.id] = mol\n",
    "\n",
    "    met.met = met.id\n",
    "    met.kegg = kegg\n",
    "    met.chebi = chebi\n",
    "    met.hmdb = hmdb\n",
    "    met.recon3d = recon3d_id\n",
    "    met.metanetx = metanetx\n",
    "    met.lipidmaps = lipidmaps\n",
    "    met.inchi = inchi\n",
    "    met.mol = mol\n",
    "    met.compound = Compound(mol,)\n",
    "    met.compound.condition = conditions[met.compartment]\n",
    "    \n",
    "sum([x is not None for x in np.array(list(mols_dict.values()))])"
   ]
  },
  {
   "cell_type": "code",
   "execution_count": 38,
   "metadata": {},
   "outputs": [
    {
     "name": "stderr",
     "output_type": "stream",
     "text": [
      "100%|██████████| 8456/8456 [10:52<00:00, 12.96it/s] \n"
     ]
    },
    {
     "data": {
      "text/plain": [
       "array([7495, 7495])"
      ]
     },
     "execution_count": 38,
     "metadata": {},
     "output_type": "execute_result"
    }
   ],
   "source": [
    "dGf = []\n",
    "for met in tqdm(human1.metabolites):\n",
    "    dGf.append(met.compound.transformed_standard_dGf_prime)\n",
    "\n",
    "dGf = np.array(dGf)\n",
    "sum(~np.isnan(dGf))"
   ]
  },
  {
   "cell_type": "code",
   "execution_count": 39,
   "metadata": {},
   "outputs": [],
   "source": [
    "dGf_df = pd.DataFrame(dGf, columns=['transformed standard dGf', 'SD'], index=[met.id for met in human1.metabolites])\n",
    "#dGf_df.to_csv('../data/Human1/Human1_standard_dGf_dGbyG.csv')"
   ]
  },
  {
   "cell_type": "code",
   "execution_count": 40,
   "metadata": {},
   "outputs": [
    {
     "name": "stderr",
     "output_type": "stream",
     "text": [
      "100%|██████████| 12995/12995 [01:24<00:00, 152.97it/s]\n"
     ]
    },
    {
     "data": {
      "text/plain": [
       "array([9697, 9697])"
      ]
     },
     "execution_count": 40,
     "metadata": {},
     "output_type": "execute_result"
    }
   ],
   "source": [
    "dGr = []\n",
    "for rxn in tqdm(human1.reactions):\n",
    "    rxn_dict = dict([(met.compound, coeff) for met, coeff in rxn.metabolites.items()])\n",
    "    r = Reaction(rxn_dict)\n",
    "    dGr.append(r.transformed_standard_dGr_prime)\n",
    "\n",
    "dGr = np.array(dGr)\n",
    "sum(~np.isnan(dGr))"
   ]
  },
  {
   "cell_type": "code",
   "execution_count": 22,
   "metadata": {},
   "outputs": [],
   "source": [
    "dGr_df = pd.DataFrame(dGr, columns=['transformed standard dGr', 'SD'])\n",
    "#dGr_df.to_csv('../data/Human1/Human1_standard_dGr_dGbyG.csv')"
   ]
  },
  {
   "cell_type": "code",
   "execution_count": 63,
   "metadata": {},
   "outputs": [
    {
     "data": {
      "text/plain": [
       "(3514, 4156, 0.8455245428296438)"
      ]
     },
     "execution_count": 63,
     "metadata": {},
     "output_type": "execute_result"
    }
   ],
   "source": [
    "metNoComp = {}\n",
    "for met in human1.metabolites:\n",
    "    if metNoComp.get(met.id[:-1], None) is None:\n",
    "        metNoComp[met.id[:-1]] = met.compound.mol\n",
    "sum([x is not None for x in metNoComp.values()]), len(metNoComp), \\\n",
    "sum([x is not None for x in metNoComp.values()])/len(metNoComp)"
   ]
  },
  {
   "cell_type": "code",
   "execution_count": null,
   "metadata": {},
   "outputs": [],
   "source": []
  }
 ],
 "metadata": {
  "kernelspec": {
   "display_name": "TFBA",
   "language": "python",
   "name": "python3"
  },
  "language_info": {
   "codemirror_mode": {
    "name": "ipython",
    "version": 3
   },
   "file_extension": ".py",
   "mimetype": "text/x-python",
   "name": "python",
   "nbconvert_exporter": "python",
   "pygments_lexer": "ipython3",
   "version": "3.12.2"
  }
 },
 "nbformat": 4,
 "nbformat_minor": 2
}
