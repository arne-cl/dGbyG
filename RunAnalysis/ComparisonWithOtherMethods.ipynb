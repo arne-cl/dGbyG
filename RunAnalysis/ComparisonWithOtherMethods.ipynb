{
 "cells": [
  {
   "cell_type": "code",
   "execution_count": 1,
   "metadata": {},
   "outputs": [],
   "source": [
    "import os\n",
    "import numpy as np\n",
    "import pandas as pd\n",
    "\n",
    "import matplotlib.pyplot as plt\n",
    "\n",
    "from dGbyG.utils.custom_tools import rapid_process_result, rapid_linear_reg\n",
    "from dGbyG.config import train_data_path"
   ]
  },
  {
   "cell_type": "code",
   "execution_count": null,
   "metadata": {},
   "outputs": [],
   "source": []
  },
  {
   "cell_type": "markdown",
   "metadata": {},
   "source": [
    "Reading the 10-fold cross validation results data of dGbyG"
   ]
  },
  {
   "cell_type": "code",
   "execution_count": 2,
   "metadata": {},
   "outputs": [],
   "source": [
    "TrainingData_df = pd.read_csv(train_data_path)\n",
    "is_rxn = np.array([' = ' in r for r in TrainingData_df.loc[:,'reaction']])\n",
    "real_r = TrainingData_df.loc[:,'standard_dg_prime'].to_numpy().reshape(-1)\n",
    "mean_std = TrainingData_df.loc[:,'std'].mean()\n",
    "SEM = TrainingData_df.loc[:,'SEM'].to_numpy()\n",
    "\n",
    "Scale = []\n",
    "for n, sem in zip(TrainingData_df.loc[:,'n'], TrainingData_df.loc[:,'SEM']):\n",
    "    scale = mean_std if np.isnan(sem) else (sem**2 + mean_std**2/n)**0.5\n",
    "    Scale.append(scale)\n",
    "Scale = np.array(Scale)\n",
    "\n",
    "results_dir = '../data/results_data/cross_validation_results'\n",
    "Loss = []\n",
    "Results = []\n",
    "Final_p = []\n",
    "R = []\n",
    "for n in range(0,100):\n",
    "    name = '10_fold_cross_validation_with_random_dG_'+str(n)\n",
    "    loss = np.load(os.path.join(results_dir, name+'.npy')).mean(axis=0)\n",
    "    res = pd.read_csv(os.path.join(results_dir, name+'.csv'), index_col=0)\n",
    "    idx = np.argmin(loss)\n",
    "\n",
    "    Loss.append(loss)\n",
    "    Results.append(res)\n",
    "    Final_p.append(res.loc[:,str(idx)].to_numpy())\n",
    "    R.append(res['r'].to_numpy())\n",
    "\n",
    "Loss = np.array(Loss)\n",
    "R = np.array(R)\n",
    "Final_p = np.array(Final_p)\n",
    "\n",
    "p = Final_p.mean(axis=0)\n",
    "ae = np.abs(p - real_r)"
   ]
  },
  {
   "cell_type": "markdown",
   "metadata": {},
   "source": [
    "Reading the cross validation results data of CC method and AF method"
   ]
  },
  {
   "cell_type": "code",
   "execution_count": null,
   "metadata": {},
   "outputs": [],
   "source": []
  },
  {
   "cell_type": "code",
   "execution_count": null,
   "metadata": {},
   "outputs": [],
   "source": []
  },
  {
   "cell_type": "markdown",
   "metadata": {},
   "source": []
  },
  {
   "cell_type": "code",
   "execution_count": null,
   "metadata": {},
   "outputs": [],
   "source": []
  }
 ],
 "metadata": {
  "kernelspec": {
   "display_name": "dGbyG",
   "language": "python",
   "name": "python3"
  },
  "language_info": {
   "codemirror_mode": {
    "name": "ipython",
    "version": 3
   },
   "file_extension": ".py",
   "mimetype": "text/x-python",
   "name": "python",
   "nbconvert_exporter": "python",
   "pygments_lexer": "ipython3",
   "version": "3.9.16"
  },
  "orig_nbformat": 4
 },
 "nbformat": 4,
 "nbformat_minor": 2
}
